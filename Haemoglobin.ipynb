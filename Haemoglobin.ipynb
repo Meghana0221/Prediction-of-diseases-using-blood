{
  "nbformat": 4,
  "nbformat_minor": 0,
  "metadata": {
    "colab": {
      "provenance": []
    },
    "kernelspec": {
      "name": "python3",
      "display_name": "Python 3"
    },
    "language_info": {
      "name": "python"
    }
  },
  "cells": [
    {
      "cell_type": "markdown",
      "source": [
        "Artificial Neural Network\n",
        "\n",
        "Importing the dependencies"
      ],
      "metadata": {
        "id": "eskL_swy7Vxj"
      }
    },
    {
      "cell_type": "code",
      "execution_count": null,
      "metadata": {
        "id": "tkDG1nyQ7ONc"
      },
      "outputs": [],
      "source": [
        "import pandas as pd\n",
        "import numpy as np\n",
        "from sklearn.model_selection import train_test_split\n",
        "import tensorflow as tf"
      ]
    },
    {
      "cell_type": "markdown",
      "source": [
        "Loading the CSV file into data frame using pandas"
      ],
      "metadata": {
        "id": "2Y5cL8KMbK5A"
      }
    },
    {
      "cell_type": "code",
      "source": [
        "haemo_df = pd.read_csv('/content/Haemoglobin.csv')\n",
        "haemo_df"
      ],
      "metadata": {
        "colab": {
          "base_uri": "https://localhost:8080/",
          "height": 424
        },
        "id": "PYnbsxtA7dXX",
        "outputId": "623e21eb-1901-4515-c65c-d9556e6bcc57"
      },
      "execution_count": null,
      "outputs": [
        {
          "output_type": "execute_result",
          "data": {
            "text/plain": [
              "     Age Sex  Haemoglobin(g/dl)  Normal   R.B.C count(Mill/Cumm)  \\\n",
              "0     33   M               14.4       13                    4.79   \n",
              "1     60   F               10.5       11                    4.39   \n",
              "2     25   F               13.0       11                    4.30   \n",
              "3     58   F               11.4       11                    3.96   \n",
              "4     43   M               18.0       13                    5.89   \n",
              "..   ...  ..                ...      ...                     ...   \n",
              "96    31   M               15.6       13                    5.17   \n",
              "97    50   M               16.6       13                    5.56   \n",
              "98    55   F               11.4       11                    4.16   \n",
              "99    15   M               15.4       13                    5.60   \n",
              "100   40   M               12.6       13                    3.88   \n",
              "\n",
              "     W.B.C count(/Cumm)  Target/Outcome  \n",
              "0                  5560               0  \n",
              "1                  7260               1  \n",
              "2                 11990               0  \n",
              "3                  4560               0  \n",
              "4                 15000               0  \n",
              "..                  ...             ...  \n",
              "96                 7430               0  \n",
              "97                 6650               0  \n",
              "98                 7000               0  \n",
              "99                 3870               0  \n",
              "100                4020               0  \n",
              "\n",
              "[101 rows x 7 columns]"
            ],
            "text/html": [
              "\n",
              "  <div id=\"df-e7779f2b-fe89-48e4-a977-cdd45af5d112\">\n",
              "    <div class=\"colab-df-container\">\n",
              "      <div>\n",
              "<style scoped>\n",
              "    .dataframe tbody tr th:only-of-type {\n",
              "        vertical-align: middle;\n",
              "    }\n",
              "\n",
              "    .dataframe tbody tr th {\n",
              "        vertical-align: top;\n",
              "    }\n",
              "\n",
              "    .dataframe thead th {\n",
              "        text-align: right;\n",
              "    }\n",
              "</style>\n",
              "<table border=\"1\" class=\"dataframe\">\n",
              "  <thead>\n",
              "    <tr style=\"text-align: right;\">\n",
              "      <th></th>\n",
              "      <th>Age</th>\n",
              "      <th>Sex</th>\n",
              "      <th>Haemoglobin(g/dl)</th>\n",
              "      <th>Normal</th>\n",
              "      <th>R.B.C count(Mill/Cumm)</th>\n",
              "      <th>W.B.C count(/Cumm)</th>\n",
              "      <th>Target/Outcome</th>\n",
              "    </tr>\n",
              "  </thead>\n",
              "  <tbody>\n",
              "    <tr>\n",
              "      <th>0</th>\n",
              "      <td>33</td>\n",
              "      <td>M</td>\n",
              "      <td>14.4</td>\n",
              "      <td>13</td>\n",
              "      <td>4.79</td>\n",
              "      <td>5560</td>\n",
              "      <td>0</td>\n",
              "    </tr>\n",
              "    <tr>\n",
              "      <th>1</th>\n",
              "      <td>60</td>\n",
              "      <td>F</td>\n",
              "      <td>10.5</td>\n",
              "      <td>11</td>\n",
              "      <td>4.39</td>\n",
              "      <td>7260</td>\n",
              "      <td>1</td>\n",
              "    </tr>\n",
              "    <tr>\n",
              "      <th>2</th>\n",
              "      <td>25</td>\n",
              "      <td>F</td>\n",
              "      <td>13.0</td>\n",
              "      <td>11</td>\n",
              "      <td>4.30</td>\n",
              "      <td>11990</td>\n",
              "      <td>0</td>\n",
              "    </tr>\n",
              "    <tr>\n",
              "      <th>3</th>\n",
              "      <td>58</td>\n",
              "      <td>F</td>\n",
              "      <td>11.4</td>\n",
              "      <td>11</td>\n",
              "      <td>3.96</td>\n",
              "      <td>4560</td>\n",
              "      <td>0</td>\n",
              "    </tr>\n",
              "    <tr>\n",
              "      <th>4</th>\n",
              "      <td>43</td>\n",
              "      <td>M</td>\n",
              "      <td>18.0</td>\n",
              "      <td>13</td>\n",
              "      <td>5.89</td>\n",
              "      <td>15000</td>\n",
              "      <td>0</td>\n",
              "    </tr>\n",
              "    <tr>\n",
              "      <th>...</th>\n",
              "      <td>...</td>\n",
              "      <td>...</td>\n",
              "      <td>...</td>\n",
              "      <td>...</td>\n",
              "      <td>...</td>\n",
              "      <td>...</td>\n",
              "      <td>...</td>\n",
              "    </tr>\n",
              "    <tr>\n",
              "      <th>96</th>\n",
              "      <td>31</td>\n",
              "      <td>M</td>\n",
              "      <td>15.6</td>\n",
              "      <td>13</td>\n",
              "      <td>5.17</td>\n",
              "      <td>7430</td>\n",
              "      <td>0</td>\n",
              "    </tr>\n",
              "    <tr>\n",
              "      <th>97</th>\n",
              "      <td>50</td>\n",
              "      <td>M</td>\n",
              "      <td>16.6</td>\n",
              "      <td>13</td>\n",
              "      <td>5.56</td>\n",
              "      <td>6650</td>\n",
              "      <td>0</td>\n",
              "    </tr>\n",
              "    <tr>\n",
              "      <th>98</th>\n",
              "      <td>55</td>\n",
              "      <td>F</td>\n",
              "      <td>11.4</td>\n",
              "      <td>11</td>\n",
              "      <td>4.16</td>\n",
              "      <td>7000</td>\n",
              "      <td>0</td>\n",
              "    </tr>\n",
              "    <tr>\n",
              "      <th>99</th>\n",
              "      <td>15</td>\n",
              "      <td>M</td>\n",
              "      <td>15.4</td>\n",
              "      <td>13</td>\n",
              "      <td>5.60</td>\n",
              "      <td>3870</td>\n",
              "      <td>0</td>\n",
              "    </tr>\n",
              "    <tr>\n",
              "      <th>100</th>\n",
              "      <td>40</td>\n",
              "      <td>M</td>\n",
              "      <td>12.6</td>\n",
              "      <td>13</td>\n",
              "      <td>3.88</td>\n",
              "      <td>4020</td>\n",
              "      <td>0</td>\n",
              "    </tr>\n",
              "  </tbody>\n",
              "</table>\n",
              "<p>101 rows × 7 columns</p>\n",
              "</div>\n",
              "      <button class=\"colab-df-convert\" onclick=\"convertToInteractive('df-e7779f2b-fe89-48e4-a977-cdd45af5d112')\"\n",
              "              title=\"Convert this dataframe to an interactive table.\"\n",
              "              style=\"display:none;\">\n",
              "        \n",
              "  <svg xmlns=\"http://www.w3.org/2000/svg\" height=\"24px\"viewBox=\"0 0 24 24\"\n",
              "       width=\"24px\">\n",
              "    <path d=\"M0 0h24v24H0V0z\" fill=\"none\"/>\n",
              "    <path d=\"M18.56 5.44l.94 2.06.94-2.06 2.06-.94-2.06-.94-.94-2.06-.94 2.06-2.06.94zm-11 1L8.5 8.5l.94-2.06 2.06-.94-2.06-.94L8.5 2.5l-.94 2.06-2.06.94zm10 10l.94 2.06.94-2.06 2.06-.94-2.06-.94-.94-2.06-.94 2.06-2.06.94z\"/><path d=\"M17.41 7.96l-1.37-1.37c-.4-.4-.92-.59-1.43-.59-.52 0-1.04.2-1.43.59L10.3 9.45l-7.72 7.72c-.78.78-.78 2.05 0 2.83L4 21.41c.39.39.9.59 1.41.59.51 0 1.02-.2 1.41-.59l7.78-7.78 2.81-2.81c.8-.78.8-2.07 0-2.86zM5.41 20L4 18.59l7.72-7.72 1.47 1.35L5.41 20z\"/>\n",
              "  </svg>\n",
              "      </button>\n",
              "      \n",
              "  <style>\n",
              "    .colab-df-container {\n",
              "      display:flex;\n",
              "      flex-wrap:wrap;\n",
              "      gap: 12px;\n",
              "    }\n",
              "\n",
              "    .colab-df-convert {\n",
              "      background-color: #E8F0FE;\n",
              "      border: none;\n",
              "      border-radius: 50%;\n",
              "      cursor: pointer;\n",
              "      display: none;\n",
              "      fill: #1967D2;\n",
              "      height: 32px;\n",
              "      padding: 0 0 0 0;\n",
              "      width: 32px;\n",
              "    }\n",
              "\n",
              "    .colab-df-convert:hover {\n",
              "      background-color: #E2EBFA;\n",
              "      box-shadow: 0px 1px 2px rgba(60, 64, 67, 0.3), 0px 1px 3px 1px rgba(60, 64, 67, 0.15);\n",
              "      fill: #174EA6;\n",
              "    }\n",
              "\n",
              "    [theme=dark] .colab-df-convert {\n",
              "      background-color: #3B4455;\n",
              "      fill: #D2E3FC;\n",
              "    }\n",
              "\n",
              "    [theme=dark] .colab-df-convert:hover {\n",
              "      background-color: #434B5C;\n",
              "      box-shadow: 0px 1px 3px 1px rgba(0, 0, 0, 0.15);\n",
              "      filter: drop-shadow(0px 1px 2px rgba(0, 0, 0, 0.3));\n",
              "      fill: #FFFFFF;\n",
              "    }\n",
              "  </style>\n",
              "\n",
              "      <script>\n",
              "        const buttonEl =\n",
              "          document.querySelector('#df-e7779f2b-fe89-48e4-a977-cdd45af5d112 button.colab-df-convert');\n",
              "        buttonEl.style.display =\n",
              "          google.colab.kernel.accessAllowed ? 'block' : 'none';\n",
              "\n",
              "        async function convertToInteractive(key) {\n",
              "          const element = document.querySelector('#df-e7779f2b-fe89-48e4-a977-cdd45af5d112');\n",
              "          const dataTable =\n",
              "            await google.colab.kernel.invokeFunction('convertToInteractive',\n",
              "                                                     [key], {});\n",
              "          if (!dataTable) return;\n",
              "\n",
              "          const docLinkHtml = 'Like what you see? Visit the ' +\n",
              "            '<a target=\"_blank\" href=https://colab.research.google.com/notebooks/data_table.ipynb>data table notebook</a>'\n",
              "            + ' to learn more about interactive tables.';\n",
              "          element.innerHTML = '';\n",
              "          dataTable['output_type'] = 'display_data';\n",
              "          await google.colab.output.renderOutput(dataTable, element);\n",
              "          const docLink = document.createElement('div');\n",
              "          docLink.innerHTML = docLinkHtml;\n",
              "          element.appendChild(docLink);\n",
              "        }\n",
              "      </script>\n",
              "    </div>\n",
              "  </div>\n",
              "  "
            ]
          },
          "metadata": {},
          "execution_count": 2
        }
      ]
    },
    {
      "cell_type": "code",
      "source": [
        "print(haemo_df.columns)"
      ],
      "metadata": {
        "colab": {
          "base_uri": "https://localhost:8080/"
        },
        "id": "eMr59XLASbQ8",
        "outputId": "d72389b4-dc36-40da-be32-83bd11a51a59"
      },
      "execution_count": null,
      "outputs": [
        {
          "output_type": "stream",
          "name": "stdout",
          "text": [
            "Index(['Age', 'Sex', 'Haemoglobin(g/dl)', 'Normal ', 'R.B.C count(Mill/Cumm)',\n",
            "       'W.B.C count(/Cumm)', 'Target/Outcome'],\n",
            "      dtype='object')\n"
          ]
        }
      ]
    },
    {
      "cell_type": "code",
      "source": [
        "haemo_df['Sex'].replace('F', 0, inplace = True)\n",
        "haemo_df['Sex'].replace('M', 1, inplace = True)\n",
        "haemo_df"
      ],
      "metadata": {
        "colab": {
          "base_uri": "https://localhost:8080/",
          "height": 424
        },
        "id": "FvuxUnPM7o6W",
        "outputId": "d1643f28-754f-4951-c020-aac5b4462717"
      },
      "execution_count": null,
      "outputs": [
        {
          "output_type": "execute_result",
          "data": {
            "text/plain": [
              "     Age  Sex  Haemoglobin(g/dl)  Normal   R.B.C count(Mill/Cumm)  \\\n",
              "0     33    1               14.4       13                    4.79   \n",
              "1     60    0               10.5       11                    4.39   \n",
              "2     25    0               13.0       11                    4.30   \n",
              "3     58    0               11.4       11                    3.96   \n",
              "4     43    1               18.0       13                    5.89   \n",
              "..   ...  ...                ...      ...                     ...   \n",
              "96    31    1               15.6       13                    5.17   \n",
              "97    50    1               16.6       13                    5.56   \n",
              "98    55    0               11.4       11                    4.16   \n",
              "99    15    1               15.4       13                    5.60   \n",
              "100   40    1               12.6       13                    3.88   \n",
              "\n",
              "     W.B.C count(/Cumm)  Target/Outcome  \n",
              "0                  5560               0  \n",
              "1                  7260               1  \n",
              "2                 11990               0  \n",
              "3                  4560               0  \n",
              "4                 15000               0  \n",
              "..                  ...             ...  \n",
              "96                 7430               0  \n",
              "97                 6650               0  \n",
              "98                 7000               0  \n",
              "99                 3870               0  \n",
              "100                4020               0  \n",
              "\n",
              "[101 rows x 7 columns]"
            ],
            "text/html": [
              "\n",
              "  <div id=\"df-6db38f5f-1e41-4d8c-a3cf-109289c4053f\">\n",
              "    <div class=\"colab-df-container\">\n",
              "      <div>\n",
              "<style scoped>\n",
              "    .dataframe tbody tr th:only-of-type {\n",
              "        vertical-align: middle;\n",
              "    }\n",
              "\n",
              "    .dataframe tbody tr th {\n",
              "        vertical-align: top;\n",
              "    }\n",
              "\n",
              "    .dataframe thead th {\n",
              "        text-align: right;\n",
              "    }\n",
              "</style>\n",
              "<table border=\"1\" class=\"dataframe\">\n",
              "  <thead>\n",
              "    <tr style=\"text-align: right;\">\n",
              "      <th></th>\n",
              "      <th>Age</th>\n",
              "      <th>Sex</th>\n",
              "      <th>Haemoglobin(g/dl)</th>\n",
              "      <th>Normal</th>\n",
              "      <th>R.B.C count(Mill/Cumm)</th>\n",
              "      <th>W.B.C count(/Cumm)</th>\n",
              "      <th>Target/Outcome</th>\n",
              "    </tr>\n",
              "  </thead>\n",
              "  <tbody>\n",
              "    <tr>\n",
              "      <th>0</th>\n",
              "      <td>33</td>\n",
              "      <td>1</td>\n",
              "      <td>14.4</td>\n",
              "      <td>13</td>\n",
              "      <td>4.79</td>\n",
              "      <td>5560</td>\n",
              "      <td>0</td>\n",
              "    </tr>\n",
              "    <tr>\n",
              "      <th>1</th>\n",
              "      <td>60</td>\n",
              "      <td>0</td>\n",
              "      <td>10.5</td>\n",
              "      <td>11</td>\n",
              "      <td>4.39</td>\n",
              "      <td>7260</td>\n",
              "      <td>1</td>\n",
              "    </tr>\n",
              "    <tr>\n",
              "      <th>2</th>\n",
              "      <td>25</td>\n",
              "      <td>0</td>\n",
              "      <td>13.0</td>\n",
              "      <td>11</td>\n",
              "      <td>4.30</td>\n",
              "      <td>11990</td>\n",
              "      <td>0</td>\n",
              "    </tr>\n",
              "    <tr>\n",
              "      <th>3</th>\n",
              "      <td>58</td>\n",
              "      <td>0</td>\n",
              "      <td>11.4</td>\n",
              "      <td>11</td>\n",
              "      <td>3.96</td>\n",
              "      <td>4560</td>\n",
              "      <td>0</td>\n",
              "    </tr>\n",
              "    <tr>\n",
              "      <th>4</th>\n",
              "      <td>43</td>\n",
              "      <td>1</td>\n",
              "      <td>18.0</td>\n",
              "      <td>13</td>\n",
              "      <td>5.89</td>\n",
              "      <td>15000</td>\n",
              "      <td>0</td>\n",
              "    </tr>\n",
              "    <tr>\n",
              "      <th>...</th>\n",
              "      <td>...</td>\n",
              "      <td>...</td>\n",
              "      <td>...</td>\n",
              "      <td>...</td>\n",
              "      <td>...</td>\n",
              "      <td>...</td>\n",
              "      <td>...</td>\n",
              "    </tr>\n",
              "    <tr>\n",
              "      <th>96</th>\n",
              "      <td>31</td>\n",
              "      <td>1</td>\n",
              "      <td>15.6</td>\n",
              "      <td>13</td>\n",
              "      <td>5.17</td>\n",
              "      <td>7430</td>\n",
              "      <td>0</td>\n",
              "    </tr>\n",
              "    <tr>\n",
              "      <th>97</th>\n",
              "      <td>50</td>\n",
              "      <td>1</td>\n",
              "      <td>16.6</td>\n",
              "      <td>13</td>\n",
              "      <td>5.56</td>\n",
              "      <td>6650</td>\n",
              "      <td>0</td>\n",
              "    </tr>\n",
              "    <tr>\n",
              "      <th>98</th>\n",
              "      <td>55</td>\n",
              "      <td>0</td>\n",
              "      <td>11.4</td>\n",
              "      <td>11</td>\n",
              "      <td>4.16</td>\n",
              "      <td>7000</td>\n",
              "      <td>0</td>\n",
              "    </tr>\n",
              "    <tr>\n",
              "      <th>99</th>\n",
              "      <td>15</td>\n",
              "      <td>1</td>\n",
              "      <td>15.4</td>\n",
              "      <td>13</td>\n",
              "      <td>5.60</td>\n",
              "      <td>3870</td>\n",
              "      <td>0</td>\n",
              "    </tr>\n",
              "    <tr>\n",
              "      <th>100</th>\n",
              "      <td>40</td>\n",
              "      <td>1</td>\n",
              "      <td>12.6</td>\n",
              "      <td>13</td>\n",
              "      <td>3.88</td>\n",
              "      <td>4020</td>\n",
              "      <td>0</td>\n",
              "    </tr>\n",
              "  </tbody>\n",
              "</table>\n",
              "<p>101 rows × 7 columns</p>\n",
              "</div>\n",
              "      <button class=\"colab-df-convert\" onclick=\"convertToInteractive('df-6db38f5f-1e41-4d8c-a3cf-109289c4053f')\"\n",
              "              title=\"Convert this dataframe to an interactive table.\"\n",
              "              style=\"display:none;\">\n",
              "        \n",
              "  <svg xmlns=\"http://www.w3.org/2000/svg\" height=\"24px\"viewBox=\"0 0 24 24\"\n",
              "       width=\"24px\">\n",
              "    <path d=\"M0 0h24v24H0V0z\" fill=\"none\"/>\n",
              "    <path d=\"M18.56 5.44l.94 2.06.94-2.06 2.06-.94-2.06-.94-.94-2.06-.94 2.06-2.06.94zm-11 1L8.5 8.5l.94-2.06 2.06-.94-2.06-.94L8.5 2.5l-.94 2.06-2.06.94zm10 10l.94 2.06.94-2.06 2.06-.94-2.06-.94-.94-2.06-.94 2.06-2.06.94z\"/><path d=\"M17.41 7.96l-1.37-1.37c-.4-.4-.92-.59-1.43-.59-.52 0-1.04.2-1.43.59L10.3 9.45l-7.72 7.72c-.78.78-.78 2.05 0 2.83L4 21.41c.39.39.9.59 1.41.59.51 0 1.02-.2 1.41-.59l7.78-7.78 2.81-2.81c.8-.78.8-2.07 0-2.86zM5.41 20L4 18.59l7.72-7.72 1.47 1.35L5.41 20z\"/>\n",
              "  </svg>\n",
              "      </button>\n",
              "      \n",
              "  <style>\n",
              "    .colab-df-container {\n",
              "      display:flex;\n",
              "      flex-wrap:wrap;\n",
              "      gap: 12px;\n",
              "    }\n",
              "\n",
              "    .colab-df-convert {\n",
              "      background-color: #E8F0FE;\n",
              "      border: none;\n",
              "      border-radius: 50%;\n",
              "      cursor: pointer;\n",
              "      display: none;\n",
              "      fill: #1967D2;\n",
              "      height: 32px;\n",
              "      padding: 0 0 0 0;\n",
              "      width: 32px;\n",
              "    }\n",
              "\n",
              "    .colab-df-convert:hover {\n",
              "      background-color: #E2EBFA;\n",
              "      box-shadow: 0px 1px 2px rgba(60, 64, 67, 0.3), 0px 1px 3px 1px rgba(60, 64, 67, 0.15);\n",
              "      fill: #174EA6;\n",
              "    }\n",
              "\n",
              "    [theme=dark] .colab-df-convert {\n",
              "      background-color: #3B4455;\n",
              "      fill: #D2E3FC;\n",
              "    }\n",
              "\n",
              "    [theme=dark] .colab-df-convert:hover {\n",
              "      background-color: #434B5C;\n",
              "      box-shadow: 0px 1px 3px 1px rgba(0, 0, 0, 0.15);\n",
              "      filter: drop-shadow(0px 1px 2px rgba(0, 0, 0, 0.3));\n",
              "      fill: #FFFFFF;\n",
              "    }\n",
              "  </style>\n",
              "\n",
              "      <script>\n",
              "        const buttonEl =\n",
              "          document.querySelector('#df-6db38f5f-1e41-4d8c-a3cf-109289c4053f button.colab-df-convert');\n",
              "        buttonEl.style.display =\n",
              "          google.colab.kernel.accessAllowed ? 'block' : 'none';\n",
              "\n",
              "        async function convertToInteractive(key) {\n",
              "          const element = document.querySelector('#df-6db38f5f-1e41-4d8c-a3cf-109289c4053f');\n",
              "          const dataTable =\n",
              "            await google.colab.kernel.invokeFunction('convertToInteractive',\n",
              "                                                     [key], {});\n",
              "          if (!dataTable) return;\n",
              "\n",
              "          const docLinkHtml = 'Like what you see? Visit the ' +\n",
              "            '<a target=\"_blank\" href=https://colab.research.google.com/notebooks/data_table.ipynb>data table notebook</a>'\n",
              "            + ' to learn more about interactive tables.';\n",
              "          element.innerHTML = '';\n",
              "          dataTable['output_type'] = 'display_data';\n",
              "          await google.colab.output.renderOutput(dataTable, element);\n",
              "          const docLink = document.createElement('div');\n",
              "          docLink.innerHTML = docLinkHtml;\n",
              "          element.appendChild(docLink);\n",
              "        }\n",
              "      </script>\n",
              "    </div>\n",
              "  </div>\n",
              "  "
            ]
          },
          "metadata": {},
          "execution_count": 4
        }
      ]
    },
    {
      "cell_type": "markdown",
      "source": [
        "Understanding the data"
      ],
      "metadata": {
        "id": "cgHDcU8qbRgE"
      }
    },
    {
      "cell_type": "code",
      "source": [
        "haemo_df.shape"
      ],
      "metadata": {
        "colab": {
          "base_uri": "https://localhost:8080/"
        },
        "id": "Yi44qLqh7tA_",
        "outputId": "fbae4ed3-e01d-4b6f-9422-aefb2a26e68a"
      },
      "execution_count": null,
      "outputs": [
        {
          "output_type": "execute_result",
          "data": {
            "text/plain": [
              "(101, 7)"
            ]
          },
          "metadata": {},
          "execution_count": 5
        }
      ]
    },
    {
      "cell_type": "code",
      "source": [
        "haemo_df.head()"
      ],
      "metadata": {
        "colab": {
          "base_uri": "https://localhost:8080/",
          "height": 206
        },
        "id": "vup4UPIZ7wqr",
        "outputId": "ea3893c2-f7fa-4f09-b308-5d799e7db929"
      },
      "execution_count": null,
      "outputs": [
        {
          "output_type": "execute_result",
          "data": {
            "text/plain": [
              "   Age  Sex  Haemoglobin(g/dl)  Normal   R.B.C count(Mill/Cumm)  \\\n",
              "0   33    1               14.4       13                    4.79   \n",
              "1   60    0               10.5       11                    4.39   \n",
              "2   25    0               13.0       11                    4.30   \n",
              "3   58    0               11.4       11                    3.96   \n",
              "4   43    1               18.0       13                    5.89   \n",
              "\n",
              "   W.B.C count(/Cumm)  Target/Outcome  \n",
              "0                5560               0  \n",
              "1                7260               1  \n",
              "2               11990               0  \n",
              "3                4560               0  \n",
              "4               15000               0  "
            ],
            "text/html": [
              "\n",
              "  <div id=\"df-c7bb9337-f9c1-415b-866f-b7fac45fec0e\">\n",
              "    <div class=\"colab-df-container\">\n",
              "      <div>\n",
              "<style scoped>\n",
              "    .dataframe tbody tr th:only-of-type {\n",
              "        vertical-align: middle;\n",
              "    }\n",
              "\n",
              "    .dataframe tbody tr th {\n",
              "        vertical-align: top;\n",
              "    }\n",
              "\n",
              "    .dataframe thead th {\n",
              "        text-align: right;\n",
              "    }\n",
              "</style>\n",
              "<table border=\"1\" class=\"dataframe\">\n",
              "  <thead>\n",
              "    <tr style=\"text-align: right;\">\n",
              "      <th></th>\n",
              "      <th>Age</th>\n",
              "      <th>Sex</th>\n",
              "      <th>Haemoglobin(g/dl)</th>\n",
              "      <th>Normal</th>\n",
              "      <th>R.B.C count(Mill/Cumm)</th>\n",
              "      <th>W.B.C count(/Cumm)</th>\n",
              "      <th>Target/Outcome</th>\n",
              "    </tr>\n",
              "  </thead>\n",
              "  <tbody>\n",
              "    <tr>\n",
              "      <th>0</th>\n",
              "      <td>33</td>\n",
              "      <td>1</td>\n",
              "      <td>14.4</td>\n",
              "      <td>13</td>\n",
              "      <td>4.79</td>\n",
              "      <td>5560</td>\n",
              "      <td>0</td>\n",
              "    </tr>\n",
              "    <tr>\n",
              "      <th>1</th>\n",
              "      <td>60</td>\n",
              "      <td>0</td>\n",
              "      <td>10.5</td>\n",
              "      <td>11</td>\n",
              "      <td>4.39</td>\n",
              "      <td>7260</td>\n",
              "      <td>1</td>\n",
              "    </tr>\n",
              "    <tr>\n",
              "      <th>2</th>\n",
              "      <td>25</td>\n",
              "      <td>0</td>\n",
              "      <td>13.0</td>\n",
              "      <td>11</td>\n",
              "      <td>4.30</td>\n",
              "      <td>11990</td>\n",
              "      <td>0</td>\n",
              "    </tr>\n",
              "    <tr>\n",
              "      <th>3</th>\n",
              "      <td>58</td>\n",
              "      <td>0</td>\n",
              "      <td>11.4</td>\n",
              "      <td>11</td>\n",
              "      <td>3.96</td>\n",
              "      <td>4560</td>\n",
              "      <td>0</td>\n",
              "    </tr>\n",
              "    <tr>\n",
              "      <th>4</th>\n",
              "      <td>43</td>\n",
              "      <td>1</td>\n",
              "      <td>18.0</td>\n",
              "      <td>13</td>\n",
              "      <td>5.89</td>\n",
              "      <td>15000</td>\n",
              "      <td>0</td>\n",
              "    </tr>\n",
              "  </tbody>\n",
              "</table>\n",
              "</div>\n",
              "      <button class=\"colab-df-convert\" onclick=\"convertToInteractive('df-c7bb9337-f9c1-415b-866f-b7fac45fec0e')\"\n",
              "              title=\"Convert this dataframe to an interactive table.\"\n",
              "              style=\"display:none;\">\n",
              "        \n",
              "  <svg xmlns=\"http://www.w3.org/2000/svg\" height=\"24px\"viewBox=\"0 0 24 24\"\n",
              "       width=\"24px\">\n",
              "    <path d=\"M0 0h24v24H0V0z\" fill=\"none\"/>\n",
              "    <path d=\"M18.56 5.44l.94 2.06.94-2.06 2.06-.94-2.06-.94-.94-2.06-.94 2.06-2.06.94zm-11 1L8.5 8.5l.94-2.06 2.06-.94-2.06-.94L8.5 2.5l-.94 2.06-2.06.94zm10 10l.94 2.06.94-2.06 2.06-.94-2.06-.94-.94-2.06-.94 2.06-2.06.94z\"/><path d=\"M17.41 7.96l-1.37-1.37c-.4-.4-.92-.59-1.43-.59-.52 0-1.04.2-1.43.59L10.3 9.45l-7.72 7.72c-.78.78-.78 2.05 0 2.83L4 21.41c.39.39.9.59 1.41.59.51 0 1.02-.2 1.41-.59l7.78-7.78 2.81-2.81c.8-.78.8-2.07 0-2.86zM5.41 20L4 18.59l7.72-7.72 1.47 1.35L5.41 20z\"/>\n",
              "  </svg>\n",
              "      </button>\n",
              "      \n",
              "  <style>\n",
              "    .colab-df-container {\n",
              "      display:flex;\n",
              "      flex-wrap:wrap;\n",
              "      gap: 12px;\n",
              "    }\n",
              "\n",
              "    .colab-df-convert {\n",
              "      background-color: #E8F0FE;\n",
              "      border: none;\n",
              "      border-radius: 50%;\n",
              "      cursor: pointer;\n",
              "      display: none;\n",
              "      fill: #1967D2;\n",
              "      height: 32px;\n",
              "      padding: 0 0 0 0;\n",
              "      width: 32px;\n",
              "    }\n",
              "\n",
              "    .colab-df-convert:hover {\n",
              "      background-color: #E2EBFA;\n",
              "      box-shadow: 0px 1px 2px rgba(60, 64, 67, 0.3), 0px 1px 3px 1px rgba(60, 64, 67, 0.15);\n",
              "      fill: #174EA6;\n",
              "    }\n",
              "\n",
              "    [theme=dark] .colab-df-convert {\n",
              "      background-color: #3B4455;\n",
              "      fill: #D2E3FC;\n",
              "    }\n",
              "\n",
              "    [theme=dark] .colab-df-convert:hover {\n",
              "      background-color: #434B5C;\n",
              "      box-shadow: 0px 1px 3px 1px rgba(0, 0, 0, 0.15);\n",
              "      filter: drop-shadow(0px 1px 2px rgba(0, 0, 0, 0.3));\n",
              "      fill: #FFFFFF;\n",
              "    }\n",
              "  </style>\n",
              "\n",
              "      <script>\n",
              "        const buttonEl =\n",
              "          document.querySelector('#df-c7bb9337-f9c1-415b-866f-b7fac45fec0e button.colab-df-convert');\n",
              "        buttonEl.style.display =\n",
              "          google.colab.kernel.accessAllowed ? 'block' : 'none';\n",
              "\n",
              "        async function convertToInteractive(key) {\n",
              "          const element = document.querySelector('#df-c7bb9337-f9c1-415b-866f-b7fac45fec0e');\n",
              "          const dataTable =\n",
              "            await google.colab.kernel.invokeFunction('convertToInteractive',\n",
              "                                                     [key], {});\n",
              "          if (!dataTable) return;\n",
              "\n",
              "          const docLinkHtml = 'Like what you see? Visit the ' +\n",
              "            '<a target=\"_blank\" href=https://colab.research.google.com/notebooks/data_table.ipynb>data table notebook</a>'\n",
              "            + ' to learn more about interactive tables.';\n",
              "          element.innerHTML = '';\n",
              "          dataTable['output_type'] = 'display_data';\n",
              "          await google.colab.output.renderOutput(dataTable, element);\n",
              "          const docLink = document.createElement('div');\n",
              "          docLink.innerHTML = docLinkHtml;\n",
              "          element.appendChild(docLink);\n",
              "        }\n",
              "      </script>\n",
              "    </div>\n",
              "  </div>\n",
              "  "
            ]
          },
          "metadata": {},
          "execution_count": 6
        }
      ]
    },
    {
      "cell_type": "code",
      "source": [
        "haemo_df.tail()"
      ],
      "metadata": {
        "colab": {
          "base_uri": "https://localhost:8080/",
          "height": 206
        },
        "id": "IeJ6m56l7y07",
        "outputId": "3886f582-9d87-4d74-c4e5-63cc40742429"
      },
      "execution_count": null,
      "outputs": [
        {
          "output_type": "execute_result",
          "data": {
            "text/plain": [
              "     Age  Sex  Haemoglobin(g/dl)  Normal   R.B.C count(Mill/Cumm)  \\\n",
              "96    31    1               15.6       13                    5.17   \n",
              "97    50    1               16.6       13                    5.56   \n",
              "98    55    0               11.4       11                    4.16   \n",
              "99    15    1               15.4       13                    5.60   \n",
              "100   40    1               12.6       13                    3.88   \n",
              "\n",
              "     W.B.C count(/Cumm)  Target/Outcome  \n",
              "96                 7430               0  \n",
              "97                 6650               0  \n",
              "98                 7000               0  \n",
              "99                 3870               0  \n",
              "100                4020               0  "
            ],
            "text/html": [
              "\n",
              "  <div id=\"df-d937c7dc-8ff6-4a50-bb0e-a449264b2f55\">\n",
              "    <div class=\"colab-df-container\">\n",
              "      <div>\n",
              "<style scoped>\n",
              "    .dataframe tbody tr th:only-of-type {\n",
              "        vertical-align: middle;\n",
              "    }\n",
              "\n",
              "    .dataframe tbody tr th {\n",
              "        vertical-align: top;\n",
              "    }\n",
              "\n",
              "    .dataframe thead th {\n",
              "        text-align: right;\n",
              "    }\n",
              "</style>\n",
              "<table border=\"1\" class=\"dataframe\">\n",
              "  <thead>\n",
              "    <tr style=\"text-align: right;\">\n",
              "      <th></th>\n",
              "      <th>Age</th>\n",
              "      <th>Sex</th>\n",
              "      <th>Haemoglobin(g/dl)</th>\n",
              "      <th>Normal</th>\n",
              "      <th>R.B.C count(Mill/Cumm)</th>\n",
              "      <th>W.B.C count(/Cumm)</th>\n",
              "      <th>Target/Outcome</th>\n",
              "    </tr>\n",
              "  </thead>\n",
              "  <tbody>\n",
              "    <tr>\n",
              "      <th>96</th>\n",
              "      <td>31</td>\n",
              "      <td>1</td>\n",
              "      <td>15.6</td>\n",
              "      <td>13</td>\n",
              "      <td>5.17</td>\n",
              "      <td>7430</td>\n",
              "      <td>0</td>\n",
              "    </tr>\n",
              "    <tr>\n",
              "      <th>97</th>\n",
              "      <td>50</td>\n",
              "      <td>1</td>\n",
              "      <td>16.6</td>\n",
              "      <td>13</td>\n",
              "      <td>5.56</td>\n",
              "      <td>6650</td>\n",
              "      <td>0</td>\n",
              "    </tr>\n",
              "    <tr>\n",
              "      <th>98</th>\n",
              "      <td>55</td>\n",
              "      <td>0</td>\n",
              "      <td>11.4</td>\n",
              "      <td>11</td>\n",
              "      <td>4.16</td>\n",
              "      <td>7000</td>\n",
              "      <td>0</td>\n",
              "    </tr>\n",
              "    <tr>\n",
              "      <th>99</th>\n",
              "      <td>15</td>\n",
              "      <td>1</td>\n",
              "      <td>15.4</td>\n",
              "      <td>13</td>\n",
              "      <td>5.60</td>\n",
              "      <td>3870</td>\n",
              "      <td>0</td>\n",
              "    </tr>\n",
              "    <tr>\n",
              "      <th>100</th>\n",
              "      <td>40</td>\n",
              "      <td>1</td>\n",
              "      <td>12.6</td>\n",
              "      <td>13</td>\n",
              "      <td>3.88</td>\n",
              "      <td>4020</td>\n",
              "      <td>0</td>\n",
              "    </tr>\n",
              "  </tbody>\n",
              "</table>\n",
              "</div>\n",
              "      <button class=\"colab-df-convert\" onclick=\"convertToInteractive('df-d937c7dc-8ff6-4a50-bb0e-a449264b2f55')\"\n",
              "              title=\"Convert this dataframe to an interactive table.\"\n",
              "              style=\"display:none;\">\n",
              "        \n",
              "  <svg xmlns=\"http://www.w3.org/2000/svg\" height=\"24px\"viewBox=\"0 0 24 24\"\n",
              "       width=\"24px\">\n",
              "    <path d=\"M0 0h24v24H0V0z\" fill=\"none\"/>\n",
              "    <path d=\"M18.56 5.44l.94 2.06.94-2.06 2.06-.94-2.06-.94-.94-2.06-.94 2.06-2.06.94zm-11 1L8.5 8.5l.94-2.06 2.06-.94-2.06-.94L8.5 2.5l-.94 2.06-2.06.94zm10 10l.94 2.06.94-2.06 2.06-.94-2.06-.94-.94-2.06-.94 2.06-2.06.94z\"/><path d=\"M17.41 7.96l-1.37-1.37c-.4-.4-.92-.59-1.43-.59-.52 0-1.04.2-1.43.59L10.3 9.45l-7.72 7.72c-.78.78-.78 2.05 0 2.83L4 21.41c.39.39.9.59 1.41.59.51 0 1.02-.2 1.41-.59l7.78-7.78 2.81-2.81c.8-.78.8-2.07 0-2.86zM5.41 20L4 18.59l7.72-7.72 1.47 1.35L5.41 20z\"/>\n",
              "  </svg>\n",
              "      </button>\n",
              "      \n",
              "  <style>\n",
              "    .colab-df-container {\n",
              "      display:flex;\n",
              "      flex-wrap:wrap;\n",
              "      gap: 12px;\n",
              "    }\n",
              "\n",
              "    .colab-df-convert {\n",
              "      background-color: #E8F0FE;\n",
              "      border: none;\n",
              "      border-radius: 50%;\n",
              "      cursor: pointer;\n",
              "      display: none;\n",
              "      fill: #1967D2;\n",
              "      height: 32px;\n",
              "      padding: 0 0 0 0;\n",
              "      width: 32px;\n",
              "    }\n",
              "\n",
              "    .colab-df-convert:hover {\n",
              "      background-color: #E2EBFA;\n",
              "      box-shadow: 0px 1px 2px rgba(60, 64, 67, 0.3), 0px 1px 3px 1px rgba(60, 64, 67, 0.15);\n",
              "      fill: #174EA6;\n",
              "    }\n",
              "\n",
              "    [theme=dark] .colab-df-convert {\n",
              "      background-color: #3B4455;\n",
              "      fill: #D2E3FC;\n",
              "    }\n",
              "\n",
              "    [theme=dark] .colab-df-convert:hover {\n",
              "      background-color: #434B5C;\n",
              "      box-shadow: 0px 1px 3px 1px rgba(0, 0, 0, 0.15);\n",
              "      filter: drop-shadow(0px 1px 2px rgba(0, 0, 0, 0.3));\n",
              "      fill: #FFFFFF;\n",
              "    }\n",
              "  </style>\n",
              "\n",
              "      <script>\n",
              "        const buttonEl =\n",
              "          document.querySelector('#df-d937c7dc-8ff6-4a50-bb0e-a449264b2f55 button.colab-df-convert');\n",
              "        buttonEl.style.display =\n",
              "          google.colab.kernel.accessAllowed ? 'block' : 'none';\n",
              "\n",
              "        async function convertToInteractive(key) {\n",
              "          const element = document.querySelector('#df-d937c7dc-8ff6-4a50-bb0e-a449264b2f55');\n",
              "          const dataTable =\n",
              "            await google.colab.kernel.invokeFunction('convertToInteractive',\n",
              "                                                     [key], {});\n",
              "          if (!dataTable) return;\n",
              "\n",
              "          const docLinkHtml = 'Like what you see? Visit the ' +\n",
              "            '<a target=\"_blank\" href=https://colab.research.google.com/notebooks/data_table.ipynb>data table notebook</a>'\n",
              "            + ' to learn more about interactive tables.';\n",
              "          element.innerHTML = '';\n",
              "          dataTable['output_type'] = 'display_data';\n",
              "          await google.colab.output.renderOutput(dataTable, element);\n",
              "          const docLink = document.createElement('div');\n",
              "          docLink.innerHTML = docLinkHtml;\n",
              "          element.appendChild(docLink);\n",
              "        }\n",
              "      </script>\n",
              "    </div>\n",
              "  </div>\n",
              "  "
            ]
          },
          "metadata": {},
          "execution_count": 7
        }
      ]
    },
    {
      "cell_type": "code",
      "source": [
        "import matplotlib.pyplot as plt\n",
        "import seaborn as sns\n",
        "%matplotlib inline\n",
        "h1 = haemo_df['Haemoglobin(g/dl)']\n",
        "h2 = haemo_df['R.B.C count(Mill/Cumm)']\n",
        "legend = ['Haemoglobin', 'RBC']\n",
        "plt.hist([h1,h2], color = ['red','green'])\n",
        "plt.xlabel('Level')\n",
        "plt.ylabel('No. of Patients')\n",
        "plt.legend(legend)\n",
        "plt.title('Haemoglobin vs R.B.C')\n",
        "plt.show()"
      ],
      "metadata": {
        "colab": {
          "base_uri": "https://localhost:8080/",
          "height": 295
        },
        "id": "Jvr26ZEaSr1d",
        "outputId": "9a58d13f-06cc-4a9d-813d-e9fdc1a92263"
      },
      "execution_count": null,
      "outputs": [
        {
          "output_type": "display_data",
          "data": {
            "text/plain": [
              "<Figure size 432x288 with 1 Axes>"
            ],
            "image/png": "[encoded data removed]"
          },
          "metadata": {
            "needs_background": "light"
          }
        }
      ]
    },
    {
      "cell_type": "code",
      "source": [
        "haemo_df.describe()"
      ],
      "metadata": {
        "colab": {
          "base_uri": "https://localhost:8080/",
          "height": 300
        },
        "id": "JhUElKaB70HH",
        "outputId": "ebdd7840-9a96-418a-c3fc-6e85fb1501c5"
      },
      "execution_count": null,
      "outputs": [
        {
          "output_type": "execute_result",
          "data": {
            "text/plain": [
              "              Age         Sex  Haemoglobin(g/dl)     Normal   \\\n",
              "count  101.000000  101.000000         101.000000  101.000000   \n",
              "mean    41.217822    0.524752          12.790099   12.049505   \n",
              "std     17.755339    0.501878           2.411659    1.003755   \n",
              "min      2.000000    0.000000           6.300000   11.000000   \n",
              "25%     30.000000    0.000000          11.100000   11.000000   \n",
              "50%     36.000000    1.000000          12.800000   13.000000   \n",
              "75%     53.000000    1.000000          14.700000   13.000000   \n",
              "max     87.000000    1.000000          18.000000   13.000000   \n",
              "\n",
              "       R.B.C count(Mill/Cumm)  W.B.C count(/Cumm)  Target/Outcome  \n",
              "count              101.000000          101.000000      101.000000  \n",
              "mean                 4.570297         7901.207921        0.306931  \n",
              "std                  0.655403         3112.477432        0.463521  \n",
              "min                  2.050000         1582.000000        0.000000  \n",
              "25%                  4.160000         6320.000000        0.000000  \n",
              "50%                  4.660000         7480.000000        0.000000  \n",
              "75%                  5.000000         9100.000000        1.000000  \n",
              "max                  5.890000        19530.000000        1.000000  "
            ],
            "text/html": [
              "\n",
              "  <div id=\"df-a648c6e7-d2ae-4cf2-9992-e4b8f8377f54\">\n",
              "    <div class=\"colab-df-container\">\n",
              "      <div>\n",
              "<style scoped>\n",
              "    .dataframe tbody tr th:only-of-type {\n",
              "        vertical-align: middle;\n",
              "    }\n",
              "\n",
              "    .dataframe tbody tr th {\n",
              "        vertical-align: top;\n",
              "    }\n",
              "\n",
              "    .dataframe thead th {\n",
              "        text-align: right;\n",
              "    }\n",
              "</style>\n",
              "<table border=\"1\" class=\"dataframe\">\n",
              "  <thead>\n",
              "    <tr style=\"text-align: right;\">\n",
              "      <th></th>\n",
              "      <th>Age</th>\n",
              "      <th>Sex</th>\n",
              "      <th>Haemoglobin(g/dl)</th>\n",
              "      <th>Normal</th>\n",
              "      <th>R.B.C count(Mill/Cumm)</th>\n",
              "      <th>W.B.C count(/Cumm)</th>\n",
              "      <th>Target/Outcome</th>\n",
              "    </tr>\n",
              "  </thead>\n",
              "  <tbody>\n",
              "    <tr>\n",
              "      <th>count</th>\n",
              "      <td>101.000000</td>\n",
              "      <td>101.000000</td>\n",
              "      <td>101.000000</td>\n",
              "      <td>101.000000</td>\n",
              "      <td>101.000000</td>\n",
              "      <td>101.000000</td>\n",
              "      <td>101.000000</td>\n",
              "    </tr>\n",
              "    <tr>\n",
              "      <th>mean</th>\n",
              "      <td>41.217822</td>\n",
              "      <td>0.524752</td>\n",
              "      <td>12.790099</td>\n",
              "      <td>12.049505</td>\n",
              "      <td>4.570297</td>\n",
              "      <td>7901.207921</td>\n",
              "      <td>0.306931</td>\n",
              "    </tr>\n",
              "    <tr>\n",
              "      <th>std</th>\n",
              "      <td>17.755339</td>\n",
              "      <td>0.501878</td>\n",
              "      <td>2.411659</td>\n",
              "      <td>1.003755</td>\n",
              "      <td>0.655403</td>\n",
              "      <td>3112.477432</td>\n",
              "      <td>0.463521</td>\n",
              "    </tr>\n",
              "    <tr>\n",
              "      <th>min</th>\n",
              "      <td>2.000000</td>\n",
              "      <td>0.000000</td>\n",
              "      <td>6.300000</td>\n",
              "      <td>11.000000</td>\n",
              "      <td>2.050000</td>\n",
              "      <td>1582.000000</td>\n",
              "      <td>0.000000</td>\n",
              "    </tr>\n",
              "    <tr>\n",
              "      <th>25%</th>\n",
              "      <td>30.000000</td>\n",
              "      <td>0.000000</td>\n",
              "      <td>11.100000</td>\n",
              "      <td>11.000000</td>\n",
              "      <td>4.160000</td>\n",
              "      <td>6320.000000</td>\n",
              "      <td>0.000000</td>\n",
              "    </tr>\n",
              "    <tr>\n",
              "      <th>50%</th>\n",
              "      <td>36.000000</td>\n",
              "      <td>1.000000</td>\n",
              "      <td>12.800000</td>\n",
              "      <td>13.000000</td>\n",
              "      <td>4.660000</td>\n",
              "      <td>7480.000000</td>\n",
              "      <td>0.000000</td>\n",
              "    </tr>\n",
              "    <tr>\n",
              "      <th>75%</th>\n",
              "      <td>53.000000</td>\n",
              "      <td>1.000000</td>\n",
              "      <td>14.700000</td>\n",
              "      <td>13.000000</td>\n",
              "      <td>5.000000</td>\n",
              "      <td>9100.000000</td>\n",
              "      <td>1.000000</td>\n",
              "    </tr>\n",
              "    <tr>\n",
              "      <th>max</th>\n",
              "      <td>87.000000</td>\n",
              "      <td>1.000000</td>\n",
              "      <td>18.000000</td>\n",
              "      <td>13.000000</td>\n",
              "      <td>5.890000</td>\n",
              "      <td>19530.000000</td>\n",
              "      <td>1.000000</td>\n",
              "    </tr>\n",
              "  </tbody>\n",
              "</table>\n",
              "</div>\n",
              "      <button class=\"colab-df-convert\" onclick=\"convertToInteractive('df-a648c6e7-d2ae-4cf2-9992-e4b8f8377f54')\"\n",
              "              title=\"Convert this dataframe to an interactive table.\"\n",
              "              style=\"display:none;\">\n",
              "        \n",
              "  <svg xmlns=\"http://www.w3.org/2000/svg\" height=\"24px\"viewBox=\"0 0 24 24\"\n",
              "       width=\"24px\">\n",
              "    <path d=\"M0 0h24v24H0V0z\" fill=\"none\"/>\n",
              "    <path d=\"M18.56 5.44l.94 2.06.94-2.06 2.06-.94-2.06-.94-.94-2.06-.94 2.06-2.06.94zm-11 1L8.5 8.5l.94-2.06 2.06-.94-2.06-.94L8.5 2.5l-.94 2.06-2.06.94zm10 10l.94 2.06.94-2.06 2.06-.94-2.06-.94-.94-2.06-.94 2.06-2.06.94z\"/><path d=\"M17.41 7.96l-1.37-1.37c-.4-.4-.92-.59-1.43-.59-.52 0-1.04.2-1.43.59L10.3 9.45l-7.72 7.72c-.78.78-.78 2.05 0 2.83L4 21.41c.39.39.9.59 1.41.59.51 0 1.02-.2 1.41-.59l7.78-7.78 2.81-2.81c.8-.78.8-2.07 0-2.86zM5.41 20L4 18.59l7.72-7.72 1.47 1.35L5.41 20z\"/>\n",
              "  </svg>\n",
              "      </button>\n",
              "      \n",
              "  <style>\n",
              "    .colab-df-container {\n",
              "      display:flex;\n",
              "      flex-wrap:wrap;\n",
              "      gap: 12px;\n",
              "    }\n",
              "\n",
              "    .colab-df-convert {\n",
              "      background-color: #E8F0FE;\n",
              "      border: none;\n",
              "      border-radius: 50%;\n",
              "      cursor: pointer;\n",
              "      display: none;\n",
              "      fill: #1967D2;\n",
              "      height: 32px;\n",
              "      padding: 0 0 0 0;\n",
              "      width: 32px;\n",
              "    }\n",
              "\n",
              "    .colab-df-convert:hover {\n",
              "      background-color: #E2EBFA;\n",
              "      box-shadow: 0px 1px 2px rgba(60, 64, 67, 0.3), 0px 1px 3px 1px rgba(60, 64, 67, 0.15);\n",
              "      fill: #174EA6;\n",
              "    }\n",
              "\n",
              "    [theme=dark] .colab-df-convert {\n",
              "      background-color: #3B4455;\n",
              "      fill: #D2E3FC;\n",
              "    }\n",
              "\n",
              "    [theme=dark] .colab-df-convert:hover {\n",
              "      background-color: #434B5C;\n",
              "      box-shadow: 0px 1px 3px 1px rgba(0, 0, 0, 0.15);\n",
              "      filter: drop-shadow(0px 1px 2px rgba(0, 0, 0, 0.3));\n",
              "      fill: #FFFFFF;\n",
              "    }\n",
              "  </style>\n",
              "\n",
              "      <script>\n",
              "        const buttonEl =\n",
              "          document.querySelector('#df-a648c6e7-d2ae-4cf2-9992-e4b8f8377f54 button.colab-df-convert');\n",
              "        buttonEl.style.display =\n",
              "          google.colab.kernel.accessAllowed ? 'block' : 'none';\n",
              "\n",
              "        async function convertToInteractive(key) {\n",
              "          const element = document.querySelector('#df-a648c6e7-d2ae-4cf2-9992-e4b8f8377f54');\n",
              "          const dataTable =\n",
              "            await google.colab.kernel.invokeFunction('convertToInteractive',\n",
              "                                                     [key], {});\n",
              "          if (!dataTable) return;\n",
              "\n",
              "          const docLinkHtml = 'Like what you see? Visit the ' +\n",
              "            '<a target=\"_blank\" href=https://colab.research.google.com/notebooks/data_table.ipynb>data table notebook</a>'\n",
              "            + ' to learn more about interactive tables.';\n",
              "          element.innerHTML = '';\n",
              "          dataTable['output_type'] = 'display_data';\n",
              "          await google.colab.output.renderOutput(dataTable, element);\n",
              "          const docLink = document.createElement('div');\n",
              "          docLink.innerHTML = docLinkHtml;\n",
              "          element.appendChild(docLink);\n",
              "        }\n",
              "      </script>\n",
              "    </div>\n",
              "  </div>\n",
              "  "
            ]
          },
          "metadata": {},
          "execution_count": 9
        }
      ]
    },
    {
      "cell_type": "code",
      "source": [
        "f, ax = plt.subplots(1,2,figsize = (10,5))\n",
        "haemo_df['Target/Outcome'].value_counts().plot.pie(explode = [0,0.1], autopct = \"%1.1f%%\", ax = ax[0], shadow = True)\n",
        "ax[0].set_title('Outcome')\n",
        "ax[0].set_ylabel('')\n",
        "sns.countplot('Target/Outcome', data = haemo_df, ax = ax[1])\n",
        "ax[1].set_title('Outcome')\n",
        "N, P = haemo_df['Target/Outcome'].value_counts()\n",
        "print('Negative(0): ', N)\n",
        "print('Positive(1): ', P)\n",
        "plt.grid()\n",
        "plt.show()"
      ],
      "metadata": {
        "colab": {
          "base_uri": "https://localhost:8080/",
          "height": 439
        },
        "id": "gSWGndz7T_wC",
        "outputId": "ec5a8f6c-326e-4554-8eb9-6da11fb56aaa"
      },
      "execution_count": null,
      "outputs": [
        {
          "output_type": "stream",
          "name": "stdout",
          "text": [
            "Negative(0):  70\n",
            "Positive(1):  31\n"
          ]
        },
        {
          "output_type": "stream",
          "name": "stderr",
          "text": [
            "/usr/local/lib/python3.7/dist-packages/seaborn/_decorators.py:43: FutureWarning: Pass the following variable as a keyword arg: x. From version 0.12, the only valid positional argument will be `data`, and passing other arguments without an explicit keyword will result in an error or misinterpretation.\n",
            "  FutureWarning\n"
          ]
        },
        {
          "output_type": "display_data",
          "data": {
            "text/plain": [
              "<Figure size 720x360 with 2 Axes>"
            ],
            "image/png": "[encoded data removed]"
          },
          "metadata": {
            "needs_background": "light"
          }
        }
      ]
    },
    {
      "cell_type": "code",
      "source": [
        "haemo_df.hist(bins = 10, figsize = (10,10))\n",
        "plt.show()"
      ],
      "metadata": {
        "colab": {
          "base_uri": "https://localhost:8080/",
          "height": 607
        },
        "id": "BoQrElvHVRPw",
        "outputId": "2e67490b-cc76-43b0-d61c-c067d614e77f"
      },
      "execution_count": null,
      "outputs": [
        {
          "output_type": "display_data",
          "data": {
            "text/plain": [
              "<Figure size 720x720 with 9 Axes>"
            ],
            "image/png": "[encoded data removed]"
          },
          "metadata": {
            "needs_background": "light"
          }
        }
      ]
    },
    {
      "cell_type": "code",
      "source": [
        "correlation = haemo_df.corr()"
      ],
      "metadata": {
        "id": "uq5VRwtOVos_"
      },
      "execution_count": null,
      "outputs": []
    },
    {
      "cell_type": "code",
      "source": [
        "correlation"
      ],
      "metadata": {
        "colab": {
          "base_uri": "https://localhost:8080/",
          "height": 269
        },
        "id": "_4Bu6dDoVsSg",
        "outputId": "62902859-93bf-48a2-b80d-cce9f7fbd313"
      },
      "execution_count": null,
      "outputs": [
        {
          "output_type": "execute_result",
          "data": {
            "text/plain": [
              "                             Age       Sex  Haemoglobin(g/dl)   Normal   \\\n",
              "Age                     1.000000 -0.051110          -0.122789 -0.051110   \n",
              "Sex                    -0.051110  1.000000           0.666949  1.000000   \n",
              "Haemoglobin(g/dl)      -0.122789  0.666949           1.000000  0.666949   \n",
              "Normal                 -0.051110  1.000000           0.666949  1.000000   \n",
              "R.B.C count(Mill/Cumm) -0.243180  0.473479           0.753990  0.473479   \n",
              "W.B.C count(/Cumm)      0.154116 -0.096167          -0.146065 -0.096167   \n",
              "Target/Outcome          0.011236 -0.312398          -0.725435 -0.312398   \n",
              "\n",
              "                        R.B.C count(Mill/Cumm)  W.B.C count(/Cumm)  \\\n",
              "Age                                  -0.243180            0.154116   \n",
              "Sex                                   0.473479           -0.096167   \n",
              "Haemoglobin(g/dl)                     0.753990           -0.146065   \n",
              "Normal                                0.473479           -0.096167   \n",
              "R.B.C count(Mill/Cumm)                1.000000           -0.212262   \n",
              "W.B.C count(/Cumm)                   -0.212262            1.000000   \n",
              "Target/Outcome                       -0.517761            0.117437   \n",
              "\n",
              "                        Target/Outcome  \n",
              "Age                           0.011236  \n",
              "Sex                          -0.312398  \n",
              "Haemoglobin(g/dl)            -0.725435  \n",
              "Normal                       -0.312398  \n",
              "R.B.C count(Mill/Cumm)       -0.517761  \n",
              "W.B.C count(/Cumm)            0.117437  \n",
              "Target/Outcome                1.000000  "
            ],
            "text/html": [
              "\n",
              "  <div id=\"df-c1112acf-72f5-4093-bad8-89a17084f643\">\n",
              "    <div class=\"colab-df-container\">\n",
              "      <div>\n",
              "<style scoped>\n",
              "    .dataframe tbody tr th:only-of-type {\n",
              "        vertical-align: middle;\n",
              "    }\n",
              "\n",
              "    .dataframe tbody tr th {\n",
              "        vertical-align: top;\n",
              "    }\n",
              "\n",
              "    .dataframe thead th {\n",
              "        text-align: right;\n",
              "    }\n",
              "</style>\n",
              "<table border=\"1\" class=\"dataframe\">\n",
              "  <thead>\n",
              "    <tr style=\"text-align: right;\">\n",
              "      <th></th>\n",
              "      <th>Age</th>\n",
              "      <th>Sex</th>\n",
              "      <th>Haemoglobin(g/dl)</th>\n",
              "      <th>Normal</th>\n",
              "      <th>R.B.C count(Mill/Cumm)</th>\n",
              "      <th>W.B.C count(/Cumm)</th>\n",
              "      <th>Target/Outcome</th>\n",
              "    </tr>\n",
              "  </thead>\n",
              "  <tbody>\n",
              "    <tr>\n",
              "      <th>Age</th>\n",
              "      <td>1.000000</td>\n",
              "      <td>-0.051110</td>\n",
              "      <td>-0.122789</td>\n",
              "      <td>-0.051110</td>\n",
              "      <td>-0.243180</td>\n",
              "      <td>0.154116</td>\n",
              "      <td>0.011236</td>\n",
              "    </tr>\n",
              "    <tr>\n",
              "      <th>Sex</th>\n",
              "      <td>-0.051110</td>\n",
              "      <td>1.000000</td>\n",
              "      <td>0.666949</td>\n",
              "      <td>1.000000</td>\n",
              "      <td>0.473479</td>\n",
              "      <td>-0.096167</td>\n",
              "      <td>-0.312398</td>\n",
              "    </tr>\n",
              "    <tr>\n",
              "      <th>Haemoglobin(g/dl)</th>\n",
              "      <td>-0.122789</td>\n",
              "      <td>0.666949</td>\n",
              "      <td>1.000000</td>\n",
              "      <td>0.666949</td>\n",
              "      <td>0.753990</td>\n",
              "      <td>-0.146065</td>\n",
              "      <td>-0.725435</td>\n",
              "    </tr>\n",
              "    <tr>\n",
              "      <th>Normal</th>\n",
              "      <td>-0.051110</td>\n",
              "      <td>1.000000</td>\n",
              "      <td>0.666949</td>\n",
              "      <td>1.000000</td>\n",
              "      <td>0.473479</td>\n",
              "      <td>-0.096167</td>\n",
              "      <td>-0.312398</td>\n",
              "    </tr>\n",
              "    <tr>\n",
              "      <th>R.B.C count(Mill/Cumm)</th>\n",
              "      <td>-0.243180</td>\n",
              "      <td>0.473479</td>\n",
              "      <td>0.753990</td>\n",
              "      <td>0.473479</td>\n",
              "      <td>1.000000</td>\n",
              "      <td>-0.212262</td>\n",
              "      <td>-0.517761</td>\n",
              "    </tr>\n",
              "    <tr>\n",
              "      <th>W.B.C count(/Cumm)</th>\n",
              "      <td>0.154116</td>\n",
              "      <td>-0.096167</td>\n",
              "      <td>-0.146065</td>\n",
              "      <td>-0.096167</td>\n",
              "      <td>-0.212262</td>\n",
              "      <td>1.000000</td>\n",
              "      <td>0.117437</td>\n",
              "    </tr>\n",
              "    <tr>\n",
              "      <th>Target/Outcome</th>\n",
              "      <td>0.011236</td>\n",
              "      <td>-0.312398</td>\n",
              "      <td>-0.725435</td>\n",
              "      <td>-0.312398</td>\n",
              "      <td>-0.517761</td>\n",
              "      <td>0.117437</td>\n",
              "      <td>1.000000</td>\n",
              "    </tr>\n",
              "  </tbody>\n",
              "</table>\n",
              "</div>\n",
              "      <button class=\"colab-df-convert\" onclick=\"convertToInteractive('df-c1112acf-72f5-4093-bad8-89a17084f643')\"\n",
              "              title=\"Convert this dataframe to an interactive table.\"\n",
              "              style=\"display:none;\">\n",
              "        \n",
              "  <svg xmlns=\"http://www.w3.org/2000/svg\" height=\"24px\"viewBox=\"0 0 24 24\"\n",
              "       width=\"24px\">\n",
              "    <path d=\"M0 0h24v24H0V0z\" fill=\"none\"/>\n",
              "    <path d=\"M18.56 5.44l.94 2.06.94-2.06 2.06-.94-2.06-.94-.94-2.06-.94 2.06-2.06.94zm-11 1L8.5 8.5l.94-2.06 2.06-.94-2.06-.94L8.5 2.5l-.94 2.06-2.06.94zm10 10l.94 2.06.94-2.06 2.06-.94-2.06-.94-.94-2.06-.94 2.06-2.06.94z\"/><path d=\"M17.41 7.96l-1.37-1.37c-.4-.4-.92-.59-1.43-.59-.52 0-1.04.2-1.43.59L10.3 9.45l-7.72 7.72c-.78.78-.78 2.05 0 2.83L4 21.41c.39.39.9.59 1.41.59.51 0 1.02-.2 1.41-.59l7.78-7.78 2.81-2.81c.8-.78.8-2.07 0-2.86zM5.41 20L4 18.59l7.72-7.72 1.47 1.35L5.41 20z\"/>\n",
              "  </svg>\n",
              "      </button>\n",
              "      \n",
              "  <style>\n",
              "    .colab-df-container {\n",
              "      display:flex;\n",
              "      flex-wrap:wrap;\n",
              "      gap: 12px;\n",
              "    }\n",
              "\n",
              "    .colab-df-convert {\n",
              "      background-color: #E8F0FE;\n",
              "      border: none;\n",
              "      border-radius: 50%;\n",
              "      cursor: pointer;\n",
              "      display: none;\n",
              "      fill: #1967D2;\n",
              "      height: 32px;\n",
              "      padding: 0 0 0 0;\n",
              "      width: 32px;\n",
              "    }\n",
              "\n",
              "    .colab-df-convert:hover {\n",
              "      background-color: #E2EBFA;\n",
              "      box-shadow: 0px 1px 2px rgba(60, 64, 67, 0.3), 0px 1px 3px 1px rgba(60, 64, 67, 0.15);\n",
              "      fill: #174EA6;\n",
              "    }\n",
              "\n",
              "    [theme=dark] .colab-df-convert {\n",
              "      background-color: #3B4455;\n",
              "      fill: #D2E3FC;\n",
              "    }\n",
              "\n",
              "    [theme=dark] .colab-df-convert:hover {\n",
              "      background-color: #434B5C;\n",
              "      box-shadow: 0px 1px 3px 1px rgba(0, 0, 0, 0.15);\n",
              "      filter: drop-shadow(0px 1px 2px rgba(0, 0, 0, 0.3));\n",
              "      fill: #FFFFFF;\n",
              "    }\n",
              "  </style>\n",
              "\n",
              "      <script>\n",
              "        const buttonEl =\n",
              "          document.querySelector('#df-c1112acf-72f5-4093-bad8-89a17084f643 button.colab-df-convert');\n",
              "        buttonEl.style.display =\n",
              "          google.colab.kernel.accessAllowed ? 'block' : 'none';\n",
              "\n",
              "        async function convertToInteractive(key) {\n",
              "          const element = document.querySelector('#df-c1112acf-72f5-4093-bad8-89a17084f643');\n",
              "          const dataTable =\n",
              "            await google.colab.kernel.invokeFunction('convertToInteractive',\n",
              "                                                     [key], {});\n",
              "          if (!dataTable) return;\n",
              "\n",
              "          const docLinkHtml = 'Like what you see? Visit the ' +\n",
              "            '<a target=\"_blank\" href=https://colab.research.google.com/notebooks/data_table.ipynb>data table notebook</a>'\n",
              "            + ' to learn more about interactive tables.';\n",
              "          element.innerHTML = '';\n",
              "          dataTable['output_type'] = 'display_data';\n",
              "          await google.colab.output.renderOutput(dataTable, element);\n",
              "          const docLink = document.createElement('div');\n",
              "          docLink.innerHTML = docLinkHtml;\n",
              "          element.appendChild(docLink);\n",
              "        }\n",
              "      </script>\n",
              "    </div>\n",
              "  </div>\n",
              "  "
            ]
          },
          "metadata": {},
          "execution_count": 13
        }
      ]
    },
    {
      "cell_type": "code",
      "source": [
        "sns.heatmap(correlation, annot = True)"
      ],
      "metadata": {
        "colab": {
          "base_uri": "https://localhost:8080/",
          "height": 395
        },
        "id": "7JLCkpOgVucc",
        "outputId": "e20b2fcf-a958-4fda-fae3-e2e99e40d894"
      },
      "execution_count": null,
      "outputs": [
        {
          "output_type": "execute_result",
          "data": {
            "text/plain": [
              "<matplotlib.axes._subplots.AxesSubplot at 0x7f5670be90d0>"
            ]
          },
          "metadata": {},
          "execution_count": 14
        },
        {
          "output_type": "display_data",
          "data": {
            "text/plain": [
              "<Figure size 432x288 with 2 Axes>"
            ],
            "image/png": "[encoded data removed]"
          },
          "metadata": {
            "needs_background": "light"
          }
        }
      ]
    },
    {
      "cell_type": "markdown",
      "source": [
        "Splitting the Target and other columns"
      ],
      "metadata": {
        "id": "D3JbIxTUbcrm"
      }
    },
    {
      "cell_type": "code",
      "source": [
        "x = haemo_df.drop(columns = 'Target/Outcome', axis = 1)\n",
        "y = haemo_df['Target/Outcome']"
      ],
      "metadata": {
        "id": "rrPDXjzy72OP"
      },
      "execution_count": null,
      "outputs": []
    },
    {
      "cell_type": "code",
      "source": [
        "print(x)"
      ],
      "metadata": {
        "colab": {
          "base_uri": "https://localhost:8080/"
        },
        "id": "eQ8qnho38HdI",
        "outputId": "69b88f00-04b7-42cb-d399-6e3b272d284c"
      },
      "execution_count": null,
      "outputs": [
        {
          "output_type": "stream",
          "name": "stdout",
          "text": [
            "     Age  Sex  Haemoglobin(g/dl)  Normal   R.B.C count(Mill/Cumm)  \\\n",
            "0     33    1               14.4       13                    4.79   \n",
            "1     60    0               10.5       11                    4.39   \n",
            "2     25    0               13.0       11                    4.30   \n",
            "3     58    0               11.4       11                    3.96   \n",
            "4     43    1               18.0       13                    5.89   \n",
            "..   ...  ...                ...      ...                     ...   \n",
            "96    31    1               15.6       13                    5.17   \n",
            "97    50    1               16.6       13                    5.56   \n",
            "98    55    0               11.4       11                    4.16   \n",
            "99    15    1               15.4       13                    5.60   \n",
            "100   40    1               12.6       13                    3.88   \n",
            "\n",
            "     W.B.C count(/Cumm)  \n",
            "0                  5560  \n",
            "1                  7260  \n",
            "2                 11990  \n",
            "3                  4560  \n",
            "4                 15000  \n",
            "..                  ...  \n",
            "96                 7430  \n",
            "97                 6650  \n",
            "98                 7000  \n",
            "99                 3870  \n",
            "100                4020  \n",
            "\n",
            "[101 rows x 6 columns]\n"
          ]
        }
      ]
    },
    {
      "cell_type": "code",
      "source": [
        "print(y)"
      ],
      "metadata": {
        "colab": {
          "base_uri": "https://localhost:8080/"
        },
        "id": "9sjfFZgn8Isy",
        "outputId": "7957ef8b-dfb4-4303-c039-301e4eeff58d"
      },
      "execution_count": null,
      "outputs": [
        {
          "output_type": "stream",
          "name": "stdout",
          "text": [
            "0      0\n",
            "1      1\n",
            "2      0\n",
            "3      0\n",
            "4      0\n",
            "      ..\n",
            "96     0\n",
            "97     0\n",
            "98     0\n",
            "99     0\n",
            "100    0\n",
            "Name: Target/Outcome, Length: 101, dtype: int64\n"
          ]
        }
      ]
    },
    {
      "cell_type": "markdown",
      "source": [
        "Splitting the data into Training data and Test data"
      ],
      "metadata": {
        "id": "z3jW4yrdblRH"
      }
    },
    {
      "cell_type": "code",
      "source": [
        "from sklearn.model_selection import train_test_split\n",
        "x_train, x_test, y_train, y_test = train_test_split(x,y,test_size=0.2,random_state=0)"
      ],
      "metadata": {
        "id": "smB19-998Jgg"
      },
      "execution_count": null,
      "outputs": []
    },
    {
      "cell_type": "code",
      "source": [
        "print(x.shape, x_train.shape, x_test.shape)"
      ],
      "metadata": {
        "colab": {
          "base_uri": "https://localhost:8080/"
        },
        "id": "8GKXN1x_cl6u",
        "outputId": "a66139fc-5dfd-442c-c06d-fe56202d79ac"
      },
      "execution_count": null,
      "outputs": [
        {
          "output_type": "stream",
          "name": "stdout",
          "text": [
            "(101, 6) (80, 6) (21, 6)\n"
          ]
        }
      ]
    },
    {
      "cell_type": "code",
      "source": [
        "print(x_train)"
      ],
      "metadata": {
        "colab": {
          "base_uri": "https://localhost:8080/"
        },
        "id": "6UghYsJPx96l",
        "outputId": "3428881e-07c2-4bad-c44a-482d9df7a367"
      },
      "execution_count": null,
      "outputs": [
        {
          "output_type": "stream",
          "name": "stdout",
          "text": [
            "    Age  Sex  Haemoglobin(g/dl)  Normal   R.B.C count(Mill/Cumm)  \\\n",
            "62   30    1               14.1       13                    4.96   \n",
            "3    58    0               11.4       11                    3.96   \n",
            "71   30    1               14.5       13                    4.19   \n",
            "45   33    1               15.0       13                    5.10   \n",
            "48   52    0               12.2       11                    4.20   \n",
            "..  ...  ...                ...      ...                     ...   \n",
            "97   50    1               16.6       13                    5.56   \n",
            "67   75    0               13.9       11                    4.65   \n",
            "64   22    0                8.2       11                    3.82   \n",
            "47   33    1               14.7       13                    4.77   \n",
            "44   33    1               14.9       13                    5.00   \n",
            "\n",
            "    W.B.C count(/Cumm)  \n",
            "62                4090  \n",
            "3                 4560  \n",
            "71                6650  \n",
            "45                6800  \n",
            "48                5670  \n",
            "..                 ...  \n",
            "97                6650  \n",
            "67               14700  \n",
            "64                9240  \n",
            "47                2820  \n",
            "44                6320  \n",
            "\n",
            "[80 rows x 6 columns]\n"
          ]
        }
      ]
    },
    {
      "cell_type": "code",
      "source": [
        "print(x_test)"
      ],
      "metadata": {
        "colab": {
          "base_uri": "https://localhost:8080/"
        },
        "id": "75ez05klx_WB",
        "outputId": "22362b82-47cc-4faf-b377-8af093b3803b"
      },
      "execution_count": null,
      "outputs": [
        {
          "output_type": "stream",
          "name": "stdout",
          "text": [
            "    Age  Sex  Haemoglobin(g/dl)  Normal   R.B.C count(Mill/Cumm)  \\\n",
            "26   33    1               16.9       13                    5.48   \n",
            "86   15    1               13.3       13                    4.84   \n",
            "2    25    0               13.0       11                    4.30   \n",
            "55   33    1               17.3       13                    5.56   \n",
            "75   30    1               15.5       13                    5.42   \n",
            "94   35    0               10.4       11                    3.51   \n",
            "16   12    0               10.1       11                    5.17   \n",
            "73   40    0               11.6       11                    4.34   \n",
            "54   34    0                9.7       11                    4.48   \n",
            "96   31    1               15.6       13                    5.17   \n",
            "53   19    0               10.8       11                    2.86   \n",
            "93   65    1               15.5       13                    5.04   \n",
            "78   31    0               11.7       11                    4.53   \n",
            "13   87    1               12.8       13                    4.80   \n",
            "7    30    0               11.6       11                    4.46   \n",
            "30   28    0               11.9       11                    4.52   \n",
            "22   47    1               15.1       13                    4.73   \n",
            "24   65    0               11.5       11                    3.62   \n",
            "33   52    0               10.3       11                    3.82   \n",
            "8    55    1               13.3       13                    4.29   \n",
            "43   30    1               17.2       13                    5.60   \n",
            "\n",
            "    W.B.C count(/Cumm)  \n",
            "26                5260  \n",
            "86                6400  \n",
            "2                11990  \n",
            "55               13270  \n",
            "75                8920  \n",
            "94                5920  \n",
            "16                4760  \n",
            "73                8250  \n",
            "54                9090  \n",
            "96                7430  \n",
            "53                6570  \n",
            "93               18550  \n",
            "78               11540  \n",
            "13                5720  \n",
            "7                 8430  \n",
            "30                8640  \n",
            "22                7710  \n",
            "24                7480  \n",
            "33                9510  \n",
            "8                 7910  \n",
            "43               11090  \n"
          ]
        }
      ]
    },
    {
      "cell_type": "markdown",
      "source": [
        "Fitting and Evaluation"
      ],
      "metadata": {
        "id": "nqW-8oNTbrSn"
      }
    },
    {
      "cell_type": "code",
      "source": [
        "#Performing Feature Scaling\n",
        "from sklearn.preprocessing import StandardScaler\n",
        "sc = StandardScaler()\n",
        "x_train = sc.fit_transform(x_train)\n",
        "x_test = sc.transform(x_test)"
      ],
      "metadata": {
        "id": "yDN6fbYk8VBx"
      },
      "execution_count": null,
      "outputs": []
    },
    {
      "cell_type": "code",
      "source": [
        "print(x_train)"
      ],
      "metadata": {
        "colab": {
          "base_uri": "https://localhost:8080/"
        },
        "id": "WvsognluyXRQ",
        "outputId": "d89f77b0-f418-4dcf-9f8d-9ac62b07d19f"
      },
      "execution_count": null,
      "outputs": [
        {
          "output_type": "stream",
          "name": "stdout",
          "text": [
            "[[-6.88406567e-01  9.27612590e-01  5.82230281e-01  9.27612590e-01\n",
            "   6.22218465e-01 -1.17216656e+00]\n",
            " [ 9.07898516e-01 -1.07803625e+00 -5.47704496e-01 -1.07803625e+00\n",
            "  -9.46070041e-01 -1.01826910e+00]\n",
            " [-6.88406567e-01  9.27612590e-01  7.49628026e-01  9.27612590e-01\n",
            "  -5.85363685e-01 -3.33916561e-01]\n",
            " [-5.17373880e-01  9.27612590e-01  9.58875206e-01  9.27612590e-01\n",
            "   8.41778855e-01 -2.84800350e-01]\n",
            " [ 5.65833141e-01 -1.07803625e+00 -2.12909007e-01 -1.07803625e+00\n",
            "  -5.69680800e-01 -6.54809140e-01]\n",
            " [ 1.30697479e+00 -1.07803625e+00 -6.73252805e-01 -1.07803625e+00\n",
            "  -8.83338501e-01  2.22733831e-01]\n",
            " [-1.18297609e-01  9.27612590e-01 -4.55112618e-02  9.27612590e-01\n",
            "  -1.07153312e+00 -1.19508746e+00]\n",
            " [ 1.36398568e+00  9.27612590e-01  5.40380845e-01  9.27612590e-01\n",
            "   6.84950005e-01 -3.83032772e-01]\n",
            " [-2.28471165e+00 -1.07803625e+00 -1.29210134e-01 -1.07803625e+00\n",
            "   1.51731913e-01  1.01186762e+00]\n",
            " [-4.03352088e-01  9.27612590e-01  9.17025770e-01  9.27612590e-01\n",
            "   9.98607706e-01  4.02826605e-01]\n",
            " [ 7.36865829e-01 -1.07803625e+00 -2.96607879e-01 -1.07803625e+00\n",
            "  -8.83338501e-01 -8.74194883e-01]\n",
            " [ 9.64909412e-01 -1.07803625e+00  7.49628026e-01 -1.07803625e+00\n",
            "   3.71292304e-01 -9.10213438e-01]\n",
            " [-4.60362984e-01  9.27612590e-01  6.65929153e-01  9.27612590e-01\n",
            "   4.18340959e-01  8.52084402e-02]\n",
            " [-5.17373880e-01 -1.07803625e+00  7.07778589e-01 -1.07803625e+00\n",
            "   9.20193281e-01 -8.77469297e-01]\n",
            " [ 1.02192031e+00 -1.07803625e+00 -6.31403368e-01 -1.07803625e+00\n",
            "  -1.11858178e+00  4.68314887e-01]\n",
            " [-7.45417463e-01 -1.07803625e+00 -1.30099435e+00 -1.07803625e+00\n",
            "  -1.46360525e+00 -9.48843338e-02]\n",
            " [ 2.16213822e+00 -1.07803625e+00 -7.56951677e-01 -1.07803625e+00\n",
            "  -1.85567737e+00 -3.59448805e-02]\n",
            " [ 1.76306195e+00 -1.07803625e+00 -1.09174717e+00 -1.07803625e+00\n",
            "  -8.35113629e-02 -1.66660309e+00]\n",
            " [-8.02428359e-01  9.27612590e-01  6.24079717e-01  9.27612590e-01\n",
            "   1.13975367e+00 -3.40465389e-01]\n",
            " [ 1.02192031e+00 -1.07803625e+00 -9.24349422e-01 -1.07803625e+00\n",
            "  -2.71705984e-01 -1.34177303e-01]\n",
            " [-1.77161359e+00  9.27612590e-01 -2.12909007e-01  9.27612590e-01\n",
            "   1.67414798e-01 -1.63713336e+00]\n",
            " [-5.17373880e-01  9.27612590e-01  8.33326898e-01  9.27612590e-01\n",
            "   6.84950005e-01 -5.55913649e-02]\n",
            " [ 1.30697479e+00  9.27612590e-01  4.14832536e-01  9.27612590e-01\n",
            "   3.39926534e-01 -7.75962461e-01]\n",
            " [ 5.27350787e-02  9.27612590e-01  2.21435829e+00  9.27612590e-01\n",
            "   2.08072678e+00  2.40021919e+00]\n",
            " [-3.46341192e-01  9.27612590e-01  1.20997182e+00  9.27612590e-01\n",
            "   1.92389792e+00 -1.69934723e+00]\n",
            " [-6.88406567e-01  9.27612590e-01  1.54476731e+00  9.27612590e-01\n",
            "   1.35931406e+00 -3.60111874e-01]\n",
            " [-6.88406567e-01 -1.07803625e+00 -1.38469322e+00 -1.07803625e+00\n",
            "  -1.68316564e+00  2.65301214e-01]\n",
            " [-6.88406567e-01 -1.07803625e+00 -5.47704496e-01 -1.07803625e+00\n",
            "  -1.68316564e+00  2.65301214e-01]\n",
            " [ 3.37789558e-01 -1.07803625e+00 -1.30099435e+00 -1.07803625e+00\n",
            "  -4.59900604e-01  1.74861079e+00]\n",
            " [ 1.66756870e-01  9.27612590e-01  1.00072464e+00  9.27612590e-01\n",
            "   4.18340959e-01 -1.99338961e+00]\n",
            " [-6.12867130e-02 -1.07803625e+00 -1.76133815e+00 -1.07803625e+00\n",
            "  -1.77608673e-01 -5.20558163e-01]\n",
            " [-5.17373880e-01  9.27612590e-01  7.07778589e-01  9.27612590e-01\n",
            "   3.55609419e-01 -6.90827695e-01]\n",
            " [ 1.66756870e-01 -1.07803625e+00 -1.46839209e+00 -1.07803625e+00\n",
            "  -5.21455928e-02 -2.94623592e-01]\n",
            " [-3.46341192e-01  9.27612590e-01 -3.80306751e-01  9.27612590e-01\n",
            "   3.71292304e-01  7.04072700e-01]\n",
            " [ 4.51811350e-01 -1.07803625e+00 -4.55112618e-02 -1.07803625e+00\n",
            "  -6.79460995e-01  1.07735590e+00]\n",
            " [ 5.08822245e-01  9.27612590e-01  1.63735919e-01  9.27612590e-01\n",
            "   6.06535580e-01 -8.50610916e-02]\n",
            " [-9.73461046e-01  9.27612590e-01  8.33326898e-01  9.27612590e-01\n",
            "  -3.64627078e-02 -3.86307186e-01]\n",
            " [-1.71460269e+00  9.27612590e-01 -4.64005624e-01  9.27612590e-01\n",
            "   6.22218465e-01 -1.01433162e-01]\n",
            " [-6.88406567e-01 -1.07803625e+00 -6.73252805e-01 -1.07803625e+00\n",
            "  -2.56023099e-01  7.40091255e-01]\n",
            " [ 5.08822245e-01 -1.07803625e+00 -7.56951677e-01 -1.07803625e+00\n",
            "  -7.57875420e-01  2.27579145e+00]\n",
            " [-2.89330296e-01  9.27612590e-01  9.17025770e-01  9.27612590e-01\n",
            "   7.79047315e-01  6.62250246e-03]\n",
            " [-2.89330296e-01 -1.07803625e+00 -1.04989773e+00 -1.07803625e+00\n",
            "  -9.93118696e-01  6.35310004e-01]\n",
            " [-1.20150463e+00 -1.07803625e+00  2.05585355e-01 -1.07803625e+00\n",
            "  -4.28534834e-01 -1.37451717e-01]\n",
            " [-4.60362984e-01  9.27612590e-01  1.16812239e+00  9.27612590e-01\n",
            "   1.17111944e+00  4.58491645e-01]\n",
            " [-1.25851553e+00 -1.07803625e+00 -2.01243476e+00 -1.07803625e+00\n",
            "  -4.75583489e-01  2.29945728e-02]\n",
            " [ 1.93409464e+00  9.27612590e-01 -2.68202574e+00  9.27612590e-01\n",
            "  -3.94150109e+00  3.88352876e+00]\n",
            " [ 5.27350787e-02  9.27612590e-01  1.79586393e+00  9.27612590e-01\n",
            "   1.13975367e+00 -6.44985898e-01]\n",
            " [ 2.23767766e-01  9.27612590e-01 -3.80306751e-01  9.27612590e-01\n",
            "  -5.69680800e-01 -1.95728101e-02]\n",
            " [-1.71460269e+00 -1.07803625e+00  8.00370467e-02 -1.07803625e+00\n",
            "   2.30146338e-01  1.63794378e-01]\n",
            " [ 2.80778662e-01  9.27612590e-01  9.58875206e-01  9.27612590e-01\n",
            "   2.14463453e-01 -1.66005426e+00]\n",
            " [-3.46341192e-01  9.27612590e-01  9.58875206e-01  9.27612590e-01\n",
            "   8.88827511e-01 -1.73470272e-01]\n",
            " [-4.03352088e-01  9.27612590e-01  5.40380845e-01  9.27612590e-01\n",
            "   2.14463453e-01 -8.83355056e-02]\n",
            " [ 7.36865829e-01 -1.07803625e+00 -5.47704496e-01 -1.07803625e+00\n",
            "  -6.32412340e-01 -2.19312069e-01]\n",
            " [-1.54357000e+00  9.27612590e-01  1.12627295e+00  9.27612590e-01\n",
            "   1.62592311e+00 -1.24420367e+00]\n",
            " [ 8.50887620e-01 -1.07803625e+00 -8.73606980e-02 -1.07803625e+00\n",
            "  -6.48095225e-01 -6.21401931e-02]\n",
            " [ 1.30697479e+00 -1.07803625e+00 -2.68202574e+00 -1.07803625e+00\n",
            "  -7.10826765e-01  1.01580511e-01]\n",
            " [-3.46341192e-01 -1.07803625e+00 -2.12909007e-01 -1.07803625e+00\n",
            "   1.06133925e+00 -1.25730133e+00]\n",
            " [-2.32319401e-01 -1.07803625e+00 -1.21729547e+00 -1.07803625e+00\n",
            "  -1.41655659e+00  1.18868598e+00]\n",
            " [ 2.23767766e-01 -1.07803625e+00 -5.05855060e-01 -1.07803625e+00\n",
            "   5.76346026e-02  1.51285298e+00]\n",
            " [ 2.16213822e+00  9.27612590e-01 -6.73252805e-01  9.27612590e-01\n",
            "  -1.02448447e+00  1.06425825e+00]\n",
            " [-1.60058090e+00  9.27612590e-01 -6.73252805e-01  9.27612590e-01\n",
            "  -1.36950794e+00  1.39169966e+00]\n",
            " [-4.03352088e-01  9.27612590e-01  7.49628026e-01  9.27612590e-01\n",
            "   6.84950005e-01  2.19459417e-01]\n",
            " [ 6.22844037e-01  9.27612590e-01 -3.66182567e-03  9.27612590e-01\n",
            "  -4.75583489e-01  3.17691839e-01]\n",
            " [ 1.30697479e+00  9.27612590e-01  4.14832536e-01  9.27612590e-01\n",
            "   3.39926534e-01 -7.75962461e-01]\n",
            " [ 1.99110554e+00 -1.07803625e+00 -2.96607879e-01 -1.07803625e+00\n",
            "   9.67241936e-01  7.59737739e-01]\n",
            " [ 1.30697479e+00  9.27612590e-01  3.72983100e-01  9.27612590e-01\n",
            "  -3.81486179e-01  5.33803168e-01]\n",
            " [-1.14449373e+00  9.27612590e-01  6.65929153e-01  9.27612590e-01\n",
            "   5.59486924e-01 -1.60372615e-01]\n",
            " [-1.60058090e+00 -1.07803625e+00 -1.17544604e+00 -1.07803625e+00\n",
            "   3.08560764e-01 -1.53823787e-01]\n",
            " [-4.03352088e-01 -1.07803625e+00  4.14832536e-01 -1.07803625e+00\n",
            "   1.17111944e+00 -3.24093319e-01]\n",
            " [-7.45417463e-01  9.27612590e-01  1.33552013e+00  9.27612590e-01\n",
            "   1.81411773e+00  1.12647212e+00]\n",
            " [-2.89330296e-01 -1.07803625e+00 -1.00804829e+00 -1.07803625e+00\n",
            "  -8.67655616e-01 -3.66660702e-01]\n",
            " [-2.32319401e-01  9.27612590e-01  8.33326898e-01  9.27612590e-01\n",
            "   6.37901350e-01 -3.20073976e-03]\n",
            " [ 7.36865829e-01 -1.07803625e+00 -4.22156187e-01 -1.07803625e+00\n",
            "  -9.14704271e-01  3.24240668e-01]\n",
            " [ 5.65833141e-01  9.27612590e-01  8.33326898e-01  9.27612590e-01\n",
            "   2.61512108e-01 -4.51795468e-01]\n",
            " [ 9.64909412e-01  9.27612590e-01  4.56681972e-01  9.27612590e-01\n",
            "  -3.81486179e-01  4.87961371e-01]\n",
            " [ 4.51811350e-01  9.27612590e-01  1.62846619e+00  9.27612590e-01\n",
            "   1.56319157e+00 -3.33916561e-01]\n",
            " [ 1.87708375e+00 -1.07803625e+00  4.98531408e-01 -1.07803625e+00\n",
            "   1.36049028e-01  2.30198677e+00]\n",
            " [-1.14449373e+00 -1.07803625e+00 -1.88688645e+00 -1.07803625e+00\n",
            "  -1.16563043e+00  5.14156684e-01]\n",
            " [-5.17373880e-01  9.27612590e-01  8.33326898e-01  9.27612590e-01\n",
            "   3.24243649e-01 -1.58801715e+00]\n",
            " [-5.17373880e-01  9.27612590e-01  9.17025770e-01  9.27612590e-01\n",
            "   6.84950005e-01 -4.41972226e-01]]\n"
          ]
        }
      ]
    },
    {
      "cell_type": "code",
      "source": [
        "print(x_test)"
      ],
      "metadata": {
        "colab": {
          "base_uri": "https://localhost:8080/"
        },
        "id": "jqOGcy9AyZn4",
        "outputId": "605605b9-56f9-4a92-acb3-d26ef3f69250"
      },
      "execution_count": null,
      "outputs": [
        {
          "output_type": "stream",
          "name": "stdout",
          "text": [
            "[[-0.51737388  0.92761259  1.75401449  0.92761259  1.43772849 -0.78906012]\n",
            " [-1.54357     0.92761259  0.24743479  0.92761259  0.43402384 -0.41577691]\n",
            " [-0.97346105 -1.07803625  0.12188648 -1.07803625 -0.41285195  1.41462055]\n",
            " [-0.51737388  0.92761259  1.92141224  0.92761259  1.56319157  1.83374556]\n",
            " [-0.68840657  0.92761259  1.16812239  0.92761259  1.34363118  0.40937543]\n",
            " [-0.40335209 -1.07803625 -0.96619886 -1.07803625 -1.65179987 -0.57294879]\n",
            " [-1.71460269 -1.07803625 -1.09174717 -1.07803625  0.95155905 -0.95278082]\n",
            " [-0.11829761 -1.07803625 -0.46400562 -1.07803625 -0.35012041  0.18998969]\n",
            " [-0.46036298 -1.07803625 -1.25914491 -1.07803625 -0.13056002  0.46504047]\n",
            " [-0.63139567  0.92761259  1.20997182  0.92761259  0.95155905 -0.07851226]\n",
            " [-1.31552642 -1.07803625 -0.79880111 -1.07803625 -2.6711874  -0.36011187]\n",
            " [ 1.30697479  0.92761259  1.16812239  0.92761259  0.74768155  3.56263619]\n",
            " [-0.63139567 -1.07803625 -0.42215619 -1.07803625 -0.05214559  1.26727192]\n",
            " [ 2.5612145   0.92761259  0.03818761  0.92761259  0.3712923  -0.63843707]\n",
            " [-0.68840657 -1.07803625 -0.46400562 -1.07803625 -0.16192579  0.24892914]\n",
            " [-0.80242836 -1.07803625 -0.33845732 -1.07803625 -0.06782848  0.31769184]\n",
            " [ 0.28077866  0.92761259  1.00072464  0.92761259  0.26151211  0.01317133]\n",
            " [ 1.30697479 -1.07803625 -0.50585506 -1.07803625 -1.47928813 -0.06214019]\n",
            " [ 0.56583314 -1.07803625 -1.00804829 -1.07803625 -1.16563043  0.60256586]\n",
            " [ 0.73686583  0.92761259  0.24743479  0.92761259 -0.42853483  0.07865961]\n",
            " [-0.68840657  0.92761259  1.8795628   0.92761259  1.62592311  1.11992329]]\n"
          ]
        }
      ]
    },
    {
      "cell_type": "markdown",
      "source": [
        "Initialization ANN(Artificial Neural Network)"
      ],
      "metadata": {
        "id": "V7W5ratTbvYi"
      }
    },
    {
      "cell_type": "code",
      "source": [
        "#Initialising ANN\n",
        "ann_haemo = tf.keras.models.Sequential()"
      ],
      "metadata": {
        "id": "B5zbjD8Q8ZjG"
      },
      "execution_count": null,
      "outputs": []
    },
    {
      "cell_type": "code",
      "source": [
        "#Adding First Hidden Layer\n",
        "ann_haemo.add(tf.keras.layers.Dense(units=6,activation=\"relu\"))"
      ],
      "metadata": {
        "id": "NswXd5hA8gc0"
      },
      "execution_count": null,
      "outputs": []
    },
    {
      "cell_type": "code",
      "source": [
        "#Adding Second Hidden Layer\n",
        "ann_haemo.add(tf.keras.layers.Dense(units=6,activation=\"relu\"))"
      ],
      "metadata": {
        "id": "81i6XGC68kAE"
      },
      "execution_count": null,
      "outputs": []
    },
    {
      "cell_type": "code",
      "source": [
        "#Adding Output Layer\n",
        "ann_haemo.add(tf.keras.layers.Dense(units=1,activation=\"sigmoid\"))"
      ],
      "metadata": {
        "id": "zphn929c8o0U"
      },
      "execution_count": null,
      "outputs": []
    },
    {
      "cell_type": "code",
      "source": [
        "#Compiling ANN\n",
        "ann_haemo.compile(optimizer=\"adam\",loss=\"binary_crossentropy\",metrics=['accuracy'])"
      ],
      "metadata": {
        "id": "ft7IRpn48qiA"
      },
      "execution_count": null,
      "outputs": []
    },
    {
      "cell_type": "code",
      "source": [
        "#Fitting ANN\n",
        "ann_haemo.fit(x_train,y_train,batch_size=32,epochs = 100)"
      ],
      "metadata": {
        "colab": {
          "base_uri": "https://localhost:8080/"
        },
        "id": "95S5kBtO8y3o",
        "outputId": "93d8934d-9c88-430b-b3f8-af62e097f3bd"
      },
      "execution_count": null,
      "outputs": [
        {
          "output_type": "stream",
          "name": "stdout",
          "text": [
            "Epoch 1/100\n",
            "3/3 [==============================] - 2s 7ms/step - loss: 0.7244 - accuracy: 0.3125\n",
            "Epoch 2/100\n",
            "3/3 [==============================] - 0s 8ms/step - loss: 0.7204 - accuracy: 0.3125\n",
            "Epoch 3/100\n",
            "3/3 [==============================] - 0s 4ms/step - loss: 0.7163 - accuracy: 0.3250\n",
            "Epoch 4/100\n",
            "3/3 [==============================] - 0s 9ms/step - loss: 0.7131 - accuracy: 0.3375\n",
            "Epoch 5/100\n",
            "3/3 [==============================] - 0s 8ms/step - loss: 0.7099 - accuracy: 0.3625\n",
            "Epoch 6/100\n",
            "3/3 [==============================] - 0s 7ms/step - loss: 0.7061 - accuracy: 0.3750\n",
            "Epoch 7/100\n",
            "3/3 [==============================] - 0s 6ms/step - loss: 0.7026 - accuracy: 0.4125\n",
            "Epoch 8/100\n",
            "3/3 [==============================] - 0s 7ms/step - loss: 0.6995 - accuracy: 0.5500\n",
            "Epoch 9/100\n",
            "3/3 [==============================] - 0s 8ms/step - loss: 0.6960 - accuracy: 0.6125\n",
            "Epoch 10/100\n",
            "3/3 [==============================] - 0s 7ms/step - loss: 0.6927 - accuracy: 0.6375\n",
            "Epoch 11/100\n",
            "3/3 [==============================] - 0s 8ms/step - loss: 0.6894 - accuracy: 0.6500\n",
            "Epoch 12/100\n",
            "3/3 [==============================] - 0s 5ms/step - loss: 0.6866 - accuracy: 0.6500\n",
            "Epoch 13/100\n",
            "3/3 [==============================] - 0s 6ms/step - loss: 0.6829 - accuracy: 0.6500\n",
            "Epoch 14/100\n",
            "3/3 [==============================] - 0s 4ms/step - loss: 0.6801 - accuracy: 0.6750\n",
            "Epoch 15/100\n",
            "3/3 [==============================] - 0s 8ms/step - loss: 0.6769 - accuracy: 0.6750\n",
            "Epoch 16/100\n",
            "3/3 [==============================] - 0s 11ms/step - loss: 0.6730 - accuracy: 0.6750\n",
            "Epoch 17/100\n",
            "3/3 [==============================] - 0s 8ms/step - loss: 0.6696 - accuracy: 0.6875\n",
            "Epoch 18/100\n",
            "3/3 [==============================] - 0s 4ms/step - loss: 0.6659 - accuracy: 0.7000\n",
            "Epoch 19/100\n",
            "3/3 [==============================] - 0s 13ms/step - loss: 0.6622 - accuracy: 0.6875\n",
            "Epoch 20/100\n",
            "3/3 [==============================] - 0s 11ms/step - loss: 0.6583 - accuracy: 0.6875\n",
            "Epoch 21/100\n",
            "3/3 [==============================] - 0s 5ms/step - loss: 0.6553 - accuracy: 0.6875\n",
            "Epoch 22/100\n",
            "3/3 [==============================] - 0s 10ms/step - loss: 0.6514 - accuracy: 0.7000\n",
            "Epoch 23/100\n",
            "3/3 [==============================] - 0s 5ms/step - loss: 0.6479 - accuracy: 0.7000\n",
            "Epoch 24/100\n",
            "3/3 [==============================] - 0s 7ms/step - loss: 0.6445 - accuracy: 0.7000\n",
            "Epoch 25/100\n",
            "3/3 [==============================] - 0s 3ms/step - loss: 0.6407 - accuracy: 0.7000\n",
            "Epoch 26/100\n",
            "3/3 [==============================] - 0s 11ms/step - loss: 0.6370 - accuracy: 0.7000\n",
            "Epoch 27/100\n",
            "3/3 [==============================] - 0s 7ms/step - loss: 0.6335 - accuracy: 0.7125\n",
            "Epoch 28/100\n",
            "3/3 [==============================] - 0s 11ms/step - loss: 0.6293 - accuracy: 0.7125\n",
            "Epoch 29/100\n",
            "3/3 [==============================] - 0s 7ms/step - loss: 0.6249 - accuracy: 0.7125\n",
            "Epoch 30/100\n",
            "3/3 [==============================] - 0s 4ms/step - loss: 0.6202 - accuracy: 0.7125\n",
            "Epoch 31/100\n",
            "3/3 [==============================] - 0s 6ms/step - loss: 0.6158 - accuracy: 0.7125\n",
            "Epoch 32/100\n",
            "3/3 [==============================] - 0s 6ms/step - loss: 0.6100 - accuracy: 0.7125\n",
            "Epoch 33/100\n",
            "3/3 [==============================] - 0s 5ms/step - loss: 0.6043 - accuracy: 0.7125\n",
            "Epoch 34/100\n",
            "3/3 [==============================] - 0s 5ms/step - loss: 0.5978 - accuracy: 0.7125\n",
            "Epoch 35/100\n",
            "3/3 [==============================] - 0s 6ms/step - loss: 0.5911 - accuracy: 0.7125\n",
            "Epoch 36/100\n",
            "3/3 [==============================] - 0s 4ms/step - loss: 0.5838 - accuracy: 0.7125\n",
            "Epoch 37/100\n",
            "3/3 [==============================] - 0s 7ms/step - loss: 0.5765 - accuracy: 0.7125\n",
            "Epoch 38/100\n",
            "3/3 [==============================] - 0s 6ms/step - loss: 0.5689 - accuracy: 0.7125\n",
            "Epoch 39/100\n",
            "3/3 [==============================] - 0s 7ms/step - loss: 0.5605 - accuracy: 0.7375\n",
            "Epoch 40/100\n",
            "3/3 [==============================] - 0s 4ms/step - loss: 0.5532 - accuracy: 0.7375\n",
            "Epoch 41/100\n",
            "3/3 [==============================] - 0s 4ms/step - loss: 0.5458 - accuracy: 0.7375\n",
            "Epoch 42/100\n",
            "3/3 [==============================] - 0s 4ms/step - loss: 0.5388 - accuracy: 0.7500\n",
            "Epoch 43/100\n",
            "3/3 [==============================] - 0s 4ms/step - loss: 0.5309 - accuracy: 0.7500\n",
            "Epoch 44/100\n",
            "3/3 [==============================] - 0s 5ms/step - loss: 0.5242 - accuracy: 0.7500\n",
            "Epoch 45/100\n",
            "3/3 [==============================] - 0s 4ms/step - loss: 0.5183 - accuracy: 0.7500\n",
            "Epoch 46/100\n",
            "3/3 [==============================] - 0s 10ms/step - loss: 0.5113 - accuracy: 0.7500\n",
            "Epoch 47/100\n",
            "3/3 [==============================] - 0s 9ms/step - loss: 0.5044 - accuracy: 0.7500\n",
            "Epoch 48/100\n",
            "3/3 [==============================] - 0s 5ms/step - loss: 0.4984 - accuracy: 0.7500\n",
            "Epoch 49/100\n",
            "3/3 [==============================] - 0s 8ms/step - loss: 0.4933 - accuracy: 0.7500\n",
            "Epoch 50/100\n",
            "3/3 [==============================] - 0s 11ms/step - loss: 0.4874 - accuracy: 0.7625\n",
            "Epoch 51/100\n",
            "3/3 [==============================] - 0s 13ms/step - loss: 0.4827 - accuracy: 0.7625\n",
            "Epoch 52/100\n",
            "3/3 [==============================] - 0s 6ms/step - loss: 0.4781 - accuracy: 0.7625\n",
            "Epoch 53/100\n",
            "3/3 [==============================] - 0s 6ms/step - loss: 0.4737 - accuracy: 0.7625\n",
            "Epoch 54/100\n",
            "3/3 [==============================] - 0s 5ms/step - loss: 0.4700 - accuracy: 0.7625\n",
            "Epoch 55/100\n",
            "3/3 [==============================] - 0s 7ms/step - loss: 0.4660 - accuracy: 0.7625\n",
            "Epoch 56/100\n",
            "3/3 [==============================] - 0s 7ms/step - loss: 0.4622 - accuracy: 0.7625\n",
            "Epoch 57/100\n",
            "3/3 [==============================] - 0s 6ms/step - loss: 0.4589 - accuracy: 0.7625\n",
            "Epoch 58/100\n",
            "3/3 [==============================] - 0s 9ms/step - loss: 0.4556 - accuracy: 0.7625\n",
            "Epoch 59/100\n",
            "3/3 [==============================] - 0s 7ms/step - loss: 0.4524 - accuracy: 0.7625\n",
            "Epoch 60/100\n",
            "3/3 [==============================] - 0s 8ms/step - loss: 0.4495 - accuracy: 0.7625\n",
            "Epoch 61/100\n",
            "3/3 [==============================] - 0s 5ms/step - loss: 0.4463 - accuracy: 0.7625\n",
            "Epoch 62/100\n",
            "3/3 [==============================] - 0s 7ms/step - loss: 0.4431 - accuracy: 0.7625\n",
            "Epoch 63/100\n",
            "3/3 [==============================] - 0s 5ms/step - loss: 0.4407 - accuracy: 0.7625\n",
            "Epoch 64/100\n",
            "3/3 [==============================] - 0s 5ms/step - loss: 0.4378 - accuracy: 0.7625\n",
            "Epoch 65/100\n",
            "3/3 [==============================] - 0s 5ms/step - loss: 0.4351 - accuracy: 0.7625\n",
            "Epoch 66/100\n",
            "3/3 [==============================] - 0s 5ms/step - loss: 0.4325 - accuracy: 0.7625\n",
            "Epoch 67/100\n",
            "3/3 [==============================] - 0s 5ms/step - loss: 0.4301 - accuracy: 0.7625\n",
            "Epoch 68/100\n",
            "3/3 [==============================] - 0s 4ms/step - loss: 0.4276 - accuracy: 0.7625\n",
            "Epoch 69/100\n",
            "3/3 [==============================] - 0s 3ms/step - loss: 0.4255 - accuracy: 0.7625\n",
            "Epoch 70/100\n",
            "3/3 [==============================] - 0s 5ms/step - loss: 0.4232 - accuracy: 0.7750\n",
            "Epoch 71/100\n",
            "3/3 [==============================] - 0s 3ms/step - loss: 0.4209 - accuracy: 0.7750\n",
            "Epoch 72/100\n",
            "3/3 [==============================] - 0s 15ms/step - loss: 0.4187 - accuracy: 0.7750\n",
            "Epoch 73/100\n",
            "3/3 [==============================] - 0s 5ms/step - loss: 0.4165 - accuracy: 0.7750\n",
            "Epoch 74/100\n",
            "3/3 [==============================] - 0s 4ms/step - loss: 0.4143 - accuracy: 0.7750\n",
            "Epoch 75/100\n",
            "3/3 [==============================] - 0s 7ms/step - loss: 0.4122 - accuracy: 0.7750\n",
            "Epoch 76/100\n",
            "3/3 [==============================] - 0s 7ms/step - loss: 0.4100 - accuracy: 0.7875\n",
            "Epoch 77/100\n",
            "3/3 [==============================] - 0s 11ms/step - loss: 0.4081 - accuracy: 0.7875\n",
            "Epoch 78/100\n",
            "3/3 [==============================] - 0s 4ms/step - loss: 0.4059 - accuracy: 0.7875\n",
            "Epoch 79/100\n",
            "3/3 [==============================] - 0s 6ms/step - loss: 0.4038 - accuracy: 0.7875\n",
            "Epoch 80/100\n",
            "3/3 [==============================] - 0s 5ms/step - loss: 0.4015 - accuracy: 0.7875\n",
            "Epoch 81/100\n",
            "3/3 [==============================] - 0s 7ms/step - loss: 0.3995 - accuracy: 0.7875\n",
            "Epoch 82/100\n",
            "3/3 [==============================] - 0s 12ms/step - loss: 0.3972 - accuracy: 0.7875\n",
            "Epoch 83/100\n",
            "3/3 [==============================] - 0s 8ms/step - loss: 0.3952 - accuracy: 0.7875\n",
            "Epoch 84/100\n",
            "3/3 [==============================] - 0s 9ms/step - loss: 0.3932 - accuracy: 0.7875\n",
            "Epoch 85/100\n",
            "3/3 [==============================] - 0s 12ms/step - loss: 0.3911 - accuracy: 0.7875\n",
            "Epoch 86/100\n",
            "3/3 [==============================] - 0s 9ms/step - loss: 0.3894 - accuracy: 0.8000\n",
            "Epoch 87/100\n",
            "3/3 [==============================] - 0s 5ms/step - loss: 0.3873 - accuracy: 0.8125\n",
            "Epoch 88/100\n",
            "3/3 [==============================] - 0s 9ms/step - loss: 0.3855 - accuracy: 0.8125\n",
            "Epoch 89/100\n",
            "3/3 [==============================] - 0s 6ms/step - loss: 0.3835 - accuracy: 0.8125\n",
            "Epoch 90/100\n",
            "3/3 [==============================] - 0s 9ms/step - loss: 0.3816 - accuracy: 0.8125\n",
            "Epoch 91/100\n",
            "3/3 [==============================] - 0s 4ms/step - loss: 0.3799 - accuracy: 0.8125\n",
            "Epoch 92/100\n",
            "3/3 [==============================] - 0s 8ms/step - loss: 0.3782 - accuracy: 0.8125\n",
            "Epoch 93/100\n",
            "3/3 [==============================] - 0s 15ms/step - loss: 0.3762 - accuracy: 0.8125\n",
            "Epoch 94/100\n",
            "3/3 [==============================] - 0s 10ms/step - loss: 0.3743 - accuracy: 0.8125\n",
            "Epoch 95/100\n",
            "3/3 [==============================] - 0s 7ms/step - loss: 0.3725 - accuracy: 0.8250\n",
            "Epoch 96/100\n",
            "3/3 [==============================] - 0s 6ms/step - loss: 0.3706 - accuracy: 0.8250\n",
            "Epoch 97/100\n",
            "3/3 [==============================] - 0s 6ms/step - loss: 0.3686 - accuracy: 0.8250\n",
            "Epoch 98/100\n",
            "3/3 [==============================] - 0s 5ms/step - loss: 0.3667 - accuracy: 0.8250\n",
            "Epoch 99/100\n",
            "3/3 [==============================] - 0s 11ms/step - loss: 0.3648 - accuracy: 0.8250\n",
            "Epoch 100/100\n",
            "3/3 [==============================] - 0s 6ms/step - loss: 0.3629 - accuracy: 0.8250\n"
          ]
        },
        {
          "output_type": "execute_result",
          "data": {
            "text/plain": [
              "<keras.callbacks.History at 0x7f5669f7c4d0>"
            ]
          },
          "metadata": {},
          "execution_count": 30
        }
      ]
    },
    {
      "cell_type": "code",
      "source": [
        "y_log = ann_haemo.predict(x_test)"
      ],
      "metadata": {
        "colab": {
          "base_uri": "https://localhost:8080/"
        },
        "id": "TCRmFFnbCLMV",
        "outputId": "8b34eefe-c06c-45e6-89d3-f1347a88e8b9"
      },
      "execution_count": null,
      "outputs": [
        {
          "output_type": "stream",
          "name": "stdout",
          "text": [
            "1/1 [==============================] - 0s 81ms/step\n"
          ]
        }
      ]
    },
    {
      "cell_type": "code",
      "source": [
        "y_pred = np.where(y_log>0.5,1,0)"
      ],
      "metadata": {
        "id": "CKlkTJe5Cb1V"
      },
      "execution_count": null,
      "outputs": []
    },
    {
      "cell_type": "code",
      "source": [
        "from sklearn.metrics import accuracy_score\n",
        "ann = accuracy_score(y_test, y_pred)\n",
        "ann"
      ],
      "metadata": {
        "colab": {
          "base_uri": "https://localhost:8080/"
        },
        "id": "R72pjkgQCrKo",
        "outputId": "94445089-1d32-4338-95ef-ed97d54ddea8"
      },
      "execution_count": null,
      "outputs": [
        {
          "output_type": "execute_result",
          "data": {
            "text/plain": [
              "0.8095238095238095"
            ]
          },
          "metadata": {},
          "execution_count": 34
        }
      ]
    },
    {
      "cell_type": "code",
      "source": [
        "ann_accuracy = accuracy_score(y_test, y_pred)*100\n",
        "print(\"Accuracy of the Test data: \" + str(round(ann_accuracy, 2))+ '%')"
      ],
      "metadata": {
        "colab": {
          "base_uri": "https://localhost:8080/"
        },
        "id": "Hd3VCK0lDC6U",
        "outputId": "8497f95e-7b53-46a1-d10b-cbc5170b14f1"
      },
      "execution_count": null,
      "outputs": [
        {
          "output_type": "stream",
          "name": "stdout",
          "text": [
            "Accuracy of the Test data: 80.95%\n"
          ]
        }
      ]
    },
    {
      "cell_type": "markdown",
      "source": [
        "Logistic Regression"
      ],
      "metadata": {
        "id": "RYPFNJ3gWdEO"
      }
    },
    {
      "cell_type": "code",
      "source": [
        "from sklearn.linear_model import LogisticRegression\n",
        "from sklearn.metrics import accuracy_score\n",
        "model = LogisticRegression()\n",
        "# training the logistic regression model with training data\n",
        "model.fit(x_train, y_train)"
      ],
      "metadata": {
        "colab": {
          "base_uri": "https://localhost:8080/"
        },
        "id": "ehsKycCuWbzO",
        "outputId": "300128a9-e9a8-4426-8f5c-c2d153792a82"
      },
      "execution_count": null,
      "outputs": [
        {
          "output_type": "execute_result",
          "data": {
            "text/plain": [
              "LogisticRegression()"
            ]
          },
          "metadata": {},
          "execution_count": 36
        }
      ]
    },
    {
      "cell_type": "code",
      "source": [
        "# accuracy score\n",
        "# training data trd\n",
        "x_train_pred = model.predict(x_train)\n",
        "trd_accuracy = accuracy_score(x_train_pred, y_train)*100\n",
        "print(\"Accuracy of the Training data: \" + str(round(trd_accuracy, 2))+ '%')"
      ],
      "metadata": {
        "colab": {
          "base_uri": "https://localhost:8080/"
        },
        "id": "8D_PT5wbWyqO",
        "outputId": "781ce2c1-77ac-414e-caf8-2d68594c494c"
      },
      "execution_count": null,
      "outputs": [
        {
          "output_type": "stream",
          "name": "stdout",
          "text": [
            "Accuracy of the Training data: 96.25%\n"
          ]
        }
      ]
    },
    {
      "cell_type": "code",
      "source": [
        "# test data ted\n",
        "x_test_pred = model.predict(x_test)\n",
        "ted_accuracy = accuracy_score(x_test_pred, y_test)*100\n",
        "print(\"Accuracy of the Test data: \" + str(round(ted_accuracy, 2)) + '%')"
      ],
      "metadata": {
        "colab": {
          "base_uri": "https://localhost:8080/"
        },
        "id": "Dn5_VFzkW0hy",
        "outputId": "ad1f689d-df83-4704-8aad-5e86f15abb4d"
      },
      "execution_count": null,
      "outputs": [
        {
          "output_type": "stream",
          "name": "stdout",
          "text": [
            "Accuracy of the Test data: 95.24%\n"
          ]
        }
      ]
    },
    {
      "cell_type": "code",
      "source": [
        "input_data = (25, 1, 14.1, 13, 4.54, 6490) # 37th record\n",
        "\n",
        "# input data -> numpy array\n",
        "ip_data_np_arr = np.asarray(input_data)\n",
        "\n",
        "# reshaping the array\n",
        "ip_data_reshaped = ip_data_np_arr.reshape(1, -1)\n",
        "\n",
        "pred = model.predict(ip_data_reshaped)\n",
        "print(pred)"
      ],
      "metadata": {
        "colab": {
          "base_uri": "https://localhost:8080/"
        },
        "id": "8YAcgL-CW4qh",
        "outputId": "1ddd650a-3de0-4b42-ea97-de0b85e55170"
      },
      "execution_count": null,
      "outputs": [
        {
          "output_type": "stream",
          "name": "stdout",
          "text": [
            "[1]\n"
          ]
        }
      ]
    },
    {
      "cell_type": "markdown",
      "source": [
        "SVM"
      ],
      "metadata": {
        "id": "HrzdCsTFXFkj"
      }
    },
    {
      "cell_type": "code",
      "source": [
        "from sklearn.preprocessing import StandardScaler\n",
        "from sklearn.metrics import confusion_matrix, accuracy_score"
      ],
      "metadata": {
        "id": "goriGLRuXFEa"
      },
      "execution_count": null,
      "outputs": []
    },
    {
      "cell_type": "code",
      "source": [
        "sc = StandardScaler()"
      ],
      "metadata": {
        "id": "3rU4bMJLXXS1"
      },
      "execution_count": null,
      "outputs": []
    },
    {
      "cell_type": "code",
      "source": [
        "# training the model with training dataset\n",
        "x_train = sc.fit_transform(x_train)\n",
        "x_test = sc.fit_transform(x_test)"
      ],
      "metadata": {
        "id": "bcNHhN0mXdBp"
      },
      "execution_count": null,
      "outputs": []
    },
    {
      "cell_type": "code",
      "source": [
        "print(x_train)"
      ],
      "metadata": {
        "colab": {
          "base_uri": "https://localhost:8080/"
        },
        "id": "qIzd5lViXdui",
        "outputId": "85a90ab4-6366-48b5-a481-6e5a0e06be61"
      },
      "execution_count": null,
      "outputs": [
        {
          "output_type": "stream",
          "name": "stdout",
          "text": [
            "[[-6.88406567e-01  9.27612590e-01  5.82230281e-01  9.27612590e-01\n",
            "   6.22218465e-01 -1.17216656e+00]\n",
            " [ 9.07898516e-01 -1.07803625e+00 -5.47704496e-01 -1.07803625e+00\n",
            "  -9.46070041e-01 -1.01826910e+00]\n",
            " [-6.88406567e-01  9.27612590e-01  7.49628026e-01  9.27612590e-01\n",
            "  -5.85363685e-01 -3.33916561e-01]\n",
            " [-5.17373880e-01  9.27612590e-01  9.58875206e-01  9.27612590e-01\n",
            "   8.41778855e-01 -2.84800350e-01]\n",
            " [ 5.65833141e-01 -1.07803625e+00 -2.12909007e-01 -1.07803625e+00\n",
            "  -5.69680800e-01 -6.54809140e-01]\n",
            " [ 1.30697479e+00 -1.07803625e+00 -6.73252805e-01 -1.07803625e+00\n",
            "  -8.83338501e-01  2.22733831e-01]\n",
            " [-1.18297609e-01  9.27612590e-01 -4.55112618e-02  9.27612590e-01\n",
            "  -1.07153312e+00 -1.19508746e+00]\n",
            " [ 1.36398568e+00  9.27612590e-01  5.40380845e-01  9.27612590e-01\n",
            "   6.84950005e-01 -3.83032772e-01]\n",
            " [-2.28471165e+00 -1.07803625e+00 -1.29210134e-01 -1.07803625e+00\n",
            "   1.51731913e-01  1.01186762e+00]\n",
            " [-4.03352088e-01  9.27612590e-01  9.17025770e-01  9.27612590e-01\n",
            "   9.98607706e-01  4.02826605e-01]\n",
            " [ 7.36865829e-01 -1.07803625e+00 -2.96607879e-01 -1.07803625e+00\n",
            "  -8.83338501e-01 -8.74194883e-01]\n",
            " [ 9.64909412e-01 -1.07803625e+00  7.49628026e-01 -1.07803625e+00\n",
            "   3.71292304e-01 -9.10213438e-01]\n",
            " [-4.60362984e-01  9.27612590e-01  6.65929153e-01  9.27612590e-01\n",
            "   4.18340959e-01  8.52084402e-02]\n",
            " [-5.17373880e-01 -1.07803625e+00  7.07778589e-01 -1.07803625e+00\n",
            "   9.20193281e-01 -8.77469297e-01]\n",
            " [ 1.02192031e+00 -1.07803625e+00 -6.31403368e-01 -1.07803625e+00\n",
            "  -1.11858178e+00  4.68314887e-01]\n",
            " [-7.45417463e-01 -1.07803625e+00 -1.30099435e+00 -1.07803625e+00\n",
            "  -1.46360525e+00 -9.48843338e-02]\n",
            " [ 2.16213822e+00 -1.07803625e+00 -7.56951677e-01 -1.07803625e+00\n",
            "  -1.85567737e+00 -3.59448805e-02]\n",
            " [ 1.76306195e+00 -1.07803625e+00 -1.09174717e+00 -1.07803625e+00\n",
            "  -8.35113629e-02 -1.66660309e+00]\n",
            " [-8.02428359e-01  9.27612590e-01  6.24079717e-01  9.27612590e-01\n",
            "   1.13975367e+00 -3.40465389e-01]\n",
            " [ 1.02192031e+00 -1.07803625e+00 -9.24349422e-01 -1.07803625e+00\n",
            "  -2.71705984e-01 -1.34177303e-01]\n",
            " [-1.77161359e+00  9.27612590e-01 -2.12909007e-01  9.27612590e-01\n",
            "   1.67414798e-01 -1.63713336e+00]\n",
            " [-5.17373880e-01  9.27612590e-01  8.33326898e-01  9.27612590e-01\n",
            "   6.84950005e-01 -5.55913649e-02]\n",
            " [ 1.30697479e+00  9.27612590e-01  4.14832536e-01  9.27612590e-01\n",
            "   3.39926534e-01 -7.75962461e-01]\n",
            " [ 5.27350787e-02  9.27612590e-01  2.21435829e+00  9.27612590e-01\n",
            "   2.08072678e+00  2.40021919e+00]\n",
            " [-3.46341192e-01  9.27612590e-01  1.20997182e+00  9.27612590e-01\n",
            "   1.92389792e+00 -1.69934723e+00]\n",
            " [-6.88406567e-01  9.27612590e-01  1.54476731e+00  9.27612590e-01\n",
            "   1.35931406e+00 -3.60111874e-01]\n",
            " [-6.88406567e-01 -1.07803625e+00 -1.38469322e+00 -1.07803625e+00\n",
            "  -1.68316564e+00  2.65301214e-01]\n",
            " [-6.88406567e-01 -1.07803625e+00 -5.47704496e-01 -1.07803625e+00\n",
            "  -1.68316564e+00  2.65301214e-01]\n",
            " [ 3.37789558e-01 -1.07803625e+00 -1.30099435e+00 -1.07803625e+00\n",
            "  -4.59900604e-01  1.74861079e+00]\n",
            " [ 1.66756870e-01  9.27612590e-01  1.00072464e+00  9.27612590e-01\n",
            "   4.18340959e-01 -1.99338961e+00]\n",
            " [-6.12867130e-02 -1.07803625e+00 -1.76133815e+00 -1.07803625e+00\n",
            "  -1.77608673e-01 -5.20558163e-01]\n",
            " [-5.17373880e-01  9.27612590e-01  7.07778589e-01  9.27612590e-01\n",
            "   3.55609419e-01 -6.90827695e-01]\n",
            " [ 1.66756870e-01 -1.07803625e+00 -1.46839209e+00 -1.07803625e+00\n",
            "  -5.21455928e-02 -2.94623592e-01]\n",
            " [-3.46341192e-01  9.27612590e-01 -3.80306751e-01  9.27612590e-01\n",
            "   3.71292304e-01  7.04072700e-01]\n",
            " [ 4.51811350e-01 -1.07803625e+00 -4.55112618e-02 -1.07803625e+00\n",
            "  -6.79460995e-01  1.07735590e+00]\n",
            " [ 5.08822245e-01  9.27612590e-01  1.63735919e-01  9.27612590e-01\n",
            "   6.06535580e-01 -8.50610916e-02]\n",
            " [-9.73461046e-01  9.27612590e-01  8.33326898e-01  9.27612590e-01\n",
            "  -3.64627078e-02 -3.86307186e-01]\n",
            " [-1.71460269e+00  9.27612590e-01 -4.64005624e-01  9.27612590e-01\n",
            "   6.22218465e-01 -1.01433162e-01]\n",
            " [-6.88406567e-01 -1.07803625e+00 -6.73252805e-01 -1.07803625e+00\n",
            "  -2.56023099e-01  7.40091255e-01]\n",
            " [ 5.08822245e-01 -1.07803625e+00 -7.56951677e-01 -1.07803625e+00\n",
            "  -7.57875420e-01  2.27579145e+00]\n",
            " [-2.89330296e-01  9.27612590e-01  9.17025770e-01  9.27612590e-01\n",
            "   7.79047315e-01  6.62250246e-03]\n",
            " [-2.89330296e-01 -1.07803625e+00 -1.04989773e+00 -1.07803625e+00\n",
            "  -9.93118696e-01  6.35310004e-01]\n",
            " [-1.20150463e+00 -1.07803625e+00  2.05585355e-01 -1.07803625e+00\n",
            "  -4.28534834e-01 -1.37451717e-01]\n",
            " [-4.60362984e-01  9.27612590e-01  1.16812239e+00  9.27612590e-01\n",
            "   1.17111944e+00  4.58491645e-01]\n",
            " [-1.25851553e+00 -1.07803625e+00 -2.01243476e+00 -1.07803625e+00\n",
            "  -4.75583489e-01  2.29945728e-02]\n",
            " [ 1.93409464e+00  9.27612590e-01 -2.68202574e+00  9.27612590e-01\n",
            "  -3.94150109e+00  3.88352876e+00]\n",
            " [ 5.27350787e-02  9.27612590e-01  1.79586393e+00  9.27612590e-01\n",
            "   1.13975367e+00 -6.44985898e-01]\n",
            " [ 2.23767766e-01  9.27612590e-01 -3.80306751e-01  9.27612590e-01\n",
            "  -5.69680800e-01 -1.95728101e-02]\n",
            " [-1.71460269e+00 -1.07803625e+00  8.00370467e-02 -1.07803625e+00\n",
            "   2.30146338e-01  1.63794378e-01]\n",
            " [ 2.80778662e-01  9.27612590e-01  9.58875206e-01  9.27612590e-01\n",
            "   2.14463453e-01 -1.66005426e+00]\n",
            " [-3.46341192e-01  9.27612590e-01  9.58875206e-01  9.27612590e-01\n",
            "   8.88827511e-01 -1.73470272e-01]\n",
            " [-4.03352088e-01  9.27612590e-01  5.40380845e-01  9.27612590e-01\n",
            "   2.14463453e-01 -8.83355056e-02]\n",
            " [ 7.36865829e-01 -1.07803625e+00 -5.47704496e-01 -1.07803625e+00\n",
            "  -6.32412340e-01 -2.19312069e-01]\n",
            " [-1.54357000e+00  9.27612590e-01  1.12627295e+00  9.27612590e-01\n",
            "   1.62592311e+00 -1.24420367e+00]\n",
            " [ 8.50887620e-01 -1.07803625e+00 -8.73606980e-02 -1.07803625e+00\n",
            "  -6.48095225e-01 -6.21401931e-02]\n",
            " [ 1.30697479e+00 -1.07803625e+00 -2.68202574e+00 -1.07803625e+00\n",
            "  -7.10826765e-01  1.01580511e-01]\n",
            " [-3.46341192e-01 -1.07803625e+00 -2.12909007e-01 -1.07803625e+00\n",
            "   1.06133925e+00 -1.25730133e+00]\n",
            " [-2.32319401e-01 -1.07803625e+00 -1.21729547e+00 -1.07803625e+00\n",
            "  -1.41655659e+00  1.18868598e+00]\n",
            " [ 2.23767766e-01 -1.07803625e+00 -5.05855060e-01 -1.07803625e+00\n",
            "   5.76346026e-02  1.51285298e+00]\n",
            " [ 2.16213822e+00  9.27612590e-01 -6.73252805e-01  9.27612590e-01\n",
            "  -1.02448447e+00  1.06425825e+00]\n",
            " [-1.60058090e+00  9.27612590e-01 -6.73252805e-01  9.27612590e-01\n",
            "  -1.36950794e+00  1.39169966e+00]\n",
            " [-4.03352088e-01  9.27612590e-01  7.49628026e-01  9.27612590e-01\n",
            "   6.84950005e-01  2.19459417e-01]\n",
            " [ 6.22844037e-01  9.27612590e-01 -3.66182567e-03  9.27612590e-01\n",
            "  -4.75583489e-01  3.17691839e-01]\n",
            " [ 1.30697479e+00  9.27612590e-01  4.14832536e-01  9.27612590e-01\n",
            "   3.39926534e-01 -7.75962461e-01]\n",
            " [ 1.99110554e+00 -1.07803625e+00 -2.96607879e-01 -1.07803625e+00\n",
            "   9.67241936e-01  7.59737739e-01]\n",
            " [ 1.30697479e+00  9.27612590e-01  3.72983100e-01  9.27612590e-01\n",
            "  -3.81486179e-01  5.33803168e-01]\n",
            " [-1.14449373e+00  9.27612590e-01  6.65929153e-01  9.27612590e-01\n",
            "   5.59486924e-01 -1.60372615e-01]\n",
            " [-1.60058090e+00 -1.07803625e+00 -1.17544604e+00 -1.07803625e+00\n",
            "   3.08560764e-01 -1.53823787e-01]\n",
            " [-4.03352088e-01 -1.07803625e+00  4.14832536e-01 -1.07803625e+00\n",
            "   1.17111944e+00 -3.24093319e-01]\n",
            " [-7.45417463e-01  9.27612590e-01  1.33552013e+00  9.27612590e-01\n",
            "   1.81411773e+00  1.12647212e+00]\n",
            " [-2.89330296e-01 -1.07803625e+00 -1.00804829e+00 -1.07803625e+00\n",
            "  -8.67655616e-01 -3.66660702e-01]\n",
            " [-2.32319401e-01  9.27612590e-01  8.33326898e-01  9.27612590e-01\n",
            "   6.37901350e-01 -3.20073976e-03]\n",
            " [ 7.36865829e-01 -1.07803625e+00 -4.22156187e-01 -1.07803625e+00\n",
            "  -9.14704271e-01  3.24240668e-01]\n",
            " [ 5.65833141e-01  9.27612590e-01  8.33326898e-01  9.27612590e-01\n",
            "   2.61512108e-01 -4.51795468e-01]\n",
            " [ 9.64909412e-01  9.27612590e-01  4.56681972e-01  9.27612590e-01\n",
            "  -3.81486179e-01  4.87961371e-01]\n",
            " [ 4.51811350e-01  9.27612590e-01  1.62846619e+00  9.27612590e-01\n",
            "   1.56319157e+00 -3.33916561e-01]\n",
            " [ 1.87708375e+00 -1.07803625e+00  4.98531408e-01 -1.07803625e+00\n",
            "   1.36049028e-01  2.30198677e+00]\n",
            " [-1.14449373e+00 -1.07803625e+00 -1.88688645e+00 -1.07803625e+00\n",
            "  -1.16563043e+00  5.14156684e-01]\n",
            " [-5.17373880e-01  9.27612590e-01  8.33326898e-01  9.27612590e-01\n",
            "   3.24243649e-01 -1.58801715e+00]\n",
            " [-5.17373880e-01  9.27612590e-01  9.17025770e-01  9.27612590e-01\n",
            "   6.84950005e-01 -4.41972226e-01]]\n"
          ]
        }
      ]
    },
    {
      "cell_type": "code",
      "source": [
        "print(x_test)"
      ],
      "metadata": {
        "colab": {
          "base_uri": "https://localhost:8080/"
        },
        "id": "tymjiuWhXfbd",
        "outputId": "b1c7ff40-2298-4337-dcc4-0c35a0ec7e86"
      },
      "execution_count": null,
      "outputs": [
        {
          "output_type": "stream",
          "name": "stdout",
          "text": [
            "[[-0.27874125  1.04880885  1.57476418  1.04880885  1.25395648 -1.13587369]\n",
            " [-1.29185848  1.04880885  0.08288233  1.04880885  0.34493949 -0.76830386]\n",
            " [-0.72901558 -0.95346259 -0.04144116 -0.95346259 -0.42204361  1.03407803]\n",
            " [-0.27874125  1.04880885  1.74052884  1.04880885  1.36758361  1.44678802]\n",
            " [-0.44759412  1.04880885  0.99458791  1.04880885  1.16873614  0.04421893]\n",
            " [-0.16617267 -0.95346259 -1.11891139 -0.95346259 -1.54411146 -0.9230701 ]\n",
            " [-1.46071135 -0.95346259 -1.24323488 -0.95346259  0.81365138 -1.29708853]\n",
            " [ 0.11524879 -0.95346259 -0.62161744 -0.95346259 -0.36523004 -0.17180896]\n",
            " [-0.22245696 -0.95346259 -1.40899953 -0.95346259 -0.16638258  0.09903197]\n",
            " [-0.39130983  1.04880885  1.03602907  1.04880885  0.81365138 -0.43620129]\n",
            " [-1.06672132 -0.95346259 -0.95314674 -0.95346259 -2.46733185 -0.71349081]\n",
            " [ 1.52235605  1.04880885  0.99458791  1.04880885  0.6290073   3.14921671]\n",
            " [-0.39130983 -0.95346259 -0.58017628 -0.95346259 -0.09536562  0.88898468]\n",
            " [ 2.76061045  1.04880885 -0.12432349  1.04880885  0.28812592 -0.98755604]\n",
            " [-0.44759412 -0.95346259 -0.62161744 -0.95346259 -0.19478936 -0.11377161]\n",
            " [-0.5601627  -0.95346259 -0.49729395 -0.95346259 -0.10956901 -0.04606138]\n",
            " [ 0.50923882  1.04880885  0.82882326  1.04880885  0.18870219 -0.34592098]\n",
            " [ 1.52235605 -0.95346259 -0.6630586  -0.95346259 -1.38787417 -0.42007981]\n",
            " [ 0.79066027 -0.95346259 -1.16035256 -0.95346259 -1.10380636  0.23445244]\n",
            " [ 0.95951315  1.04880885  0.08288233  1.04880885 -0.436247   -0.28143505]\n",
            " [-0.44759412  1.04880885  1.69908767  1.04880885  1.42439717  0.74389132]]\n"
          ]
        }
      ]
    },
    {
      "cell_type": "code",
      "source": [
        "from sklearn.svm import SVC\n",
        "svc = SVC(kernel = 'linear', random_state = 0)"
      ],
      "metadata": {
        "id": "1ar5Suy3XiVR"
      },
      "execution_count": null,
      "outputs": []
    },
    {
      "cell_type": "code",
      "source": [
        "svc.fit(x_train, y_train)"
      ],
      "metadata": {
        "colab": {
          "base_uri": "https://localhost:8080/"
        },
        "id": "18se-PhoXp-N",
        "outputId": "3dcebbc3-c5b9-467b-a4f3-6e1bcab6093c"
      },
      "execution_count": null,
      "outputs": [
        {
          "output_type": "execute_result",
          "data": {
            "text/plain": [
              "SVC(kernel='linear', random_state=0)"
            ]
          },
          "metadata": {},
          "execution_count": 46
        }
      ]
    },
    {
      "cell_type": "code",
      "source": [
        "xtrain_svm_pred = svc.predict(x_train)"
      ],
      "metadata": {
        "id": "zA5Ca5B0Xsg2"
      },
      "execution_count": null,
      "outputs": []
    },
    {
      "cell_type": "code",
      "source": [
        "xtrain_svm_pred"
      ],
      "metadata": {
        "colab": {
          "base_uri": "https://localhost:8080/"
        },
        "id": "g05rt7_JXued",
        "outputId": "3c74956a-06eb-43b0-d44e-0d69c8b3c407"
      },
      "execution_count": null,
      "outputs": [
        {
          "output_type": "execute_result",
          "data": {
            "text/plain": [
              "array([0, 0, 0, 0, 0, 0, 1, 0, 0, 0, 0, 0, 0, 0, 0, 1, 0, 0, 0, 0, 1, 0,\n",
              "       0, 0, 0, 0, 1, 1, 1, 0, 1, 0, 1, 1, 0, 0, 0, 1, 0, 1, 0, 1, 0, 0,\n",
              "       1, 1, 0, 1, 0, 0, 0, 0, 0, 0, 0, 1, 0, 1, 0, 1, 1, 0, 1, 0, 0, 0,\n",
              "       0, 1, 0, 0, 1, 0, 0, 0, 0, 0, 0, 1, 0, 0])"
            ]
          },
          "metadata": {},
          "execution_count": 48
        }
      ]
    },
    {
      "cell_type": "code",
      "source": [
        "confusion_matrix(y_train, xtrain_svm_pred)"
      ],
      "metadata": {
        "colab": {
          "base_uri": "https://localhost:8080/"
        },
        "id": "r3US_AGYXwgS",
        "outputId": "48d13e4e-a218-40ad-dc59-10219f49a348"
      },
      "execution_count": null,
      "outputs": [
        {
          "output_type": "execute_result",
          "data": {
            "text/plain": [
              "array([[54,  1],\n",
              "       [ 3, 22]])"
            ]
          },
          "metadata": {},
          "execution_count": 49
        }
      ]
    },
    {
      "cell_type": "code",
      "source": [
        "accuracy_score(y_train, xtrain_svm_pred)\n",
        "svm_train_accuracy = accuracy_score(y_train, xtrain_svm_pred)*100\n",
        "print(\"Accuracy of training data is: \" + str(round(svm_train_accuracy, 2)) + '%')"
      ],
      "metadata": {
        "colab": {
          "base_uri": "https://localhost:8080/"
        },
        "id": "Huh4Wj1gX2Av",
        "outputId": "f1248a30-c990-4159-c17d-a1eba7f60e4c"
      },
      "execution_count": null,
      "outputs": [
        {
          "output_type": "stream",
          "name": "stdout",
          "text": [
            "Accuracy of training data is: 95.0%\n"
          ]
        }
      ]
    },
    {
      "cell_type": "code",
      "source": [
        "xtest_svm_pred = svc.predict(x_test)\n",
        "xtest_svm_pred"
      ],
      "metadata": {
        "colab": {
          "base_uri": "https://localhost:8080/"
        },
        "id": "N9_rotfIX6ja",
        "outputId": "847aba6d-ff08-4fd6-cd64-da6ce1597fc2"
      },
      "execution_count": null,
      "outputs": [
        {
          "output_type": "execute_result",
          "data": {
            "text/plain": [
              "array([0, 1, 0, 0, 0, 1, 1, 0, 1, 0, 1, 0, 0, 0, 0, 0, 0, 0, 1, 0, 0])"
            ]
          },
          "metadata": {},
          "execution_count": 51
        }
      ]
    },
    {
      "cell_type": "code",
      "source": [
        "confusion_matrix(y_test, xtest_svm_pred)"
      ],
      "metadata": {
        "colab": {
          "base_uri": "https://localhost:8080/"
        },
        "id": "ieq8ZXr4X-so",
        "outputId": "d3a7515c-2bd8-46f4-fa5d-346c09afafb1"
      },
      "execution_count": null,
      "outputs": [
        {
          "output_type": "execute_result",
          "data": {
            "text/plain": [
              "array([[14,  1],\n",
              "       [ 1,  5]])"
            ]
          },
          "metadata": {},
          "execution_count": 52
        }
      ]
    },
    {
      "cell_type": "code",
      "source": [
        "sns.heatmap(confusion_matrix(y_test,xtest_svm_pred), annot = True, fmt = \"d\")"
      ],
      "metadata": {
        "colab": {
          "base_uri": "https://localhost:8080/",
          "height": 286
        },
        "id": "X-gwHkFKX_ev",
        "outputId": "1aef8ec1-19ee-419f-dcbd-f9b798a75a15"
      },
      "execution_count": null,
      "outputs": [
        {
          "output_type": "execute_result",
          "data": {
            "text/plain": [
              "<matplotlib.axes._subplots.AxesSubplot at 0x7f5666f9d8d0>"
            ]
          },
          "metadata": {},
          "execution_count": 53
        },
        {
          "output_type": "display_data",
          "data": {
            "text/plain": [
              "<Figure size 432x288 with 2 Axes>"
            ],
            "image/png": "[encoded data removed]"
          },
          "metadata": {
            "needs_background": "light"
          }
        }
      ]
    },
    {
      "cell_type": "code",
      "source": [
        "accuracy_score(y_test, xtest_svm_pred)\n",
        "svm_test_accuracy = accuracy_score(y_test, xtest_svm_pred)*100\n",
        "print(\"Accuracy of the model or test data is: \" + str(round(svm_test_accuracy, 2)) + '%')"
      ],
      "metadata": {
        "colab": {
          "base_uri": "https://localhost:8080/"
        },
        "id": "ZF6G0E4CYREL",
        "outputId": "9902e593-045a-413b-ed78-9e5da5405d05"
      },
      "execution_count": null,
      "outputs": [
        {
          "output_type": "stream",
          "name": "stdout",
          "text": [
            "Accuracy of the model or test data is: 90.48%\n"
          ]
        }
      ]
    },
    {
      "cell_type": "code",
      "source": [
        "input_data = (12, 0, 10.1, 11, 5.17, 4760) # 18th record\n",
        "\n",
        "# input data -> numpy array\n",
        "ip_data_np_arr = np.asarray(input_data)\n",
        "\n",
        "# reshaping the array\n",
        "ip_data_reshaped = ip_data_np_arr.reshape(1, -1)\n",
        "\n",
        "pred = svc.predict(ip_data_reshaped)\n",
        "print(pred)"
      ],
      "metadata": {
        "colab": {
          "base_uri": "https://localhost:8080/"
        },
        "id": "K8csGdtFYXXs",
        "outputId": "7000b55f-3a94-4d39-ffb2-6619a538438f"
      },
      "execution_count": null,
      "outputs": [
        {
          "output_type": "stream",
          "name": "stdout",
          "text": [
            "[1]\n"
          ]
        }
      ]
    },
    {
      "cell_type": "markdown",
      "source": [
        "Comparison between the three models"
      ],
      "metadata": {
        "id": "Tlv9RaeZY3Zx"
      }
    },
    {
      "cell_type": "code",
      "source": [
        "model_compare = pd.DataFrame({\"Artificial Neural Network\":ann_accuracy,\n",
        "                              \"Logistic Regression\":ted_accuracy,\n",
        "                              \"Support Vector Machine\":svm_test_accuracy,}, index = [\"accuracy\"])\n",
        "model_compare"
      ],
      "metadata": {
        "colab": {
          "base_uri": "https://localhost:8080/",
          "height": 81
        },
        "id": "gvo7y3TDYo8t",
        "outputId": "ae43a3cc-5a9e-44d7-e99d-e5d6250bfc4f"
      },
      "execution_count": null,
      "outputs": [
        {
          "output_type": "execute_result",
          "data": {
            "text/plain": [
              "          Artificial Neural Network  Logistic Regression  \\\n",
              "accuracy                  80.952381            95.238095   \n",
              "\n",
              "          Support Vector Machine  \n",
              "accuracy                90.47619  "
            ],
            "text/html": [
              "\n",
              "  <div id=\"df-cfa86195-6ba8-49ac-a81c-598889cdcc10\">\n",
              "    <div class=\"colab-df-container\">\n",
              "      <div>\n",
              "<style scoped>\n",
              "    .dataframe tbody tr th:only-of-type {\n",
              "        vertical-align: middle;\n",
              "    }\n",
              "\n",
              "    .dataframe tbody tr th {\n",
              "        vertical-align: top;\n",
              "    }\n",
              "\n",
              "    .dataframe thead th {\n",
              "        text-align: right;\n",
              "    }\n",
              "</style>\n",
              "<table border=\"1\" class=\"dataframe\">\n",
              "  <thead>\n",
              "    <tr style=\"text-align: right;\">\n",
              "      <th></th>\n",
              "      <th>Artificial Neural Network</th>\n",
              "      <th>Logistic Regression</th>\n",
              "      <th>Support Vector Machine</th>\n",
              "    </tr>\n",
              "  </thead>\n",
              "  <tbody>\n",
              "    <tr>\n",
              "      <th>accuracy</th>\n",
              "      <td>80.952381</td>\n",
              "      <td>95.238095</td>\n",
              "      <td>90.47619</td>\n",
              "    </tr>\n",
              "  </tbody>\n",
              "</table>\n",
              "</div>\n",
              "      <button class=\"colab-df-convert\" onclick=\"convertToInteractive('df-cfa86195-6ba8-49ac-a81c-598889cdcc10')\"\n",
              "              title=\"Convert this dataframe to an interactive table.\"\n",
              "              style=\"display:none;\">\n",
              "        \n",
              "  <svg xmlns=\"http://www.w3.org/2000/svg\" height=\"24px\"viewBox=\"0 0 24 24\"\n",
              "       width=\"24px\">\n",
              "    <path d=\"M0 0h24v24H0V0z\" fill=\"none\"/>\n",
              "    <path d=\"M18.56 5.44l.94 2.06.94-2.06 2.06-.94-2.06-.94-.94-2.06-.94 2.06-2.06.94zm-11 1L8.5 8.5l.94-2.06 2.06-.94-2.06-.94L8.5 2.5l-.94 2.06-2.06.94zm10 10l.94 2.06.94-2.06 2.06-.94-2.06-.94-.94-2.06-.94 2.06-2.06.94z\"/><path d=\"M17.41 7.96l-1.37-1.37c-.4-.4-.92-.59-1.43-.59-.52 0-1.04.2-1.43.59L10.3 9.45l-7.72 7.72c-.78.78-.78 2.05 0 2.83L4 21.41c.39.39.9.59 1.41.59.51 0 1.02-.2 1.41-.59l7.78-7.78 2.81-2.81c.8-.78.8-2.07 0-2.86zM5.41 20L4 18.59l7.72-7.72 1.47 1.35L5.41 20z\"/>\n",
              "  </svg>\n",
              "      </button>\n",
              "      \n",
              "  <style>\n",
              "    .colab-df-container {\n",
              "      display:flex;\n",
              "      flex-wrap:wrap;\n",
              "      gap: 12px;\n",
              "    }\n",
              "\n",
              "    .colab-df-convert {\n",
              "      background-color: #E8F0FE;\n",
              "      border: none;\n",
              "      border-radius: 50%;\n",
              "      cursor: pointer;\n",
              "      display: none;\n",
              "      fill: #1967D2;\n",
              "      height: 32px;\n",
              "      padding: 0 0 0 0;\n",
              "      width: 32px;\n",
              "    }\n",
              "\n",
              "    .colab-df-convert:hover {\n",
              "      background-color: #E2EBFA;\n",
              "      box-shadow: 0px 1px 2px rgba(60, 64, 67, 0.3), 0px 1px 3px 1px rgba(60, 64, 67, 0.15);\n",
              "      fill: #174EA6;\n",
              "    }\n",
              "\n",
              "    [theme=dark] .colab-df-convert {\n",
              "      background-color: #3B4455;\n",
              "      fill: #D2E3FC;\n",
              "    }\n",
              "\n",
              "    [theme=dark] .colab-df-convert:hover {\n",
              "      background-color: #434B5C;\n",
              "      box-shadow: 0px 1px 3px 1px rgba(0, 0, 0, 0.15);\n",
              "      filter: drop-shadow(0px 1px 2px rgba(0, 0, 0, 0.3));\n",
              "      fill: #FFFFFF;\n",
              "    }\n",
              "  </style>\n",
              "\n",
              "      <script>\n",
              "        const buttonEl =\n",
              "          document.querySelector('#df-cfa86195-6ba8-49ac-a81c-598889cdcc10 button.colab-df-convert');\n",
              "        buttonEl.style.display =\n",
              "          google.colab.kernel.accessAllowed ? 'block' : 'none';\n",
              "\n",
              "        async function convertToInteractive(key) {\n",
              "          const element = document.querySelector('#df-cfa86195-6ba8-49ac-a81c-598889cdcc10');\n",
              "          const dataTable =\n",
              "            await google.colab.kernel.invokeFunction('convertToInteractive',\n",
              "                                                     [key], {});\n",
              "          if (!dataTable) return;\n",
              "\n",
              "          const docLinkHtml = 'Like what you see? Visit the ' +\n",
              "            '<a target=\"_blank\" href=https://colab.research.google.com/notebooks/data_table.ipynb>data table notebook</a>'\n",
              "            + ' to learn more about interactive tables.';\n",
              "          element.innerHTML = '';\n",
              "          dataTable['output_type'] = 'display_data';\n",
              "          await google.colab.output.renderOutput(dataTable, element);\n",
              "          const docLink = document.createElement('div');\n",
              "          docLink.innerHTML = docLinkHtml;\n",
              "          element.appendChild(docLink);\n",
              "        }\n",
              "      </script>\n",
              "    </div>\n",
              "  </div>\n",
              "  "
            ]
          },
          "metadata": {},
          "execution_count": 56
        }
      ]
    },
    {
      "cell_type": "code",
      "source": [],
      "metadata": {
        "id": "Pq8UzMuKZYt3"
      },
      "execution_count": null,
      "outputs": []
    }
  ]
}