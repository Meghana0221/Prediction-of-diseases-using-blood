{
  "nbformat": 4,
  "nbformat_minor": 0,
  "metadata": {
    "colab": {
      "provenance": []
    },
    "kernelspec": {
      "name": "python3",
      "display_name": "Python 3"
    },
    "language_info": {
      "name": "python"
    }
  },
  "cells": [
    {
      "cell_type": "markdown",
      "source": [
        "Artificial Neural Network\n",
        "\n",
        "Importing the dependencies"
      ],
      "metadata": {
        "id": "eskL_swy7Vxj"
      }
    },
    {
      "cell_type": "code",
      "execution_count": null,
      "metadata": {
        "id": "tkDG1nyQ7ONc"
      },
      "outputs": [],
      "source": [
        "import pandas as pd\n",
        "import numpy as np\n",
        "from sklearn.model_selection import train_test_split\n",
        "import tensorflow as tf"
      ]
    },
    {
      "cell_type": "markdown",
      "source": [
        "Loading the CSV file into data frame using pandas"
      ],
      "metadata": {
        "id": "2Y5cL8KMbK5A"
      }
    },
    {
      "cell_type": "code",
      "source": [
        "uric_df = pd.read_csv('/content/URIC ACID.csv')\n",
        "uric_df"
      ],
      "metadata": {
        "colab": {
          "base_uri": "https://localhost:8080/",
          "height": 424
        },
        "id": "PYnbsxtA7dXX",
        "outputId": "009c9d69-3687-42ce-df53-6125b0ce2ad0"
      },
      "execution_count": null,
      "outputs": [
        {
          "output_type": "execute_result",
          "data": {
            "text/plain": [
              "     Age Sex  S. Uric Acid  Normal Range  Target\n",
              "0     37   F          5.00           6.2       0\n",
              "1     57   F          4.76           6.2       0\n",
              "2     35   M          6.45           7.2       0\n",
              "3     25   F          6.06           6.2       0\n",
              "4     69   M          4.66           7.2       0\n",
              "..   ...  ..           ...           ...     ...\n",
              "96    27   M          6.57           7.2       0\n",
              "97    39   F          5.21           6.2       0\n",
              "98    26   M          6.90           7.2       0\n",
              "99    61   M          4.63           7.2       0\n",
              "100   32   M          4.45           7.2       0\n",
              "\n",
              "[101 rows x 5 columns]"
            ],
            "text/html": [
              "\n",
              "  <div id=\"df-cfc54fc1-1336-4fee-a969-a2534025d571\">\n",
              "    <div class=\"colab-df-container\">\n",
              "      <div>\n",
              "<style scoped>\n",
              "    .dataframe tbody tr th:only-of-type {\n",
              "        vertical-align: middle;\n",
              "    }\n",
              "\n",
              "    .dataframe tbody tr th {\n",
              "        vertical-align: top;\n",
              "    }\n",
              "\n",
              "    .dataframe thead th {\n",
              "        text-align: right;\n",
              "    }\n",
              "</style>\n",
              "<table border=\"1\" class=\"dataframe\">\n",
              "  <thead>\n",
              "    <tr style=\"text-align: right;\">\n",
              "      <th></th>\n",
              "      <th>Age</th>\n",
              "      <th>Sex</th>\n",
              "      <th>S. Uric Acid</th>\n",
              "      <th>Normal Range</th>\n",
              "      <th>Target</th>\n",
              "    </tr>\n",
              "  </thead>\n",
              "  <tbody>\n",
              "    <tr>\n",
              "      <th>0</th>\n",
              "      <td>37</td>\n",
              "      <td>F</td>\n",
              "      <td>5.00</td>\n",
              "      <td>6.2</td>\n",
              "      <td>0</td>\n",
              "    </tr>\n",
              "    <tr>\n",
              "      <th>1</th>\n",
              "      <td>57</td>\n",
              "      <td>F</td>\n",
              "      <td>4.76</td>\n",
              "      <td>6.2</td>\n",
              "      <td>0</td>\n",
              "    </tr>\n",
              "    <tr>\n",
              "      <th>2</th>\n",
              "      <td>35</td>\n",
              "      <td>M</td>\n",
              "      <td>6.45</td>\n",
              "      <td>7.2</td>\n",
              "      <td>0</td>\n",
              "    </tr>\n",
              "    <tr>\n",
              "      <th>3</th>\n",
              "      <td>25</td>\n",
              "      <td>F</td>\n",
              "      <td>6.06</td>\n",
              "      <td>6.2</td>\n",
              "      <td>0</td>\n",
              "    </tr>\n",
              "    <tr>\n",
              "      <th>4</th>\n",
              "      <td>69</td>\n",
              "      <td>M</td>\n",
              "      <td>4.66</td>\n",
              "      <td>7.2</td>\n",
              "      <td>0</td>\n",
              "    </tr>\n",
              "    <tr>\n",
              "      <th>...</th>\n",
              "      <td>...</td>\n",
              "      <td>...</td>\n",
              "      <td>...</td>\n",
              "      <td>...</td>\n",
              "      <td>...</td>\n",
              "    </tr>\n",
              "    <tr>\n",
              "      <th>96</th>\n",
              "      <td>27</td>\n",
              "      <td>M</td>\n",
              "      <td>6.57</td>\n",
              "      <td>7.2</td>\n",
              "      <td>0</td>\n",
              "    </tr>\n",
              "    <tr>\n",
              "      <th>97</th>\n",
              "      <td>39</td>\n",
              "      <td>F</td>\n",
              "      <td>5.21</td>\n",
              "      <td>6.2</td>\n",
              "      <td>0</td>\n",
              "    </tr>\n",
              "    <tr>\n",
              "      <th>98</th>\n",
              "      <td>26</td>\n",
              "      <td>M</td>\n",
              "      <td>6.90</td>\n",
              "      <td>7.2</td>\n",
              "      <td>0</td>\n",
              "    </tr>\n",
              "    <tr>\n",
              "      <th>99</th>\n",
              "      <td>61</td>\n",
              "      <td>M</td>\n",
              "      <td>4.63</td>\n",
              "      <td>7.2</td>\n",
              "      <td>0</td>\n",
              "    </tr>\n",
              "    <tr>\n",
              "      <th>100</th>\n",
              "      <td>32</td>\n",
              "      <td>M</td>\n",
              "      <td>4.45</td>\n",
              "      <td>7.2</td>\n",
              "      <td>0</td>\n",
              "    </tr>\n",
              "  </tbody>\n",
              "</table>\n",
              "<p>101 rows × 5 columns</p>\n",
              "</div>\n",
              "      <button class=\"colab-df-convert\" onclick=\"convertToInteractive('df-cfc54fc1-1336-4fee-a969-a2534025d571')\"\n",
              "              title=\"Convert this dataframe to an interactive table.\"\n",
              "              style=\"display:none;\">\n",
              "        \n",
              "  <svg xmlns=\"http://www.w3.org/2000/svg\" height=\"24px\"viewBox=\"0 0 24 24\"\n",
              "       width=\"24px\">\n",
              "    <path d=\"M0 0h24v24H0V0z\" fill=\"none\"/>\n",
              "    <path d=\"M18.56 5.44l.94 2.06.94-2.06 2.06-.94-2.06-.94-.94-2.06-.94 2.06-2.06.94zm-11 1L8.5 8.5l.94-2.06 2.06-.94-2.06-.94L8.5 2.5l-.94 2.06-2.06.94zm10 10l.94 2.06.94-2.06 2.06-.94-2.06-.94-.94-2.06-.94 2.06-2.06.94z\"/><path d=\"M17.41 7.96l-1.37-1.37c-.4-.4-.92-.59-1.43-.59-.52 0-1.04.2-1.43.59L10.3 9.45l-7.72 7.72c-.78.78-.78 2.05 0 2.83L4 21.41c.39.39.9.59 1.41.59.51 0 1.02-.2 1.41-.59l7.78-7.78 2.81-2.81c.8-.78.8-2.07 0-2.86zM5.41 20L4 18.59l7.72-7.72 1.47 1.35L5.41 20z\"/>\n",
              "  </svg>\n",
              "      </button>\n",
              "      \n",
              "  <style>\n",
              "    .colab-df-container {\n",
              "      display:flex;\n",
              "      flex-wrap:wrap;\n",
              "      gap: 12px;\n",
              "    }\n",
              "\n",
              "    .colab-df-convert {\n",
              "      background-color: #E8F0FE;\n",
              "      border: none;\n",
              "      border-radius: 50%;\n",
              "      cursor: pointer;\n",
              "      display: none;\n",
              "      fill: #1967D2;\n",
              "      height: 32px;\n",
              "      padding: 0 0 0 0;\n",
              "      width: 32px;\n",
              "    }\n",
              "\n",
              "    .colab-df-convert:hover {\n",
              "      background-color: #E2EBFA;\n",
              "      box-shadow: 0px 1px 2px rgba(60, 64, 67, 0.3), 0px 1px 3px 1px rgba(60, 64, 67, 0.15);\n",
              "      fill: #174EA6;\n",
              "    }\n",
              "\n",
              "    [theme=dark] .colab-df-convert {\n",
              "      background-color: #3B4455;\n",
              "      fill: #D2E3FC;\n",
              "    }\n",
              "\n",
              "    [theme=dark] .colab-df-convert:hover {\n",
              "      background-color: #434B5C;\n",
              "      box-shadow: 0px 1px 3px 1px rgba(0, 0, 0, 0.15);\n",
              "      filter: drop-shadow(0px 1px 2px rgba(0, 0, 0, 0.3));\n",
              "      fill: #FFFFFF;\n",
              "    }\n",
              "  </style>\n",
              "\n",
              "      <script>\n",
              "        const buttonEl =\n",
              "          document.querySelector('#df-cfc54fc1-1336-4fee-a969-a2534025d571 button.colab-df-convert');\n",
              "        buttonEl.style.display =\n",
              "          google.colab.kernel.accessAllowed ? 'block' : 'none';\n",
              "\n",
              "        async function convertToInteractive(key) {\n",
              "          const element = document.querySelector('#df-cfc54fc1-1336-4fee-a969-a2534025d571');\n",
              "          const dataTable =\n",
              "            await google.colab.kernel.invokeFunction('convertToInteractive',\n",
              "                                                     [key], {});\n",
              "          if (!dataTable) return;\n",
              "\n",
              "          const docLinkHtml = 'Like what you see? Visit the ' +\n",
              "            '<a target=\"_blank\" href=https://colab.research.google.com/notebooks/data_table.ipynb>data table notebook</a>'\n",
              "            + ' to learn more about interactive tables.';\n",
              "          element.innerHTML = '';\n",
              "          dataTable['output_type'] = 'display_data';\n",
              "          await google.colab.output.renderOutput(dataTable, element);\n",
              "          const docLink = document.createElement('div');\n",
              "          docLink.innerHTML = docLinkHtml;\n",
              "          element.appendChild(docLink);\n",
              "        }\n",
              "      </script>\n",
              "    </div>\n",
              "  </div>\n",
              "  "
            ]
          },
          "metadata": {},
          "execution_count": 2
        }
      ]
    },
    {
      "cell_type": "code",
      "source": [
        "uric_df['Sex'].replace('F', 0, inplace = True)\n",
        "uric_df['Sex'].replace('M', 1, inplace = True)\n",
        "uric_df"
      ],
      "metadata": {
        "colab": {
          "base_uri": "https://localhost:8080/",
          "height": 424
        },
        "id": "FvuxUnPM7o6W",
        "outputId": "0206995a-30d1-4593-8435-e8710420530c"
      },
      "execution_count": null,
      "outputs": [
        {
          "output_type": "execute_result",
          "data": {
            "text/plain": [
              "     Age  Sex  S. Uric Acid  Normal Range  Target\n",
              "0     37    0          5.00           6.2       0\n",
              "1     57    0          4.76           6.2       0\n",
              "2     35    1          6.45           7.2       0\n",
              "3     25    0          6.06           6.2       0\n",
              "4     69    1          4.66           7.2       0\n",
              "..   ...  ...           ...           ...     ...\n",
              "96    27    1          6.57           7.2       0\n",
              "97    39    0          5.21           6.2       0\n",
              "98    26    1          6.90           7.2       0\n",
              "99    61    1          4.63           7.2       0\n",
              "100   32    1          4.45           7.2       0\n",
              "\n",
              "[101 rows x 5 columns]"
            ],
            "text/html": [
              "\n",
              "  <div id=\"df-82f00c79-a15d-4267-a269-2fb4c5050fc7\">\n",
              "    <div class=\"colab-df-container\">\n",
              "      <div>\n",
              "<style scoped>\n",
              "    .dataframe tbody tr th:only-of-type {\n",
              "        vertical-align: middle;\n",
              "    }\n",
              "\n",
              "    .dataframe tbody tr th {\n",
              "        vertical-align: top;\n",
              "    }\n",
              "\n",
              "    .dataframe thead th {\n",
              "        text-align: right;\n",
              "    }\n",
              "</style>\n",
              "<table border=\"1\" class=\"dataframe\">\n",
              "  <thead>\n",
              "    <tr style=\"text-align: right;\">\n",
              "      <th></th>\n",
              "      <th>Age</th>\n",
              "      <th>Sex</th>\n",
              "      <th>S. Uric Acid</th>\n",
              "      <th>Normal Range</th>\n",
              "      <th>Target</th>\n",
              "    </tr>\n",
              "  </thead>\n",
              "  <tbody>\n",
              "    <tr>\n",
              "      <th>0</th>\n",
              "      <td>37</td>\n",
              "      <td>0</td>\n",
              "      <td>5.00</td>\n",
              "      <td>6.2</td>\n",
              "      <td>0</td>\n",
              "    </tr>\n",
              "    <tr>\n",
              "      <th>1</th>\n",
              "      <td>57</td>\n",
              "      <td>0</td>\n",
              "      <td>4.76</td>\n",
              "      <td>6.2</td>\n",
              "      <td>0</td>\n",
              "    </tr>\n",
              "    <tr>\n",
              "      <th>2</th>\n",
              "      <td>35</td>\n",
              "      <td>1</td>\n",
              "      <td>6.45</td>\n",
              "      <td>7.2</td>\n",
              "      <td>0</td>\n",
              "    </tr>\n",
              "    <tr>\n",
              "      <th>3</th>\n",
              "      <td>25</td>\n",
              "      <td>0</td>\n",
              "      <td>6.06</td>\n",
              "      <td>6.2</td>\n",
              "      <td>0</td>\n",
              "    </tr>\n",
              "    <tr>\n",
              "      <th>4</th>\n",
              "      <td>69</td>\n",
              "      <td>1</td>\n",
              "      <td>4.66</td>\n",
              "      <td>7.2</td>\n",
              "      <td>0</td>\n",
              "    </tr>\n",
              "    <tr>\n",
              "      <th>...</th>\n",
              "      <td>...</td>\n",
              "      <td>...</td>\n",
              "      <td>...</td>\n",
              "      <td>...</td>\n",
              "      <td>...</td>\n",
              "    </tr>\n",
              "    <tr>\n",
              "      <th>96</th>\n",
              "      <td>27</td>\n",
              "      <td>1</td>\n",
              "      <td>6.57</td>\n",
              "      <td>7.2</td>\n",
              "      <td>0</td>\n",
              "    </tr>\n",
              "    <tr>\n",
              "      <th>97</th>\n",
              "      <td>39</td>\n",
              "      <td>0</td>\n",
              "      <td>5.21</td>\n",
              "      <td>6.2</td>\n",
              "      <td>0</td>\n",
              "    </tr>\n",
              "    <tr>\n",
              "      <th>98</th>\n",
              "      <td>26</td>\n",
              "      <td>1</td>\n",
              "      <td>6.90</td>\n",
              "      <td>7.2</td>\n",
              "      <td>0</td>\n",
              "    </tr>\n",
              "    <tr>\n",
              "      <th>99</th>\n",
              "      <td>61</td>\n",
              "      <td>1</td>\n",
              "      <td>4.63</td>\n",
              "      <td>7.2</td>\n",
              "      <td>0</td>\n",
              "    </tr>\n",
              "    <tr>\n",
              "      <th>100</th>\n",
              "      <td>32</td>\n",
              "      <td>1</td>\n",
              "      <td>4.45</td>\n",
              "      <td>7.2</td>\n",
              "      <td>0</td>\n",
              "    </tr>\n",
              "  </tbody>\n",
              "</table>\n",
              "<p>101 rows × 5 columns</p>\n",
              "</div>\n",
              "      <button class=\"colab-df-convert\" onclick=\"convertToInteractive('df-82f00c79-a15d-4267-a269-2fb4c5050fc7')\"\n",
              "              title=\"Convert this dataframe to an interactive table.\"\n",
              "              style=\"display:none;\">\n",
              "        \n",
              "  <svg xmlns=\"http://www.w3.org/2000/svg\" height=\"24px\"viewBox=\"0 0 24 24\"\n",
              "       width=\"24px\">\n",
              "    <path d=\"M0 0h24v24H0V0z\" fill=\"none\"/>\n",
              "    <path d=\"M18.56 5.44l.94 2.06.94-2.06 2.06-.94-2.06-.94-.94-2.06-.94 2.06-2.06.94zm-11 1L8.5 8.5l.94-2.06 2.06-.94-2.06-.94L8.5 2.5l-.94 2.06-2.06.94zm10 10l.94 2.06.94-2.06 2.06-.94-2.06-.94-.94-2.06-.94 2.06-2.06.94z\"/><path d=\"M17.41 7.96l-1.37-1.37c-.4-.4-.92-.59-1.43-.59-.52 0-1.04.2-1.43.59L10.3 9.45l-7.72 7.72c-.78.78-.78 2.05 0 2.83L4 21.41c.39.39.9.59 1.41.59.51 0 1.02-.2 1.41-.59l7.78-7.78 2.81-2.81c.8-.78.8-2.07 0-2.86zM5.41 20L4 18.59l7.72-7.72 1.47 1.35L5.41 20z\"/>\n",
              "  </svg>\n",
              "      </button>\n",
              "      \n",
              "  <style>\n",
              "    .colab-df-container {\n",
              "      display:flex;\n",
              "      flex-wrap:wrap;\n",
              "      gap: 12px;\n",
              "    }\n",
              "\n",
              "    .colab-df-convert {\n",
              "      background-color: #E8F0FE;\n",
              "      border: none;\n",
              "      border-radius: 50%;\n",
              "      cursor: pointer;\n",
              "      display: none;\n",
              "      fill: #1967D2;\n",
              "      height: 32px;\n",
              "      padding: 0 0 0 0;\n",
              "      width: 32px;\n",
              "    }\n",
              "\n",
              "    .colab-df-convert:hover {\n",
              "      background-color: #E2EBFA;\n",
              "      box-shadow: 0px 1px 2px rgba(60, 64, 67, 0.3), 0px 1px 3px 1px rgba(60, 64, 67, 0.15);\n",
              "      fill: #174EA6;\n",
              "    }\n",
              "\n",
              "    [theme=dark] .colab-df-convert {\n",
              "      background-color: #3B4455;\n",
              "      fill: #D2E3FC;\n",
              "    }\n",
              "\n",
              "    [theme=dark] .colab-df-convert:hover {\n",
              "      background-color: #434B5C;\n",
              "      box-shadow: 0px 1px 3px 1px rgba(0, 0, 0, 0.15);\n",
              "      filter: drop-shadow(0px 1px 2px rgba(0, 0, 0, 0.3));\n",
              "      fill: #FFFFFF;\n",
              "    }\n",
              "  </style>\n",
              "\n",
              "      <script>\n",
              "        const buttonEl =\n",
              "          document.querySelector('#df-82f00c79-a15d-4267-a269-2fb4c5050fc7 button.colab-df-convert');\n",
              "        buttonEl.style.display =\n",
              "          google.colab.kernel.accessAllowed ? 'block' : 'none';\n",
              "\n",
              "        async function convertToInteractive(key) {\n",
              "          const element = document.querySelector('#df-82f00c79-a15d-4267-a269-2fb4c5050fc7');\n",
              "          const dataTable =\n",
              "            await google.colab.kernel.invokeFunction('convertToInteractive',\n",
              "                                                     [key], {});\n",
              "          if (!dataTable) return;\n",
              "\n",
              "          const docLinkHtml = 'Like what you see? Visit the ' +\n",
              "            '<a target=\"_blank\" href=https://colab.research.google.com/notebooks/data_table.ipynb>data table notebook</a>'\n",
              "            + ' to learn more about interactive tables.';\n",
              "          element.innerHTML = '';\n",
              "          dataTable['output_type'] = 'display_data';\n",
              "          await google.colab.output.renderOutput(dataTable, element);\n",
              "          const docLink = document.createElement('div');\n",
              "          docLink.innerHTML = docLinkHtml;\n",
              "          element.appendChild(docLink);\n",
              "        }\n",
              "      </script>\n",
              "    </div>\n",
              "  </div>\n",
              "  "
            ]
          },
          "metadata": {},
          "execution_count": 3
        }
      ]
    },
    {
      "cell_type": "markdown",
      "source": [
        "Understanding the data"
      ],
      "metadata": {
        "id": "cgHDcU8qbRgE"
      }
    },
    {
      "cell_type": "code",
      "source": [
        "uric_df.shape"
      ],
      "metadata": {
        "colab": {
          "base_uri": "https://localhost:8080/"
        },
        "id": "Yi44qLqh7tA_",
        "outputId": "e84778d5-658b-43e8-cc7e-e044bfd93142"
      },
      "execution_count": null,
      "outputs": [
        {
          "output_type": "execute_result",
          "data": {
            "text/plain": [
              "(101, 5)"
            ]
          },
          "metadata": {},
          "execution_count": 4
        }
      ]
    },
    {
      "cell_type": "code",
      "source": [
        "uric_df.head()"
      ],
      "metadata": {
        "colab": {
          "base_uri": "https://localhost:8080/",
          "height": 206
        },
        "id": "vup4UPIZ7wqr",
        "outputId": "93d8b275-be7b-4eac-ff47-e8ca2847b5ea"
      },
      "execution_count": null,
      "outputs": [
        {
          "output_type": "execute_result",
          "data": {
            "text/plain": [
              "   Age  Sex  S. Uric Acid  Normal Range  Target\n",
              "0   37    0          5.00           6.2       0\n",
              "1   57    0          4.76           6.2       0\n",
              "2   35    1          6.45           7.2       0\n",
              "3   25    0          6.06           6.2       0\n",
              "4   69    1          4.66           7.2       0"
            ],
            "text/html": [
              "\n",
              "  <div id=\"df-b659ffa3-2690-4789-8d12-f783ee8a08f0\">\n",
              "    <div class=\"colab-df-container\">\n",
              "      <div>\n",
              "<style scoped>\n",
              "    .dataframe tbody tr th:only-of-type {\n",
              "        vertical-align: middle;\n",
              "    }\n",
              "\n",
              "    .dataframe tbody tr th {\n",
              "        vertical-align: top;\n",
              "    }\n",
              "\n",
              "    .dataframe thead th {\n",
              "        text-align: right;\n",
              "    }\n",
              "</style>\n",
              "<table border=\"1\" class=\"dataframe\">\n",
              "  <thead>\n",
              "    <tr style=\"text-align: right;\">\n",
              "      <th></th>\n",
              "      <th>Age</th>\n",
              "      <th>Sex</th>\n",
              "      <th>S. Uric Acid</th>\n",
              "      <th>Normal Range</th>\n",
              "      <th>Target</th>\n",
              "    </tr>\n",
              "  </thead>\n",
              "  <tbody>\n",
              "    <tr>\n",
              "      <th>0</th>\n",
              "      <td>37</td>\n",
              "      <td>0</td>\n",
              "      <td>5.00</td>\n",
              "      <td>6.2</td>\n",
              "      <td>0</td>\n",
              "    </tr>\n",
              "    <tr>\n",
              "      <th>1</th>\n",
              "      <td>57</td>\n",
              "      <td>0</td>\n",
              "      <td>4.76</td>\n",
              "      <td>6.2</td>\n",
              "      <td>0</td>\n",
              "    </tr>\n",
              "    <tr>\n",
              "      <th>2</th>\n",
              "      <td>35</td>\n",
              "      <td>1</td>\n",
              "      <td>6.45</td>\n",
              "      <td>7.2</td>\n",
              "      <td>0</td>\n",
              "    </tr>\n",
              "    <tr>\n",
              "      <th>3</th>\n",
              "      <td>25</td>\n",
              "      <td>0</td>\n",
              "      <td>6.06</td>\n",
              "      <td>6.2</td>\n",
              "      <td>0</td>\n",
              "    </tr>\n",
              "    <tr>\n",
              "      <th>4</th>\n",
              "      <td>69</td>\n",
              "      <td>1</td>\n",
              "      <td>4.66</td>\n",
              "      <td>7.2</td>\n",
              "      <td>0</td>\n",
              "    </tr>\n",
              "  </tbody>\n",
              "</table>\n",
              "</div>\n",
              "      <button class=\"colab-df-convert\" onclick=\"convertToInteractive('df-b659ffa3-2690-4789-8d12-f783ee8a08f0')\"\n",
              "              title=\"Convert this dataframe to an interactive table.\"\n",
              "              style=\"display:none;\">\n",
              "        \n",
              "  <svg xmlns=\"http://www.w3.org/2000/svg\" height=\"24px\"viewBox=\"0 0 24 24\"\n",
              "       width=\"24px\">\n",
              "    <path d=\"M0 0h24v24H0V0z\" fill=\"none\"/>\n",
              "    <path d=\"M18.56 5.44l.94 2.06.94-2.06 2.06-.94-2.06-.94-.94-2.06-.94 2.06-2.06.94zm-11 1L8.5 8.5l.94-2.06 2.06-.94-2.06-.94L8.5 2.5l-.94 2.06-2.06.94zm10 10l.94 2.06.94-2.06 2.06-.94-2.06-.94-.94-2.06-.94 2.06-2.06.94z\"/><path d=\"M17.41 7.96l-1.37-1.37c-.4-.4-.92-.59-1.43-.59-.52 0-1.04.2-1.43.59L10.3 9.45l-7.72 7.72c-.78.78-.78 2.05 0 2.83L4 21.41c.39.39.9.59 1.41.59.51 0 1.02-.2 1.41-.59l7.78-7.78 2.81-2.81c.8-.78.8-2.07 0-2.86zM5.41 20L4 18.59l7.72-7.72 1.47 1.35L5.41 20z\"/>\n",
              "  </svg>\n",
              "      </button>\n",
              "      \n",
              "  <style>\n",
              "    .colab-df-container {\n",
              "      display:flex;\n",
              "      flex-wrap:wrap;\n",
              "      gap: 12px;\n",
              "    }\n",
              "\n",
              "    .colab-df-convert {\n",
              "      background-color: #E8F0FE;\n",
              "      border: none;\n",
              "      border-radius: 50%;\n",
              "      cursor: pointer;\n",
              "      display: none;\n",
              "      fill: #1967D2;\n",
              "      height: 32px;\n",
              "      padding: 0 0 0 0;\n",
              "      width: 32px;\n",
              "    }\n",
              "\n",
              "    .colab-df-convert:hover {\n",
              "      background-color: #E2EBFA;\n",
              "      box-shadow: 0px 1px 2px rgba(60, 64, 67, 0.3), 0px 1px 3px 1px rgba(60, 64, 67, 0.15);\n",
              "      fill: #174EA6;\n",
              "    }\n",
              "\n",
              "    [theme=dark] .colab-df-convert {\n",
              "      background-color: #3B4455;\n",
              "      fill: #D2E3FC;\n",
              "    }\n",
              "\n",
              "    [theme=dark] .colab-df-convert:hover {\n",
              "      background-color: #434B5C;\n",
              "      box-shadow: 0px 1px 3px 1px rgba(0, 0, 0, 0.15);\n",
              "      filter: drop-shadow(0px 1px 2px rgba(0, 0, 0, 0.3));\n",
              "      fill: #FFFFFF;\n",
              "    }\n",
              "  </style>\n",
              "\n",
              "      <script>\n",
              "        const buttonEl =\n",
              "          document.querySelector('#df-b659ffa3-2690-4789-8d12-f783ee8a08f0 button.colab-df-convert');\n",
              "        buttonEl.style.display =\n",
              "          google.colab.kernel.accessAllowed ? 'block' : 'none';\n",
              "\n",
              "        async function convertToInteractive(key) {\n",
              "          const element = document.querySelector('#df-b659ffa3-2690-4789-8d12-f783ee8a08f0');\n",
              "          const dataTable =\n",
              "            await google.colab.kernel.invokeFunction('convertToInteractive',\n",
              "                                                     [key], {});\n",
              "          if (!dataTable) return;\n",
              "\n",
              "          const docLinkHtml = 'Like what you see? Visit the ' +\n",
              "            '<a target=\"_blank\" href=https://colab.research.google.com/notebooks/data_table.ipynb>data table notebook</a>'\n",
              "            + ' to learn more about interactive tables.';\n",
              "          element.innerHTML = '';\n",
              "          dataTable['output_type'] = 'display_data';\n",
              "          await google.colab.output.renderOutput(dataTable, element);\n",
              "          const docLink = document.createElement('div');\n",
              "          docLink.innerHTML = docLinkHtml;\n",
              "          element.appendChild(docLink);\n",
              "        }\n",
              "      </script>\n",
              "    </div>\n",
              "  </div>\n",
              "  "
            ]
          },
          "metadata": {},
          "execution_count": 5
        }
      ]
    },
    {
      "cell_type": "code",
      "source": [
        "uric_df.tail()"
      ],
      "metadata": {
        "colab": {
          "base_uri": "https://localhost:8080/",
          "height": 206
        },
        "id": "IeJ6m56l7y07",
        "outputId": "3320c99c-51e9-4af6-f6e0-b71c0282fbde"
      },
      "execution_count": null,
      "outputs": [
        {
          "output_type": "execute_result",
          "data": {
            "text/plain": [
              "     Age  Sex  S. Uric Acid  Normal Range  Target\n",
              "96    27    1          6.57           7.2       0\n",
              "97    39    0          5.21           6.2       0\n",
              "98    26    1          6.90           7.2       0\n",
              "99    61    1          4.63           7.2       0\n",
              "100   32    1          4.45           7.2       0"
            ],
            "text/html": [
              "\n",
              "  <div id=\"df-cd014120-33f5-49fc-bae2-46c575403b0e\">\n",
              "    <div class=\"colab-df-container\">\n",
              "      <div>\n",
              "<style scoped>\n",
              "    .dataframe tbody tr th:only-of-type {\n",
              "        vertical-align: middle;\n",
              "    }\n",
              "\n",
              "    .dataframe tbody tr th {\n",
              "        vertical-align: top;\n",
              "    }\n",
              "\n",
              "    .dataframe thead th {\n",
              "        text-align: right;\n",
              "    }\n",
              "</style>\n",
              "<table border=\"1\" class=\"dataframe\">\n",
              "  <thead>\n",
              "    <tr style=\"text-align: right;\">\n",
              "      <th></th>\n",
              "      <th>Age</th>\n",
              "      <th>Sex</th>\n",
              "      <th>S. Uric Acid</th>\n",
              "      <th>Normal Range</th>\n",
              "      <th>Target</th>\n",
              "    </tr>\n",
              "  </thead>\n",
              "  <tbody>\n",
              "    <tr>\n",
              "      <th>96</th>\n",
              "      <td>27</td>\n",
              "      <td>1</td>\n",
              "      <td>6.57</td>\n",
              "      <td>7.2</td>\n",
              "      <td>0</td>\n",
              "    </tr>\n",
              "    <tr>\n",
              "      <th>97</th>\n",
              "      <td>39</td>\n",
              "      <td>0</td>\n",
              "      <td>5.21</td>\n",
              "      <td>6.2</td>\n",
              "      <td>0</td>\n",
              "    </tr>\n",
              "    <tr>\n",
              "      <th>98</th>\n",
              "      <td>26</td>\n",
              "      <td>1</td>\n",
              "      <td>6.90</td>\n",
              "      <td>7.2</td>\n",
              "      <td>0</td>\n",
              "    </tr>\n",
              "    <tr>\n",
              "      <th>99</th>\n",
              "      <td>61</td>\n",
              "      <td>1</td>\n",
              "      <td>4.63</td>\n",
              "      <td>7.2</td>\n",
              "      <td>0</td>\n",
              "    </tr>\n",
              "    <tr>\n",
              "      <th>100</th>\n",
              "      <td>32</td>\n",
              "      <td>1</td>\n",
              "      <td>4.45</td>\n",
              "      <td>7.2</td>\n",
              "      <td>0</td>\n",
              "    </tr>\n",
              "  </tbody>\n",
              "</table>\n",
              "</div>\n",
              "      <button class=\"colab-df-convert\" onclick=\"convertToInteractive('df-cd014120-33f5-49fc-bae2-46c575403b0e')\"\n",
              "              title=\"Convert this dataframe to an interactive table.\"\n",
              "              style=\"display:none;\">\n",
              "        \n",
              "  <svg xmlns=\"http://www.w3.org/2000/svg\" height=\"24px\"viewBox=\"0 0 24 24\"\n",
              "       width=\"24px\">\n",
              "    <path d=\"M0 0h24v24H0V0z\" fill=\"none\"/>\n",
              "    <path d=\"M18.56 5.44l.94 2.06.94-2.06 2.06-.94-2.06-.94-.94-2.06-.94 2.06-2.06.94zm-11 1L8.5 8.5l.94-2.06 2.06-.94-2.06-.94L8.5 2.5l-.94 2.06-2.06.94zm10 10l.94 2.06.94-2.06 2.06-.94-2.06-.94-.94-2.06-.94 2.06-2.06.94z\"/><path d=\"M17.41 7.96l-1.37-1.37c-.4-.4-.92-.59-1.43-.59-.52 0-1.04.2-1.43.59L10.3 9.45l-7.72 7.72c-.78.78-.78 2.05 0 2.83L4 21.41c.39.39.9.59 1.41.59.51 0 1.02-.2 1.41-.59l7.78-7.78 2.81-2.81c.8-.78.8-2.07 0-2.86zM5.41 20L4 18.59l7.72-7.72 1.47 1.35L5.41 20z\"/>\n",
              "  </svg>\n",
              "      </button>\n",
              "      \n",
              "  <style>\n",
              "    .colab-df-container {\n",
              "      display:flex;\n",
              "      flex-wrap:wrap;\n",
              "      gap: 12px;\n",
              "    }\n",
              "\n",
              "    .colab-df-convert {\n",
              "      background-color: #E8F0FE;\n",
              "      border: none;\n",
              "      border-radius: 50%;\n",
              "      cursor: pointer;\n",
              "      display: none;\n",
              "      fill: #1967D2;\n",
              "      height: 32px;\n",
              "      padding: 0 0 0 0;\n",
              "      width: 32px;\n",
              "    }\n",
              "\n",
              "    .colab-df-convert:hover {\n",
              "      background-color: #E2EBFA;\n",
              "      box-shadow: 0px 1px 2px rgba(60, 64, 67, 0.3), 0px 1px 3px 1px rgba(60, 64, 67, 0.15);\n",
              "      fill: #174EA6;\n",
              "    }\n",
              "\n",
              "    [theme=dark] .colab-df-convert {\n",
              "      background-color: #3B4455;\n",
              "      fill: #D2E3FC;\n",
              "    }\n",
              "\n",
              "    [theme=dark] .colab-df-convert:hover {\n",
              "      background-color: #434B5C;\n",
              "      box-shadow: 0px 1px 3px 1px rgba(0, 0, 0, 0.15);\n",
              "      filter: drop-shadow(0px 1px 2px rgba(0, 0, 0, 0.3));\n",
              "      fill: #FFFFFF;\n",
              "    }\n",
              "  </style>\n",
              "\n",
              "      <script>\n",
              "        const buttonEl =\n",
              "          document.querySelector('#df-cd014120-33f5-49fc-bae2-46c575403b0e button.colab-df-convert');\n",
              "        buttonEl.style.display =\n",
              "          google.colab.kernel.accessAllowed ? 'block' : 'none';\n",
              "\n",
              "        async function convertToInteractive(key) {\n",
              "          const element = document.querySelector('#df-cd014120-33f5-49fc-bae2-46c575403b0e');\n",
              "          const dataTable =\n",
              "            await google.colab.kernel.invokeFunction('convertToInteractive',\n",
              "                                                     [key], {});\n",
              "          if (!dataTable) return;\n",
              "\n",
              "          const docLinkHtml = 'Like what you see? Visit the ' +\n",
              "            '<a target=\"_blank\" href=https://colab.research.google.com/notebooks/data_table.ipynb>data table notebook</a>'\n",
              "            + ' to learn more about interactive tables.';\n",
              "          element.innerHTML = '';\n",
              "          dataTable['output_type'] = 'display_data';\n",
              "          await google.colab.output.renderOutput(dataTable, element);\n",
              "          const docLink = document.createElement('div');\n",
              "          docLink.innerHTML = docLinkHtml;\n",
              "          element.appendChild(docLink);\n",
              "        }\n",
              "      </script>\n",
              "    </div>\n",
              "  </div>\n",
              "  "
            ]
          },
          "metadata": {},
          "execution_count": 6
        }
      ]
    },
    {
      "cell_type": "code",
      "source": [
        "uric_df.describe()"
      ],
      "metadata": {
        "colab": {
          "base_uri": "https://localhost:8080/",
          "height": 300
        },
        "id": "JhUElKaB70HH",
        "outputId": "b7c29e2d-89fb-47b4-9413-9a87cb96d9c7"
      },
      "execution_count": null,
      "outputs": [
        {
          "output_type": "execute_result",
          "data": {
            "text/plain": [
              "              Age         Sex  S. Uric Acid  Normal Range      Target\n",
              "count  101.000000  101.000000    101.000000    101.000000  101.000000\n",
              "mean    41.623762    0.623762      6.170099      6.823762    0.326733\n",
              "std     13.451284    0.486857      2.070891      0.486857    0.471358\n",
              "min      9.000000    0.000000      2.310000      6.200000    0.000000\n",
              "25%     31.000000    0.000000      4.630000      6.200000    0.000000\n",
              "50%     39.000000    1.000000      5.820000      7.200000    0.000000\n",
              "75%     52.000000    1.000000      7.600000      7.200000    1.000000\n",
              "max     74.000000    1.000000     13.880000      7.200000    1.000000"
            ],
            "text/html": [
              "\n",
              "  <div id=\"df-f90d1960-d837-4ac2-a1f3-53065ca94595\">\n",
              "    <div class=\"colab-df-container\">\n",
              "      <div>\n",
              "<style scoped>\n",
              "    .dataframe tbody tr th:only-of-type {\n",
              "        vertical-align: middle;\n",
              "    }\n",
              "\n",
              "    .dataframe tbody tr th {\n",
              "        vertical-align: top;\n",
              "    }\n",
              "\n",
              "    .dataframe thead th {\n",
              "        text-align: right;\n",
              "    }\n",
              "</style>\n",
              "<table border=\"1\" class=\"dataframe\">\n",
              "  <thead>\n",
              "    <tr style=\"text-align: right;\">\n",
              "      <th></th>\n",
              "      <th>Age</th>\n",
              "      <th>Sex</th>\n",
              "      <th>S. Uric Acid</th>\n",
              "      <th>Normal Range</th>\n",
              "      <th>Target</th>\n",
              "    </tr>\n",
              "  </thead>\n",
              "  <tbody>\n",
              "    <tr>\n",
              "      <th>count</th>\n",
              "      <td>101.000000</td>\n",
              "      <td>101.000000</td>\n",
              "      <td>101.000000</td>\n",
              "      <td>101.000000</td>\n",
              "      <td>101.000000</td>\n",
              "    </tr>\n",
              "    <tr>\n",
              "      <th>mean</th>\n",
              "      <td>41.623762</td>\n",
              "      <td>0.623762</td>\n",
              "      <td>6.170099</td>\n",
              "      <td>6.823762</td>\n",
              "      <td>0.326733</td>\n",
              "    </tr>\n",
              "    <tr>\n",
              "      <th>std</th>\n",
              "      <td>13.451284</td>\n",
              "      <td>0.486857</td>\n",
              "      <td>2.070891</td>\n",
              "      <td>0.486857</td>\n",
              "      <td>0.471358</td>\n",
              "    </tr>\n",
              "    <tr>\n",
              "      <th>min</th>\n",
              "      <td>9.000000</td>\n",
              "      <td>0.000000</td>\n",
              "      <td>2.310000</td>\n",
              "      <td>6.200000</td>\n",
              "      <td>0.000000</td>\n",
              "    </tr>\n",
              "    <tr>\n",
              "      <th>25%</th>\n",
              "      <td>31.000000</td>\n",
              "      <td>0.000000</td>\n",
              "      <td>4.630000</td>\n",
              "      <td>6.200000</td>\n",
              "      <td>0.000000</td>\n",
              "    </tr>\n",
              "    <tr>\n",
              "      <th>50%</th>\n",
              "      <td>39.000000</td>\n",
              "      <td>1.000000</td>\n",
              "      <td>5.820000</td>\n",
              "      <td>7.200000</td>\n",
              "      <td>0.000000</td>\n",
              "    </tr>\n",
              "    <tr>\n",
              "      <th>75%</th>\n",
              "      <td>52.000000</td>\n",
              "      <td>1.000000</td>\n",
              "      <td>7.600000</td>\n",
              "      <td>7.200000</td>\n",
              "      <td>1.000000</td>\n",
              "    </tr>\n",
              "    <tr>\n",
              "      <th>max</th>\n",
              "      <td>74.000000</td>\n",
              "      <td>1.000000</td>\n",
              "      <td>13.880000</td>\n",
              "      <td>7.200000</td>\n",
              "      <td>1.000000</td>\n",
              "    </tr>\n",
              "  </tbody>\n",
              "</table>\n",
              "</div>\n",
              "      <button class=\"colab-df-convert\" onclick=\"convertToInteractive('df-f90d1960-d837-4ac2-a1f3-53065ca94595')\"\n",
              "              title=\"Convert this dataframe to an interactive table.\"\n",
              "              style=\"display:none;\">\n",
              "        \n",
              "  <svg xmlns=\"http://www.w3.org/2000/svg\" height=\"24px\"viewBox=\"0 0 24 24\"\n",
              "       width=\"24px\">\n",
              "    <path d=\"M0 0h24v24H0V0z\" fill=\"none\"/>\n",
              "    <path d=\"M18.56 5.44l.94 2.06.94-2.06 2.06-.94-2.06-.94-.94-2.06-.94 2.06-2.06.94zm-11 1L8.5 8.5l.94-2.06 2.06-.94-2.06-.94L8.5 2.5l-.94 2.06-2.06.94zm10 10l.94 2.06.94-2.06 2.06-.94-2.06-.94-.94-2.06-.94 2.06-2.06.94z\"/><path d=\"M17.41 7.96l-1.37-1.37c-.4-.4-.92-.59-1.43-.59-.52 0-1.04.2-1.43.59L10.3 9.45l-7.72 7.72c-.78.78-.78 2.05 0 2.83L4 21.41c.39.39.9.59 1.41.59.51 0 1.02-.2 1.41-.59l7.78-7.78 2.81-2.81c.8-.78.8-2.07 0-2.86zM5.41 20L4 18.59l7.72-7.72 1.47 1.35L5.41 20z\"/>\n",
              "  </svg>\n",
              "      </button>\n",
              "      \n",
              "  <style>\n",
              "    .colab-df-container {\n",
              "      display:flex;\n",
              "      flex-wrap:wrap;\n",
              "      gap: 12px;\n",
              "    }\n",
              "\n",
              "    .colab-df-convert {\n",
              "      background-color: #E8F0FE;\n",
              "      border: none;\n",
              "      border-radius: 50%;\n",
              "      cursor: pointer;\n",
              "      display: none;\n",
              "      fill: #1967D2;\n",
              "      height: 32px;\n",
              "      padding: 0 0 0 0;\n",
              "      width: 32px;\n",
              "    }\n",
              "\n",
              "    .colab-df-convert:hover {\n",
              "      background-color: #E2EBFA;\n",
              "      box-shadow: 0px 1px 2px rgba(60, 64, 67, 0.3), 0px 1px 3px 1px rgba(60, 64, 67, 0.15);\n",
              "      fill: #174EA6;\n",
              "    }\n",
              "\n",
              "    [theme=dark] .colab-df-convert {\n",
              "      background-color: #3B4455;\n",
              "      fill: #D2E3FC;\n",
              "    }\n",
              "\n",
              "    [theme=dark] .colab-df-convert:hover {\n",
              "      background-color: #434B5C;\n",
              "      box-shadow: 0px 1px 3px 1px rgba(0, 0, 0, 0.15);\n",
              "      filter: drop-shadow(0px 1px 2px rgba(0, 0, 0, 0.3));\n",
              "      fill: #FFFFFF;\n",
              "    }\n",
              "  </style>\n",
              "\n",
              "      <script>\n",
              "        const buttonEl =\n",
              "          document.querySelector('#df-f90d1960-d837-4ac2-a1f3-53065ca94595 button.colab-df-convert');\n",
              "        buttonEl.style.display =\n",
              "          google.colab.kernel.accessAllowed ? 'block' : 'none';\n",
              "\n",
              "        async function convertToInteractive(key) {\n",
              "          const element = document.querySelector('#df-f90d1960-d837-4ac2-a1f3-53065ca94595');\n",
              "          const dataTable =\n",
              "            await google.colab.kernel.invokeFunction('convertToInteractive',\n",
              "                                                     [key], {});\n",
              "          if (!dataTable) return;\n",
              "\n",
              "          const docLinkHtml = 'Like what you see? Visit the ' +\n",
              "            '<a target=\"_blank\" href=https://colab.research.google.com/notebooks/data_table.ipynb>data table notebook</a>'\n",
              "            + ' to learn more about interactive tables.';\n",
              "          element.innerHTML = '';\n",
              "          dataTable['output_type'] = 'display_data';\n",
              "          await google.colab.output.renderOutput(dataTable, element);\n",
              "          const docLink = document.createElement('div');\n",
              "          docLink.innerHTML = docLinkHtml;\n",
              "          element.appendChild(docLink);\n",
              "        }\n",
              "      </script>\n",
              "    </div>\n",
              "  </div>\n",
              "  "
            ]
          },
          "metadata": {},
          "execution_count": 7
        }
      ]
    },
    {
      "cell_type": "code",
      "source": [
        "import matplotlib.pyplot as plt\n",
        "import seaborn as sns\n",
        "f, ax = plt.subplots(1,2,figsize = (10,5))\n",
        "uric_df['Target'].value_counts().plot.pie(explode = [0,0.1], autopct = \"%1.1f%%\", ax = ax[0], shadow = True)\n",
        "ax[0].set_title('Target')\n",
        "ax[0].set_ylabel('')\n",
        "sns.countplot('Target', data = uric_df, ax = ax[1])\n",
        "ax[1].set_title('Target')\n",
        "N, P = uric_df['Target'].value_counts()\n",
        "print('Negative(0): ', N)\n",
        "print('Positive(1): ', P)\n",
        "plt.grid()\n",
        "plt.show()"
      ],
      "metadata": {
        "colab": {
          "base_uri": "https://localhost:8080/",
          "height": 439
        },
        "id": "COXucAEuF8sk",
        "outputId": "5c710210-7a96-4520-e2cc-31568491c80f"
      },
      "execution_count": null,
      "outputs": [
        {
          "output_type": "stream",
          "name": "stdout",
          "text": [
            "Negative(0):  68\n",
            "Positive(1):  33\n"
          ]
        },
        {
          "output_type": "stream",
          "name": "stderr",
          "text": [
            "/usr/local/lib/python3.7/dist-packages/seaborn/_decorators.py:43: FutureWarning: Pass the following variable as a keyword arg: x. From version 0.12, the only valid positional argument will be `data`, and passing other arguments without an explicit keyword will result in an error or misinterpretation.\n",
            "  FutureWarning\n"
          ]
        },
        {
          "output_type": "display_data",
          "data": {
            "text/plain": [
              "<Figure size 720x360 with 2 Axes>"
            ],
            "image/png": "[encoded data removed]"
          },
          "metadata": {
            "needs_background": "light"
          }
        }
      ]
    },
    {
      "cell_type": "code",
      "source": [
        "uric_df.hist(bins = 10, figsize = (10,10))\n",
        "plt.show()"
      ],
      "metadata": {
        "colab": {
          "base_uri": "https://localhost:8080/",
          "height": 607
        },
        "id": "Xnf_yQTvGTK8",
        "outputId": "4b1d6d47-e448-4ba1-d238-18734a1407f2"
      },
      "execution_count": null,
      "outputs": [
        {
          "output_type": "display_data",
          "data": {
            "text/plain": [
              "<Figure size 720x720 with 6 Axes>"
            ],
            "image/png": "[encoded data removed]"
          },
          "metadata": {
            "needs_background": "light"
          }
        }
      ]
    },
    {
      "cell_type": "code",
      "source": [
        "correlation = uric_df.corr()"
      ],
      "metadata": {
        "id": "YX4UeoO1GZek"
      },
      "execution_count": null,
      "outputs": []
    },
    {
      "cell_type": "code",
      "source": [
        "correlation"
      ],
      "metadata": {
        "colab": {
          "base_uri": "https://localhost:8080/",
          "height": 206
        },
        "id": "2Zb6dMpPGccw",
        "outputId": "661a9889-e46d-4ed1-e022-a922fe4ba31e"
      },
      "execution_count": null,
      "outputs": [
        {
          "output_type": "execute_result",
          "data": {
            "text/plain": [
              "                   Age       Sex  S. Uric Acid  Normal Range    Target\n",
              "Age           1.000000 -0.082911     -0.043730     -0.082911 -0.057700\n",
              "Sex          -0.082911  1.000000      0.212093      1.000000  0.105273\n",
              "S. Uric Acid -0.043730  0.212093      1.000000      0.212093  0.793303\n",
              "Normal Range -0.082911  1.000000      0.212093      1.000000  0.105273\n",
              "Target       -0.057700  0.105273      0.793303      0.105273  1.000000"
            ],
            "text/html": [
              "\n",
              "  <div id=\"df-0f011a38-c3b1-4860-9f44-3bad62eca9fc\">\n",
              "    <div class=\"colab-df-container\">\n",
              "      <div>\n",
              "<style scoped>\n",
              "    .dataframe tbody tr th:only-of-type {\n",
              "        vertical-align: middle;\n",
              "    }\n",
              "\n",
              "    .dataframe tbody tr th {\n",
              "        vertical-align: top;\n",
              "    }\n",
              "\n",
              "    .dataframe thead th {\n",
              "        text-align: right;\n",
              "    }\n",
              "</style>\n",
              "<table border=\"1\" class=\"dataframe\">\n",
              "  <thead>\n",
              "    <tr style=\"text-align: right;\">\n",
              "      <th></th>\n",
              "      <th>Age</th>\n",
              "      <th>Sex</th>\n",
              "      <th>S. Uric Acid</th>\n",
              "      <th>Normal Range</th>\n",
              "      <th>Target</th>\n",
              "    </tr>\n",
              "  </thead>\n",
              "  <tbody>\n",
              "    <tr>\n",
              "      <th>Age</th>\n",
              "      <td>1.000000</td>\n",
              "      <td>-0.082911</td>\n",
              "      <td>-0.043730</td>\n",
              "      <td>-0.082911</td>\n",
              "      <td>-0.057700</td>\n",
              "    </tr>\n",
              "    <tr>\n",
              "      <th>Sex</th>\n",
              "      <td>-0.082911</td>\n",
              "      <td>1.000000</td>\n",
              "      <td>0.212093</td>\n",
              "      <td>1.000000</td>\n",
              "      <td>0.105273</td>\n",
              "    </tr>\n",
              "    <tr>\n",
              "      <th>S. Uric Acid</th>\n",
              "      <td>-0.043730</td>\n",
              "      <td>0.212093</td>\n",
              "      <td>1.000000</td>\n",
              "      <td>0.212093</td>\n",
              "      <td>0.793303</td>\n",
              "    </tr>\n",
              "    <tr>\n",
              "      <th>Normal Range</th>\n",
              "      <td>-0.082911</td>\n",
              "      <td>1.000000</td>\n",
              "      <td>0.212093</td>\n",
              "      <td>1.000000</td>\n",
              "      <td>0.105273</td>\n",
              "    </tr>\n",
              "    <tr>\n",
              "      <th>Target</th>\n",
              "      <td>-0.057700</td>\n",
              "      <td>0.105273</td>\n",
              "      <td>0.793303</td>\n",
              "      <td>0.105273</td>\n",
              "      <td>1.000000</td>\n",
              "    </tr>\n",
              "  </tbody>\n",
              "</table>\n",
              "</div>\n",
              "      <button class=\"colab-df-convert\" onclick=\"convertToInteractive('df-0f011a38-c3b1-4860-9f44-3bad62eca9fc')\"\n",
              "              title=\"Convert this dataframe to an interactive table.\"\n",
              "              style=\"display:none;\">\n",
              "        \n",
              "  <svg xmlns=\"http://www.w3.org/2000/svg\" height=\"24px\"viewBox=\"0 0 24 24\"\n",
              "       width=\"24px\">\n",
              "    <path d=\"M0 0h24v24H0V0z\" fill=\"none\"/>\n",
              "    <path d=\"M18.56 5.44l.94 2.06.94-2.06 2.06-.94-2.06-.94-.94-2.06-.94 2.06-2.06.94zm-11 1L8.5 8.5l.94-2.06 2.06-.94-2.06-.94L8.5 2.5l-.94 2.06-2.06.94zm10 10l.94 2.06.94-2.06 2.06-.94-2.06-.94-.94-2.06-.94 2.06-2.06.94z\"/><path d=\"M17.41 7.96l-1.37-1.37c-.4-.4-.92-.59-1.43-.59-.52 0-1.04.2-1.43.59L10.3 9.45l-7.72 7.72c-.78.78-.78 2.05 0 2.83L4 21.41c.39.39.9.59 1.41.59.51 0 1.02-.2 1.41-.59l7.78-7.78 2.81-2.81c.8-.78.8-2.07 0-2.86zM5.41 20L4 18.59l7.72-7.72 1.47 1.35L5.41 20z\"/>\n",
              "  </svg>\n",
              "      </button>\n",
              "      \n",
              "  <style>\n",
              "    .colab-df-container {\n",
              "      display:flex;\n",
              "      flex-wrap:wrap;\n",
              "      gap: 12px;\n",
              "    }\n",
              "\n",
              "    .colab-df-convert {\n",
              "      background-color: #E8F0FE;\n",
              "      border: none;\n",
              "      border-radius: 50%;\n",
              "      cursor: pointer;\n",
              "      display: none;\n",
              "      fill: #1967D2;\n",
              "      height: 32px;\n",
              "      padding: 0 0 0 0;\n",
              "      width: 32px;\n",
              "    }\n",
              "\n",
              "    .colab-df-convert:hover {\n",
              "      background-color: #E2EBFA;\n",
              "      box-shadow: 0px 1px 2px rgba(60, 64, 67, 0.3), 0px 1px 3px 1px rgba(60, 64, 67, 0.15);\n",
              "      fill: #174EA6;\n",
              "    }\n",
              "\n",
              "    [theme=dark] .colab-df-convert {\n",
              "      background-color: #3B4455;\n",
              "      fill: #D2E3FC;\n",
              "    }\n",
              "\n",
              "    [theme=dark] .colab-df-convert:hover {\n",
              "      background-color: #434B5C;\n",
              "      box-shadow: 0px 1px 3px 1px rgba(0, 0, 0, 0.15);\n",
              "      filter: drop-shadow(0px 1px 2px rgba(0, 0, 0, 0.3));\n",
              "      fill: #FFFFFF;\n",
              "    }\n",
              "  </style>\n",
              "\n",
              "      <script>\n",
              "        const buttonEl =\n",
              "          document.querySelector('#df-0f011a38-c3b1-4860-9f44-3bad62eca9fc button.colab-df-convert');\n",
              "        buttonEl.style.display =\n",
              "          google.colab.kernel.accessAllowed ? 'block' : 'none';\n",
              "\n",
              "        async function convertToInteractive(key) {\n",
              "          const element = document.querySelector('#df-0f011a38-c3b1-4860-9f44-3bad62eca9fc');\n",
              "          const dataTable =\n",
              "            await google.colab.kernel.invokeFunction('convertToInteractive',\n",
              "                                                     [key], {});\n",
              "          if (!dataTable) return;\n",
              "\n",
              "          const docLinkHtml = 'Like what you see? Visit the ' +\n",
              "            '<a target=\"_blank\" href=https://colab.research.google.com/notebooks/data_table.ipynb>data table notebook</a>'\n",
              "            + ' to learn more about interactive tables.';\n",
              "          element.innerHTML = '';\n",
              "          dataTable['output_type'] = 'display_data';\n",
              "          await google.colab.output.renderOutput(dataTable, element);\n",
              "          const docLink = document.createElement('div');\n",
              "          docLink.innerHTML = docLinkHtml;\n",
              "          element.appendChild(docLink);\n",
              "        }\n",
              "      </script>\n",
              "    </div>\n",
              "  </div>\n",
              "  "
            ]
          },
          "metadata": {},
          "execution_count": 37
        }
      ]
    },
    {
      "cell_type": "code",
      "source": [
        "sns.heatmap(correlation, annot = True)"
      ],
      "metadata": {
        "colab": {
          "base_uri": "https://localhost:8080/",
          "height": 347
        },
        "id": "ao91MF9BGeZs",
        "outputId": "f6033e29-813b-4363-9539-c57b95e12794"
      },
      "execution_count": null,
      "outputs": [
        {
          "output_type": "execute_result",
          "data": {
            "text/plain": [
              "<matplotlib.axes._subplots.AxesSubplot at 0x7f1e61f67350>"
            ]
          },
          "metadata": {},
          "execution_count": 38
        },
        {
          "output_type": "display_data",
          "data": {
            "text/plain": [
              "<Figure size 432x288 with 2 Axes>"
            ],
            "image/png": "[encoded data removed]"
          },
          "metadata": {
            "needs_background": "light"
          }
        }
      ]
    },
    {
      "cell_type": "markdown",
      "source": [
        "Splitting the Target and other columns"
      ],
      "metadata": {
        "id": "D3JbIxTUbcrm"
      }
    },
    {
      "cell_type": "code",
      "source": [
        "x = uric_df.drop(columns = 'Target', axis = 1)\n",
        "y = uric_df['Target']"
      ],
      "metadata": {
        "id": "rrPDXjzy72OP"
      },
      "execution_count": null,
      "outputs": []
    },
    {
      "cell_type": "code",
      "source": [
        "print(x)"
      ],
      "metadata": {
        "colab": {
          "base_uri": "https://localhost:8080/"
        },
        "id": "eQ8qnho38HdI",
        "outputId": "7b6fa0c0-ea18-4a75-b721-a3963946f276"
      },
      "execution_count": null,
      "outputs": [
        {
          "output_type": "stream",
          "name": "stdout",
          "text": [
            "     Age  Sex  S. Uric Acid  Normal Range\n",
            "0     37    0          5.00           6.2\n",
            "1     57    0          4.76           6.2\n",
            "2     35    1          6.45           7.2\n",
            "3     25    0          6.06           6.2\n",
            "4     69    1          4.66           7.2\n",
            "..   ...  ...           ...           ...\n",
            "96    27    1          6.57           7.2\n",
            "97    39    0          5.21           6.2\n",
            "98    26    1          6.90           7.2\n",
            "99    61    1          4.63           7.2\n",
            "100   32    1          4.45           7.2\n",
            "\n",
            "[101 rows x 4 columns]\n"
          ]
        }
      ]
    },
    {
      "cell_type": "code",
      "source": [
        "print(y)"
      ],
      "metadata": {
        "colab": {
          "base_uri": "https://localhost:8080/"
        },
        "id": "9sjfFZgn8Isy",
        "outputId": "25691e81-0876-41c2-c51d-25928ee03818"
      },
      "execution_count": null,
      "outputs": [
        {
          "output_type": "stream",
          "name": "stdout",
          "text": [
            "0      0\n",
            "1      0\n",
            "2      0\n",
            "3      0\n",
            "4      0\n",
            "      ..\n",
            "96     0\n",
            "97     0\n",
            "98     0\n",
            "99     0\n",
            "100    0\n",
            "Name: Target, Length: 101, dtype: int64\n"
          ]
        }
      ]
    },
    {
      "cell_type": "markdown",
      "source": [
        "Splitting the data into Training data and Test data"
      ],
      "metadata": {
        "id": "z3jW4yrdblRH"
      }
    },
    {
      "cell_type": "code",
      "source": [
        "from sklearn.model_selection import train_test_split\n",
        "x_train, x_test, y_train, y_test = train_test_split(x,y,test_size=0.2,random_state=0)"
      ],
      "metadata": {
        "id": "smB19-998Jgg"
      },
      "execution_count": null,
      "outputs": []
    },
    {
      "cell_type": "code",
      "source": [
        "print(x.shape, x_train.shape, x_test.shape)"
      ],
      "metadata": {
        "colab": {
          "base_uri": "https://localhost:8080/"
        },
        "id": "8GKXN1x_cl6u",
        "outputId": "907316de-256a-452d-94d5-7327139ce1bf"
      },
      "execution_count": null,
      "outputs": [
        {
          "output_type": "stream",
          "name": "stdout",
          "text": [
            "(101, 4) (80, 4) (21, 4)\n"
          ]
        }
      ]
    },
    {
      "cell_type": "code",
      "source": [
        "print(x_train)"
      ],
      "metadata": {
        "colab": {
          "base_uri": "https://localhost:8080/"
        },
        "id": "6UghYsJPx96l",
        "outputId": "37297cde-79e9-409a-87f9-18c65e717e1c"
      },
      "execution_count": null,
      "outputs": [
        {
          "output_type": "stream",
          "name": "stdout",
          "text": [
            "    Age  Sex  S. Uric Acid  Normal Range\n",
            "62   63    1          4.13           7.2\n",
            "3    25    0          6.06           6.2\n",
            "71   42    1          9.66           7.2\n",
            "45   33    1          9.22           7.2\n",
            "48   45    1         10.12           7.2\n",
            "..  ...  ...           ...           ...\n",
            "97   39    0          5.21           6.2\n",
            "67   45    0          4.77           6.2\n",
            "64   28    0          5.63           6.2\n",
            "47   43    1          8.13           7.2\n",
            "44   43    0          3.38           6.2\n",
            "\n",
            "[80 rows x 4 columns]\n"
          ]
        }
      ]
    },
    {
      "cell_type": "code",
      "source": [
        "print(x_test)"
      ],
      "metadata": {
        "colab": {
          "base_uri": "https://localhost:8080/"
        },
        "id": "75ez05klx_WB",
        "outputId": "3c6d09ca-b30d-40ee-af34-3c621f21f6cd"
      },
      "execution_count": null,
      "outputs": [
        {
          "output_type": "stream",
          "name": "stdout",
          "text": [
            "    Age  Sex  S. Uric Acid  Normal Range\n",
            "26   53    0          4.75           6.2\n",
            "86   55    1          5.06           7.2\n",
            "2    35    1          6.45           7.2\n",
            "55   68    0          8.94           6.2\n",
            "75   31    0          3.08           6.2\n",
            "94   44    0          2.31           6.2\n",
            "16   33    0          4.52           6.2\n",
            "73   31    1          5.23           7.2\n",
            "54   33    1          7.53           7.2\n",
            "96   27    1          6.57           7.2\n",
            "53    9    1          8.12           7.2\n",
            "93   70    1          5.76           7.2\n",
            "78   33    1          4.56           7.2\n",
            "13   36    1          5.78           7.2\n",
            "7    45    0          4.53           6.2\n",
            "30   30    0          4.90           6.2\n",
            "22   53    0          6.30           6.2\n",
            "24   40    1          3.36           7.2\n",
            "33   33    1          8.49           7.2\n",
            "8    54    1         12.65           7.2\n",
            "43   65    0          5.36           6.2\n"
          ]
        }
      ]
    },
    {
      "cell_type": "markdown",
      "source": [
        "Fitting and Evaluation"
      ],
      "metadata": {
        "id": "nqW-8oNTbrSn"
      }
    },
    {
      "cell_type": "code",
      "source": [
        "#Performing Feature Scaling\n",
        "from sklearn.preprocessing import StandardScaler\n",
        "sc = StandardScaler()\n",
        "x_train = sc.fit_transform(x_train)\n",
        "x_test = sc.transform(x_test)"
      ],
      "metadata": {
        "id": "yDN6fbYk8VBx"
      },
      "execution_count": null,
      "outputs": []
    },
    {
      "cell_type": "code",
      "source": [
        "print(x_train)"
      ],
      "metadata": {
        "colab": {
          "base_uri": "https://localhost:8080/"
        },
        "id": "WvsognluyXRQ",
        "outputId": "08d4f4c4-4fc2-4f67-f8e3-4bcf77e12899"
      },
      "execution_count": null,
      "outputs": [
        {
          "output_type": "stream",
          "name": "stdout",
          "text": [
            "[[ 1.65398715  0.7540739  -1.05252112  0.7540739 ]\n",
            " [-1.27957232 -1.32612997 -0.08824615 -1.32612997]\n",
            " [ 0.03280955  0.7540739   1.71040147  0.7540739 ]\n",
            " [-0.66198086  0.7540739   1.49056676  0.7540739 ]\n",
            " [ 0.26440635  0.7540739   1.94022867  0.7540739 ]\n",
            " [ 0.11000848  0.7540739   0.61122793  0.7540739 ]\n",
            " [-0.73917979  0.7540739  -0.89264133  0.7540739 ]\n",
            " [-0.66198086  0.7540739   0.18155099  0.7540739 ]\n",
            " [ 1.65398715  0.7540739  -0.8077052   0.7540739 ]\n",
            " [-0.97077659 -1.32612997 -1.26236335 -1.32612997]\n",
            " [ 2.27157862  0.7540739  -0.44297943  0.7540739 ]\n",
            " [ 0.03280955  0.7540739  -0.20815599  0.7540739 ]\n",
            " [-0.27598619 -1.32612997 -0.33805832 -1.32612997]\n",
            " [ 0.41880421  0.7540739  -1.26735959  0.7540739 ]\n",
            " [ 0.80479888 -1.32612997  3.81881618 -1.32612997]\n",
            " [ 0.34160528  0.7540739  -0.15319731  0.7540739 ]\n",
            " [ 1.57678822 -1.32612997  0.53128803 -1.32612997]\n",
            " [ 1.19079355  0.7540739  -1.41225065  0.7540739 ]\n",
            " [ 2.19437969  0.7540739   0.28147586  0.7540739 ]\n",
            " [ 1.19079355 -1.32612997 -0.73775779 -1.32612997]\n",
            " [ 2.50317542  0.7540739  -0.18317477  0.7540739 ]\n",
            " [-0.97077659 -1.32612997  0.22651718 -1.32612997]\n",
            " [-0.89357766  0.7540739   1.30570576  0.7540739 ]\n",
            " [ 2.11718075  0.7540739  -0.78772022  0.7540739 ]\n",
            " [ 0.03280955 -1.32612997 -0.71777282 -1.32612997]\n",
            " [-0.50758299  0.7540739   0.29146835  0.7540739 ]\n",
            " [-0.89357766  0.7540739   0.15656978  0.7540739 ]\n",
            " [ 0.41880421  0.7540739   1.55052168  0.7540739 ]\n",
            " [-0.35318512  0.7540739  -0.13321234  0.7540739 ]\n",
            " [-1.66556699 -1.32612997  0.27148338 -1.32612997]\n",
            " [-0.50758299  0.7540739   0.68117533  0.7540739 ]\n",
            " [-0.35318512 -1.32612997 -0.61784795 -1.32612997]\n",
            " [ 1.26799248 -1.32612997  0.85604385 -1.32612997]\n",
            " [-0.89357766  0.7540739  -0.71777282  0.7540739 ]\n",
            " [ 0.18720741  0.7540739   0.42137068  0.7540739 ]\n",
            " [-1.12517446 -1.32612997 -0.4279907  -1.32612997]\n",
            " [ 0.49600315 -1.32612997  0.73613401 -1.32612997]\n",
            " [ 1.03639568  0.7540739  -1.34729948  0.7540739 ]\n",
            " [-0.19878725  0.7540739   1.94022867  0.7540739 ]\n",
            " [-0.19878725  0.7540739   0.26149089  0.7540739 ]\n",
            " [-0.19878725  0.7540739   1.93023618  0.7540739 ]\n",
            " [-0.19878725  0.7540739   0.75112274  0.7540739 ]\n",
            " [ 1.49958928 -1.32612997  0.27647962 -1.32612997]\n",
            " [-0.35318512  0.7540739   1.0808748   0.7540739 ]\n",
            " [ 0.11000848 -1.32612997 -0.13321234 -1.32612997]\n",
            " [ 1.03639568  0.7540739   1.38064941  0.7540739 ]\n",
            " [ 0.88199782 -1.32612997 -1.19241594 -1.32612997]\n",
            " [-1.12517446 -1.32612997 -0.96258874 -1.32612997]\n",
            " [-0.89357766  0.7540739  -0.66781038  0.7540739 ]\n",
            " [-0.35318512  0.7540739  -0.37303202  0.7540739 ]\n",
            " [-1.12517446  0.7540739  -0.97757747  0.7540739 ]\n",
            " [-0.73917979  0.7540739   0.92599126  0.7540739 ]\n",
            " [-1.20237339  0.7540739   0.3314383   0.7540739 ]\n",
            " [ 1.49958928  0.7540739  -0.80270895  0.7540739 ]\n",
            " [-0.73917979  0.7540739  -0.58287424  0.7540739 ]\n",
            " [-0.12158832  0.7540739   0.7811002   0.7540739 ]\n",
            " [-0.97077659  0.7540739  -1.67705155  0.7540739 ]\n",
            " [-1.04797552  0.7540739   0.94097999  0.7540739 ]\n",
            " [ 1.42239035 -1.32612997 -1.28234832 -1.32612997]\n",
            " [-1.27957232 -1.32612997 -0.81270144 -1.32612997]\n",
            " [ 1.80838502 -1.32612997 -0.9575925  -1.32612997]\n",
            " [-0.89357766  0.7540739   0.80608142  0.7540739 ]\n",
            " [ 1.57678822 -1.32612997 -0.93760752 -1.32612997]\n",
            " [ 0.26440635 -1.32612997 -0.29309213 -1.32612997]\n",
            " [-0.58478192 -1.32612997 -0.42299446 -1.32612997]\n",
            " [-1.12517446 -1.32612997 -0.01829874 -1.32612997]\n",
            " [-0.89357766  0.7540739  -0.99756245  0.7540739 ]\n",
            " [ 0.18720741  0.7540739  -1.08749483  0.7540739 ]\n",
            " [-0.89357766  0.7540739   0.75611898  0.7540739 ]\n",
            " [-1.27957232  0.7540739  -0.15319731  0.7540739 ]\n",
            " [-0.66198086 -1.32612997  1.23076211 -1.32612997]\n",
            " [-0.43038405  0.7540739  -0.8776526   0.7540739 ]\n",
            " [-0.43038405  0.7540739   0.33643454  0.7540739 ]\n",
            " [-0.27598619  0.7540739  -0.77273149  0.7540739 ]\n",
            " [-0.35318512  0.7540739   0.8160739   0.7540739 ]\n",
            " [-0.19878725 -1.32612997 -0.51292684 -1.32612997]\n",
            " [ 0.26440635 -1.32612997 -0.73276155 -1.32612997]\n",
            " [-1.04797552 -1.32612997 -0.30308461 -1.32612997]\n",
            " [ 0.11000848  0.7540739   0.94597623  0.7540739 ]\n",
            " [ 0.11000848 -1.32612997 -1.42723938 -1.32612997]]\n"
          ]
        }
      ]
    },
    {
      "cell_type": "code",
      "source": [
        "print(x_test)"
      ],
      "metadata": {
        "colab": {
          "base_uri": "https://localhost:8080/"
        },
        "id": "jqOGcy9AyZn4",
        "outputId": "c6e160af-316e-4795-bb7f-310b975a91f1"
      },
      "execution_count": null,
      "outputs": [
        {
          "output_type": "stream",
          "name": "stdout",
          "text": [
            "[[ 0.88199782 -1.32612997 -0.74275403 -1.32612997]\n",
            " [ 1.03639568  0.7540739  -0.58787049  0.7540739 ]\n",
            " [-0.50758299  0.7540739   0.10660734  0.7540739 ]\n",
            " [ 2.03998182 -1.32612997  1.35067195 -1.32612997]\n",
            " [-0.81637872 -1.32612997 -1.57712668 -1.32612997]\n",
            " [ 0.18720741 -1.32612997 -1.96183742 -1.32612997]\n",
            " [-0.66198086 -1.32612997 -0.85766763 -1.32612997]\n",
            " [-0.81637872  0.7540739  -0.50293435  0.7540739 ]\n",
            " [-0.66198086  0.7540739   0.64620163  0.7540739 ]\n",
            " [-1.12517446  0.7540739   0.16656226  0.7540739 ]\n",
            " [-2.51475526  0.7540739   0.94097999  0.7540739 ]\n",
            " [ 2.19437969  0.7540739  -0.23813345  0.7540739 ]\n",
            " [-0.66198086  0.7540739  -0.83768266  0.7540739 ]\n",
            " [-0.43038405  0.7540739  -0.22814096  0.7540739 ]\n",
            " [ 0.26440635 -1.32612997 -0.85267139 -1.32612997]\n",
            " [-0.89357766 -1.32612997 -0.66781038 -1.32612997]\n",
            " [ 0.88199782 -1.32612997  0.03166369 -1.32612997]\n",
            " [-0.12158832  0.7540739  -1.43723186  0.7540739 ]\n",
            " [-0.66198086  0.7540739   1.12584099  0.7540739 ]\n",
            " [ 0.95919675  0.7540739   3.20427824  0.7540739 ]\n",
            " [ 1.80838502 -1.32612997 -0.43798319 -1.32612997]]\n"
          ]
        }
      ]
    },
    {
      "cell_type": "markdown",
      "source": [
        "Initialization ANN(Artificial Neural Network)"
      ],
      "metadata": {
        "id": "V7W5ratTbvYi"
      }
    },
    {
      "cell_type": "code",
      "source": [
        "#Initialising ANN\n",
        "ann_uric = tf.keras.models.Sequential()"
      ],
      "metadata": {
        "id": "B5zbjD8Q8ZjG"
      },
      "execution_count": null,
      "outputs": []
    },
    {
      "cell_type": "code",
      "source": [
        "#Adding First Hidden Layer\n",
        "ann_uric.add(tf.keras.layers.Dense(units=6,activation=\"relu\"))"
      ],
      "metadata": {
        "id": "NswXd5hA8gc0"
      },
      "execution_count": null,
      "outputs": []
    },
    {
      "cell_type": "code",
      "source": [
        "#Adding Second Hidden Layer\n",
        "ann_uric.add(tf.keras.layers.Dense(units=6,activation=\"relu\"))"
      ],
      "metadata": {
        "id": "81i6XGC68kAE"
      },
      "execution_count": null,
      "outputs": []
    },
    {
      "cell_type": "code",
      "source": [
        "#Adding Output Layer\n",
        "ann_uric.add(tf.keras.layers.Dense(units=1,activation=\"sigmoid\"))"
      ],
      "metadata": {
        "id": "zphn929c8o0U"
      },
      "execution_count": null,
      "outputs": []
    },
    {
      "cell_type": "code",
      "source": [
        "#Compiling ANN\n",
        "ann_uric.compile(optimizer=\"adam\",loss=\"binary_crossentropy\",metrics=['accuracy'])"
      ],
      "metadata": {
        "id": "ft7IRpn48qiA"
      },
      "execution_count": null,
      "outputs": []
    },
    {
      "cell_type": "code",
      "source": [
        "#Fitting ANN\n",
        "ann_uric.fit(x_train,y_train,batch_size=32,epochs = 100)"
      ],
      "metadata": {
        "colab": {
          "base_uri": "https://localhost:8080/"
        },
        "id": "95S5kBtO8y3o",
        "outputId": "5f6cf13e-5d15-4fe3-8dda-1b2de60cd880"
      },
      "execution_count": null,
      "outputs": [
        {
          "output_type": "stream",
          "name": "stdout",
          "text": [
            "Epoch 1/100\n",
            "3/3 [==============================] - 1s 5ms/step - loss: 0.6731 - accuracy: 0.5375\n",
            "Epoch 2/100\n",
            "3/3 [==============================] - 0s 5ms/step - loss: 0.6686 - accuracy: 0.5625\n",
            "Epoch 3/100\n",
            "3/3 [==============================] - 0s 5ms/step - loss: 0.6648 - accuracy: 0.5625\n",
            "Epoch 4/100\n",
            "3/3 [==============================] - 0s 5ms/step - loss: 0.6608 - accuracy: 0.5875\n",
            "Epoch 5/100\n",
            "3/3 [==============================] - 0s 4ms/step - loss: 0.6569 - accuracy: 0.6000\n",
            "Epoch 6/100\n",
            "3/3 [==============================] - 0s 5ms/step - loss: 0.6535 - accuracy: 0.6125\n",
            "Epoch 7/100\n",
            "3/3 [==============================] - 0s 4ms/step - loss: 0.6499 - accuracy: 0.6375\n",
            "Epoch 8/100\n",
            "3/3 [==============================] - 0s 4ms/step - loss: 0.6461 - accuracy: 0.6375\n",
            "Epoch 9/100\n",
            "3/3 [==============================] - 0s 4ms/step - loss: 0.6429 - accuracy: 0.6375\n",
            "Epoch 10/100\n",
            "3/3 [==============================] - 0s 4ms/step - loss: 0.6395 - accuracy: 0.6375\n",
            "Epoch 11/100\n",
            "3/3 [==============================] - 0s 4ms/step - loss: 0.6364 - accuracy: 0.6375\n",
            "Epoch 12/100\n",
            "3/3 [==============================] - 0s 7ms/step - loss: 0.6330 - accuracy: 0.6500\n",
            "Epoch 13/100\n",
            "3/3 [==============================] - 0s 6ms/step - loss: 0.6302 - accuracy: 0.6625\n",
            "Epoch 14/100\n",
            "3/3 [==============================] - 0s 5ms/step - loss: 0.6267 - accuracy: 0.6625\n",
            "Epoch 15/100\n",
            "3/3 [==============================] - 0s 5ms/step - loss: 0.6236 - accuracy: 0.6625\n",
            "Epoch 16/100\n",
            "3/3 [==============================] - 0s 4ms/step - loss: 0.6206 - accuracy: 0.6625\n",
            "Epoch 17/100\n",
            "3/3 [==============================] - 0s 5ms/step - loss: 0.6176 - accuracy: 0.6625\n",
            "Epoch 18/100\n",
            "3/3 [==============================] - 0s 6ms/step - loss: 0.6145 - accuracy: 0.6625\n",
            "Epoch 19/100\n",
            "3/3 [==============================] - 0s 5ms/step - loss: 0.6115 - accuracy: 0.6625\n",
            "Epoch 20/100\n",
            "3/3 [==============================] - 0s 4ms/step - loss: 0.6086 - accuracy: 0.6625\n",
            "Epoch 21/100\n",
            "3/3 [==============================] - 0s 5ms/step - loss: 0.6054 - accuracy: 0.6625\n",
            "Epoch 22/100\n",
            "3/3 [==============================] - 0s 4ms/step - loss: 0.6026 - accuracy: 0.6875\n",
            "Epoch 23/100\n",
            "3/3 [==============================] - 0s 4ms/step - loss: 0.5994 - accuracy: 0.6875\n",
            "Epoch 24/100\n",
            "3/3 [==============================] - 0s 5ms/step - loss: 0.5962 - accuracy: 0.6875\n",
            "Epoch 25/100\n",
            "3/3 [==============================] - 0s 6ms/step - loss: 0.5929 - accuracy: 0.6875\n",
            "Epoch 26/100\n",
            "3/3 [==============================] - 0s 4ms/step - loss: 0.5892 - accuracy: 0.7000\n",
            "Epoch 27/100\n",
            "3/3 [==============================] - 0s 6ms/step - loss: 0.5860 - accuracy: 0.7000\n",
            "Epoch 28/100\n",
            "3/3 [==============================] - 0s 5ms/step - loss: 0.5826 - accuracy: 0.7000\n",
            "Epoch 29/100\n",
            "3/3 [==============================] - 0s 5ms/step - loss: 0.5790 - accuracy: 0.7000\n",
            "Epoch 30/100\n",
            "3/3 [==============================] - 0s 5ms/step - loss: 0.5755 - accuracy: 0.7000\n",
            "Epoch 31/100\n",
            "3/3 [==============================] - 0s 4ms/step - loss: 0.5720 - accuracy: 0.7125\n",
            "Epoch 32/100\n",
            "3/3 [==============================] - 0s 4ms/step - loss: 0.5685 - accuracy: 0.7125\n",
            "Epoch 33/100\n",
            "3/3 [==============================] - 0s 4ms/step - loss: 0.5647 - accuracy: 0.7125\n",
            "Epoch 34/100\n",
            "3/3 [==============================] - 0s 4ms/step - loss: 0.5611 - accuracy: 0.7125\n",
            "Epoch 35/100\n",
            "3/3 [==============================] - 0s 4ms/step - loss: 0.5575 - accuracy: 0.7250\n",
            "Epoch 36/100\n",
            "3/3 [==============================] - 0s 4ms/step - loss: 0.5536 - accuracy: 0.7250\n",
            "Epoch 37/100\n",
            "3/3 [==============================] - 0s 4ms/step - loss: 0.5494 - accuracy: 0.7375\n",
            "Epoch 38/100\n",
            "3/3 [==============================] - 0s 4ms/step - loss: 0.5451 - accuracy: 0.7500\n",
            "Epoch 39/100\n",
            "3/3 [==============================] - 0s 4ms/step - loss: 0.5411 - accuracy: 0.7500\n",
            "Epoch 40/100\n",
            "3/3 [==============================] - 0s 6ms/step - loss: 0.5357 - accuracy: 0.7500\n",
            "Epoch 41/100\n",
            "3/3 [==============================] - 0s 7ms/step - loss: 0.5310 - accuracy: 0.7500\n",
            "Epoch 42/100\n",
            "3/3 [==============================] - 0s 4ms/step - loss: 0.5258 - accuracy: 0.7625\n",
            "Epoch 43/100\n",
            "3/3 [==============================] - 0s 5ms/step - loss: 0.5207 - accuracy: 0.7625\n",
            "Epoch 44/100\n",
            "3/3 [==============================] - 0s 5ms/step - loss: 0.5156 - accuracy: 0.7750\n",
            "Epoch 45/100\n",
            "3/3 [==============================] - 0s 5ms/step - loss: 0.5102 - accuracy: 0.7750\n",
            "Epoch 46/100\n",
            "3/3 [==============================] - 0s 5ms/step - loss: 0.5052 - accuracy: 0.8000\n",
            "Epoch 47/100\n",
            "3/3 [==============================] - 0s 5ms/step - loss: 0.5003 - accuracy: 0.8375\n",
            "Epoch 48/100\n",
            "3/3 [==============================] - 0s 5ms/step - loss: 0.4956 - accuracy: 0.8500\n",
            "Epoch 49/100\n",
            "3/3 [==============================] - 0s 5ms/step - loss: 0.4907 - accuracy: 0.8500\n",
            "Epoch 50/100\n",
            "3/3 [==============================] - 0s 5ms/step - loss: 0.4859 - accuracy: 0.8500\n",
            "Epoch 51/100\n",
            "3/3 [==============================] - 0s 5ms/step - loss: 0.4811 - accuracy: 0.8500\n",
            "Epoch 52/100\n",
            "3/3 [==============================] - 0s 4ms/step - loss: 0.4766 - accuracy: 0.8625\n",
            "Epoch 53/100\n",
            "3/3 [==============================] - 0s 4ms/step - loss: 0.4720 - accuracy: 0.8500\n",
            "Epoch 54/100\n",
            "3/3 [==============================] - 0s 4ms/step - loss: 0.4672 - accuracy: 0.8500\n",
            "Epoch 55/100\n",
            "3/3 [==============================] - 0s 7ms/step - loss: 0.4626 - accuracy: 0.8500\n",
            "Epoch 56/100\n",
            "3/3 [==============================] - 0s 6ms/step - loss: 0.4584 - accuracy: 0.8500\n",
            "Epoch 57/100\n",
            "3/3 [==============================] - 0s 3ms/step - loss: 0.4538 - accuracy: 0.8500\n",
            "Epoch 58/100\n",
            "3/3 [==============================] - 0s 4ms/step - loss: 0.4490 - accuracy: 0.8500\n",
            "Epoch 59/100\n",
            "3/3 [==============================] - 0s 5ms/step - loss: 0.4450 - accuracy: 0.8750\n",
            "Epoch 60/100\n",
            "3/3 [==============================] - 0s 4ms/step - loss: 0.4408 - accuracy: 0.8750\n",
            "Epoch 61/100\n",
            "3/3 [==============================] - 0s 5ms/step - loss: 0.4360 - accuracy: 0.8750\n",
            "Epoch 62/100\n",
            "3/3 [==============================] - 0s 5ms/step - loss: 0.4319 - accuracy: 0.8875\n",
            "Epoch 63/100\n",
            "3/3 [==============================] - 0s 7ms/step - loss: 0.4277 - accuracy: 0.8875\n",
            "Epoch 64/100\n",
            "3/3 [==============================] - 0s 7ms/step - loss: 0.4235 - accuracy: 0.8875\n",
            "Epoch 65/100\n",
            "3/3 [==============================] - 0s 6ms/step - loss: 0.4192 - accuracy: 0.8875\n",
            "Epoch 66/100\n",
            "3/3 [==============================] - 0s 5ms/step - loss: 0.4147 - accuracy: 0.8875\n",
            "Epoch 67/100\n",
            "3/3 [==============================] - 0s 6ms/step - loss: 0.4106 - accuracy: 0.8875\n",
            "Epoch 68/100\n",
            "3/3 [==============================] - 0s 5ms/step - loss: 0.4060 - accuracy: 0.9000\n",
            "Epoch 69/100\n",
            "3/3 [==============================] - 0s 5ms/step - loss: 0.4018 - accuracy: 0.9000\n",
            "Epoch 70/100\n",
            "3/3 [==============================] - 0s 7ms/step - loss: 0.3973 - accuracy: 0.9000\n",
            "Epoch 71/100\n",
            "3/3 [==============================] - 0s 6ms/step - loss: 0.3930 - accuracy: 0.9000\n",
            "Epoch 72/100\n",
            "3/3 [==============================] - 0s 5ms/step - loss: 0.3886 - accuracy: 0.9000\n",
            "Epoch 73/100\n",
            "3/3 [==============================] - 0s 5ms/step - loss: 0.3842 - accuracy: 0.9000\n",
            "Epoch 74/100\n",
            "3/3 [==============================] - 0s 4ms/step - loss: 0.3797 - accuracy: 0.9000\n",
            "Epoch 75/100\n",
            "3/3 [==============================] - 0s 5ms/step - loss: 0.3747 - accuracy: 0.9000\n",
            "Epoch 76/100\n",
            "3/3 [==============================] - 0s 5ms/step - loss: 0.3699 - accuracy: 0.9000\n",
            "Epoch 77/100\n",
            "3/3 [==============================] - 0s 4ms/step - loss: 0.3653 - accuracy: 0.9000\n",
            "Epoch 78/100\n",
            "3/3 [==============================] - 0s 6ms/step - loss: 0.3606 - accuracy: 0.9000\n",
            "Epoch 79/100\n",
            "3/3 [==============================] - 0s 4ms/step - loss: 0.3556 - accuracy: 0.9000\n",
            "Epoch 80/100\n",
            "3/3 [==============================] - 0s 5ms/step - loss: 0.3509 - accuracy: 0.9000\n",
            "Epoch 81/100\n",
            "3/3 [==============================] - 0s 5ms/step - loss: 0.3462 - accuracy: 0.9000\n",
            "Epoch 82/100\n",
            "3/3 [==============================] - 0s 5ms/step - loss: 0.3412 - accuracy: 0.9000\n",
            "Epoch 83/100\n",
            "3/3 [==============================] - 0s 4ms/step - loss: 0.3370 - accuracy: 0.9000\n",
            "Epoch 84/100\n",
            "3/3 [==============================] - 0s 5ms/step - loss: 0.3323 - accuracy: 0.9000\n",
            "Epoch 85/100\n",
            "3/3 [==============================] - 0s 5ms/step - loss: 0.3279 - accuracy: 0.9000\n",
            "Epoch 86/100\n",
            "3/3 [==============================] - 0s 6ms/step - loss: 0.3235 - accuracy: 0.9000\n",
            "Epoch 87/100\n",
            "3/3 [==============================] - 0s 4ms/step - loss: 0.3193 - accuracy: 0.9000\n",
            "Epoch 88/100\n",
            "3/3 [==============================] - 0s 4ms/step - loss: 0.3151 - accuracy: 0.9000\n",
            "Epoch 89/100\n",
            "3/3 [==============================] - 0s 5ms/step - loss: 0.3111 - accuracy: 0.9000\n",
            "Epoch 90/100\n",
            "3/3 [==============================] - 0s 5ms/step - loss: 0.3071 - accuracy: 0.9000\n",
            "Epoch 91/100\n",
            "3/3 [==============================] - 0s 5ms/step - loss: 0.3032 - accuracy: 0.9000\n",
            "Epoch 92/100\n",
            "3/3 [==============================] - 0s 5ms/step - loss: 0.2994 - accuracy: 0.9000\n",
            "Epoch 93/100\n",
            "3/3 [==============================] - 0s 4ms/step - loss: 0.2957 - accuracy: 0.9000\n",
            "Epoch 94/100\n",
            "3/3 [==============================] - 0s 5ms/step - loss: 0.2923 - accuracy: 0.9000\n",
            "Epoch 95/100\n",
            "3/3 [==============================] - 0s 5ms/step - loss: 0.2887 - accuracy: 0.9000\n",
            "Epoch 96/100\n",
            "3/3 [==============================] - 0s 5ms/step - loss: 0.2855 - accuracy: 0.9000\n",
            "Epoch 97/100\n",
            "3/3 [==============================] - 0s 4ms/step - loss: 0.2821 - accuracy: 0.9000\n",
            "Epoch 98/100\n",
            "3/3 [==============================] - 0s 5ms/step - loss: 0.2789 - accuracy: 0.9000\n",
            "Epoch 99/100\n",
            "3/3 [==============================] - 0s 4ms/step - loss: 0.2757 - accuracy: 0.9000\n",
            "Epoch 100/100\n",
            "3/3 [==============================] - 0s 8ms/step - loss: 0.2727 - accuracy: 0.9000\n"
          ]
        },
        {
          "output_type": "execute_result",
          "data": {
            "text/plain": [
              "<keras.callbacks.History at 0x7f1e692ae490>"
            ]
          },
          "metadata": {},
          "execution_count": 24
        }
      ]
    },
    {
      "cell_type": "code",
      "source": [
        "y_log = ann_uric.predict(x_test)"
      ],
      "metadata": {
        "colab": {
          "base_uri": "https://localhost:8080/"
        },
        "id": "AdDt70riEeP-",
        "outputId": "4c9289f2-1321-4834-d9a9-58e9048357ce"
      },
      "execution_count": null,
      "outputs": [
        {
          "output_type": "stream",
          "name": "stdout",
          "text": [
            "1/1 [==============================] - 0s 80ms/step\n"
          ]
        }
      ]
    },
    {
      "cell_type": "code",
      "source": [
        "y_pred = np.where(y_log>0.5,1,0)"
      ],
      "metadata": {
        "id": "12IkuC2h9FSw"
      },
      "execution_count": null,
      "outputs": []
    },
    {
      "cell_type": "code",
      "source": [
        "from sklearn.metrics import accuracy_score\n",
        "ann = accuracy_score(y_test, y_pred)\n",
        "ann"
      ],
      "metadata": {
        "colab": {
          "base_uri": "https://localhost:8080/"
        },
        "id": "Z_cozzdtEmkT",
        "outputId": "02fb43ef-2243-416c-db0d-d384dd72ab78"
      },
      "execution_count": null,
      "outputs": [
        {
          "output_type": "execute_result",
          "data": {
            "text/plain": [
              "0.9047619047619048"
            ]
          },
          "metadata": {},
          "execution_count": 27
        }
      ]
    },
    {
      "cell_type": "code",
      "source": [
        "ann_accuracy = accuracy_score(y_test, y_pred)*100\n",
        "print(\"Accuracy of the Test data: \" + str(round(ann_accuracy, 2))+ '%')"
      ],
      "metadata": {
        "colab": {
          "base_uri": "https://localhost:8080/"
        },
        "id": "sSLbNaDBEo-W",
        "outputId": "f971665e-c782-47fc-fe31-2e62a416e05f"
      },
      "execution_count": null,
      "outputs": [
        {
          "output_type": "stream",
          "name": "stdout",
          "text": [
            "Accuracy of the Test data: 90.48%\n"
          ]
        }
      ]
    },
    {
      "cell_type": "code",
      "source": [],
      "metadata": {
        "id": "97BE_0z-EyIa"
      },
      "execution_count": null,
      "outputs": []
    },
    {
      "cell_type": "markdown",
      "source": [
        "LOGISTIC REGRESSION"
      ],
      "metadata": {
        "id": "GQ220RucE1Tw"
      }
    },
    {
      "cell_type": "code",
      "source": [
        "from sklearn.linear_model import LogisticRegression\n",
        "from sklearn.metrics import accuracy_score\n",
        "model = LogisticRegression()\n",
        "# training the logistic regression model with training data\n",
        "model.fit(x_train, y_train)"
      ],
      "metadata": {
        "colab": {
          "base_uri": "https://localhost:8080/"
        },
        "id": "4w2OwCzPEz2F",
        "outputId": "b84e0ccf-bbea-4044-f084-b9324c45d1bf"
      },
      "execution_count": null,
      "outputs": [
        {
          "output_type": "execute_result",
          "data": {
            "text/plain": [
              "LogisticRegression()"
            ]
          },
          "metadata": {},
          "execution_count": 29
        }
      ]
    },
    {
      "cell_type": "code",
      "source": [
        "# accuracy score\n",
        "# training data trd\n",
        "x_train_pred = model.predict(x_train)\n",
        "trd_accuracy = accuracy_score(x_train_pred, y_train)*100\n",
        "print(\"Accuracy of the Training data: \" + str(round(trd_accuracy, 2))+ '%')"
      ],
      "metadata": {
        "colab": {
          "base_uri": "https://localhost:8080/"
        },
        "id": "gQ03Dt6mE9Sb",
        "outputId": "0c5d5081-4107-49f0-c3b3-e4a1d59c74da"
      },
      "execution_count": null,
      "outputs": [
        {
          "output_type": "stream",
          "name": "stdout",
          "text": [
            "Accuracy of the Training data: 100.0%\n"
          ]
        }
      ]
    },
    {
      "cell_type": "code",
      "source": [
        "# test data ted\n",
        "x_test_pred = model.predict(x_test)\n",
        "ted_accuracy = accuracy_score(x_test_pred, y_test)*100\n",
        "print(\"Accuracy of the Test data: \" + str(round(ted_accuracy, 2)) + '%')"
      ],
      "metadata": {
        "colab": {
          "base_uri": "https://localhost:8080/"
        },
        "id": "a4EzC13kE-VH",
        "outputId": "fe35685f-89b7-4856-a100-464b425bbc94"
      },
      "execution_count": null,
      "outputs": [
        {
          "output_type": "stream",
          "name": "stdout",
          "text": [
            "Accuracy of the Test data: 95.24%\n"
          ]
        }
      ]
    },
    {
      "cell_type": "markdown",
      "source": [],
      "metadata": {
        "id": "HcWbHKFlFJsB"
      }
    },
    {
      "cell_type": "code",
      "source": [
        "from sklearn.preprocessing import StandardScaler\n",
        "from sklearn.metrics import confusion_matrix, accuracy_score"
      ],
      "metadata": {
        "id": "F0vGf5ocFJ4x"
      },
      "execution_count": null,
      "outputs": []
    },
    {
      "cell_type": "code",
      "source": [
        "sc = StandardScaler()"
      ],
      "metadata": {
        "id": "QrFrA7MiFMAo"
      },
      "execution_count": null,
      "outputs": []
    },
    {
      "cell_type": "code",
      "source": [
        "# training the model with training dataset\n",
        "x_train = sc.fit_transform(x_train)\n",
        "x_test = sc.fit_transform(x_test)"
      ],
      "metadata": {
        "id": "O2157BO0FPJQ"
      },
      "execution_count": null,
      "outputs": []
    },
    {
      "cell_type": "code",
      "source": [
        "print(x_train)"
      ],
      "metadata": {
        "colab": {
          "base_uri": "https://localhost:8080/"
        },
        "id": "NL4FLtEeFRfl",
        "outputId": "4b60283e-dabd-45a2-cd09-37c9ee27d7a5"
      },
      "execution_count": null,
      "outputs": [
        {
          "output_type": "stream",
          "name": "stdout",
          "text": [
            "[[ 1.65398715  0.7540739  -1.05252112  0.7540739 ]\n",
            " [-1.27957232 -1.32612997 -0.08824615 -1.32612997]\n",
            " [ 0.03280955  0.7540739   1.71040147  0.7540739 ]\n",
            " [-0.66198086  0.7540739   1.49056676  0.7540739 ]\n",
            " [ 0.26440635  0.7540739   1.94022867  0.7540739 ]\n",
            " [ 0.11000848  0.7540739   0.61122793  0.7540739 ]\n",
            " [-0.73917979  0.7540739  -0.89264133  0.7540739 ]\n",
            " [-0.66198086  0.7540739   0.18155099  0.7540739 ]\n",
            " [ 1.65398715  0.7540739  -0.8077052   0.7540739 ]\n",
            " [-0.97077659 -1.32612997 -1.26236335 -1.32612997]\n",
            " [ 2.27157862  0.7540739  -0.44297943  0.7540739 ]\n",
            " [ 0.03280955  0.7540739  -0.20815599  0.7540739 ]\n",
            " [-0.27598619 -1.32612997 -0.33805832 -1.32612997]\n",
            " [ 0.41880421  0.7540739  -1.26735959  0.7540739 ]\n",
            " [ 0.80479888 -1.32612997  3.81881618 -1.32612997]\n",
            " [ 0.34160528  0.7540739  -0.15319731  0.7540739 ]\n",
            " [ 1.57678822 -1.32612997  0.53128803 -1.32612997]\n",
            " [ 1.19079355  0.7540739  -1.41225065  0.7540739 ]\n",
            " [ 2.19437969  0.7540739   0.28147586  0.7540739 ]\n",
            " [ 1.19079355 -1.32612997 -0.73775779 -1.32612997]\n",
            " [ 2.50317542  0.7540739  -0.18317477  0.7540739 ]\n",
            " [-0.97077659 -1.32612997  0.22651718 -1.32612997]\n",
            " [-0.89357766  0.7540739   1.30570576  0.7540739 ]\n",
            " [ 2.11718075  0.7540739  -0.78772022  0.7540739 ]\n",
            " [ 0.03280955 -1.32612997 -0.71777282 -1.32612997]\n",
            " [-0.50758299  0.7540739   0.29146835  0.7540739 ]\n",
            " [-0.89357766  0.7540739   0.15656978  0.7540739 ]\n",
            " [ 0.41880421  0.7540739   1.55052168  0.7540739 ]\n",
            " [-0.35318512  0.7540739  -0.13321234  0.7540739 ]\n",
            " [-1.66556699 -1.32612997  0.27148338 -1.32612997]\n",
            " [-0.50758299  0.7540739   0.68117533  0.7540739 ]\n",
            " [-0.35318512 -1.32612997 -0.61784795 -1.32612997]\n",
            " [ 1.26799248 -1.32612997  0.85604385 -1.32612997]\n",
            " [-0.89357766  0.7540739  -0.71777282  0.7540739 ]\n",
            " [ 0.18720741  0.7540739   0.42137068  0.7540739 ]\n",
            " [-1.12517446 -1.32612997 -0.4279907  -1.32612997]\n",
            " [ 0.49600315 -1.32612997  0.73613401 -1.32612997]\n",
            " [ 1.03639568  0.7540739  -1.34729948  0.7540739 ]\n",
            " [-0.19878725  0.7540739   1.94022867  0.7540739 ]\n",
            " [-0.19878725  0.7540739   0.26149089  0.7540739 ]\n",
            " [-0.19878725  0.7540739   1.93023618  0.7540739 ]\n",
            " [-0.19878725  0.7540739   0.75112274  0.7540739 ]\n",
            " [ 1.49958928 -1.32612997  0.27647962 -1.32612997]\n",
            " [-0.35318512  0.7540739   1.0808748   0.7540739 ]\n",
            " [ 0.11000848 -1.32612997 -0.13321234 -1.32612997]\n",
            " [ 1.03639568  0.7540739   1.38064941  0.7540739 ]\n",
            " [ 0.88199782 -1.32612997 -1.19241594 -1.32612997]\n",
            " [-1.12517446 -1.32612997 -0.96258874 -1.32612997]\n",
            " [-0.89357766  0.7540739  -0.66781038  0.7540739 ]\n",
            " [-0.35318512  0.7540739  -0.37303202  0.7540739 ]\n",
            " [-1.12517446  0.7540739  -0.97757747  0.7540739 ]\n",
            " [-0.73917979  0.7540739   0.92599126  0.7540739 ]\n",
            " [-1.20237339  0.7540739   0.3314383   0.7540739 ]\n",
            " [ 1.49958928  0.7540739  -0.80270895  0.7540739 ]\n",
            " [-0.73917979  0.7540739  -0.58287424  0.7540739 ]\n",
            " [-0.12158832  0.7540739   0.7811002   0.7540739 ]\n",
            " [-0.97077659  0.7540739  -1.67705155  0.7540739 ]\n",
            " [-1.04797552  0.7540739   0.94097999  0.7540739 ]\n",
            " [ 1.42239035 -1.32612997 -1.28234832 -1.32612997]\n",
            " [-1.27957232 -1.32612997 -0.81270144 -1.32612997]\n",
            " [ 1.80838502 -1.32612997 -0.9575925  -1.32612997]\n",
            " [-0.89357766  0.7540739   0.80608142  0.7540739 ]\n",
            " [ 1.57678822 -1.32612997 -0.93760752 -1.32612997]\n",
            " [ 0.26440635 -1.32612997 -0.29309213 -1.32612997]\n",
            " [-0.58478192 -1.32612997 -0.42299446 -1.32612997]\n",
            " [-1.12517446 -1.32612997 -0.01829874 -1.32612997]\n",
            " [-0.89357766  0.7540739  -0.99756245  0.7540739 ]\n",
            " [ 0.18720741  0.7540739  -1.08749483  0.7540739 ]\n",
            " [-0.89357766  0.7540739   0.75611898  0.7540739 ]\n",
            " [-1.27957232  0.7540739  -0.15319731  0.7540739 ]\n",
            " [-0.66198086 -1.32612997  1.23076211 -1.32612997]\n",
            " [-0.43038405  0.7540739  -0.8776526   0.7540739 ]\n",
            " [-0.43038405  0.7540739   0.33643454  0.7540739 ]\n",
            " [-0.27598619  0.7540739  -0.77273149  0.7540739 ]\n",
            " [-0.35318512  0.7540739   0.8160739   0.7540739 ]\n",
            " [-0.19878725 -1.32612997 -0.51292684 -1.32612997]\n",
            " [ 0.26440635 -1.32612997 -0.73276155 -1.32612997]\n",
            " [-1.04797552 -1.32612997 -0.30308461 -1.32612997]\n",
            " [ 0.11000848  0.7540739   0.94597623  0.7540739 ]\n",
            " [ 0.11000848 -1.32612997 -1.42723938 -1.32612997]]\n"
          ]
        }
      ]
    },
    {
      "cell_type": "code",
      "source": [
        "print(x_test)"
      ],
      "metadata": {
        "colab": {
          "base_uri": "https://localhost:8080/"
        },
        "id": "P3-xiBPHFTdo",
        "outputId": "b9ecb429-d13f-42d6-e542-52374448dc23"
      },
      "execution_count": null,
      "outputs": [
        {
          "output_type": "stream",
          "name": "stdout",
          "text": [
            "[[ 0.75047323 -1.15470054 -0.51763757 -1.15470054]\n",
            " [ 0.88460036  0.8660254  -0.38009387  0.8660254 ]\n",
            " [-0.45667094  0.8660254   0.23663432  0.8660254 ]\n",
            " [ 1.75642671 -1.15470054  1.34142079 -1.15470054]\n",
            " [-0.7249252  -1.15470054 -1.25859878 -1.15470054]\n",
            " [ 0.14690114 -1.15470054 -1.60023957 -1.15470054]\n",
            " [-0.59079807 -1.15470054 -0.61968612 -1.15470054]\n",
            " [-0.7249252   0.8660254  -0.30466668  0.8660254 ]\n",
            " [-0.59079807  0.8660254   0.71581881  0.8660254 ]\n",
            " [-0.99317947  0.8660254   0.28987704  0.8660254 ]\n",
            " [-2.20032364  0.8660254   0.97759553  0.8660254 ]\n",
            " [ 1.89055384  0.8660254  -0.06951133  0.8660254 ]\n",
            " [-0.59079807  0.8660254  -0.60193855  0.8660254 ]\n",
            " [-0.38960738  0.8660254  -0.06063754  0.8660254 ]\n",
            " [ 0.21396471 -1.15470054 -0.61524923 -1.15470054]\n",
            " [-0.79198877 -1.15470054 -0.45108417 -1.15470054]\n",
            " [ 0.75047323 -1.15470054  0.17008092 -1.15470054]\n",
            " [-0.12135312  0.8660254  -1.13436576  0.8660254 ]\n",
            " [-0.59079807  0.8660254   1.14176058  0.8660254 ]\n",
            " [ 0.81753679  0.8660254   2.98750826  0.8660254 ]\n",
            " [ 1.55523601 -1.15470054 -0.24698707 -1.15470054]]\n"
          ]
        }
      ]
    },
    {
      "cell_type": "code",
      "source": [
        "from sklearn.svm import SVC\n",
        "svc = SVC(kernel = 'linear', random_state = 0)"
      ],
      "metadata": {
        "id": "wFTIKuCKFVdE"
      },
      "execution_count": null,
      "outputs": []
    },
    {
      "cell_type": "code",
      "source": [
        "svc.fit(x_train, y_train)"
      ],
      "metadata": {
        "colab": {
          "base_uri": "https://localhost:8080/"
        },
        "id": "eC_dLq0-FXN0",
        "outputId": "09a11521-af1b-4528-9ca1-ece91012758a"
      },
      "execution_count": null,
      "outputs": [
        {
          "output_type": "execute_result",
          "data": {
            "text/plain": [
              "SVC(kernel='linear', random_state=0)"
            ]
          },
          "metadata": {},
          "execution_count": 45
        }
      ]
    },
    {
      "cell_type": "code",
      "source": [
        "xtrain_svm_pred = svc.predict(x_train)"
      ],
      "metadata": {
        "id": "Ah-h9UFJFY8k"
      },
      "execution_count": null,
      "outputs": []
    },
    {
      "cell_type": "code",
      "source": [
        "xtrain_svm_pred"
      ],
      "metadata": {
        "colab": {
          "base_uri": "https://localhost:8080/"
        },
        "id": "CEmAGfTpFac8",
        "outputId": "54909727-afdb-4cf4-e9a8-cb82b86a604e"
      },
      "execution_count": null,
      "outputs": [
        {
          "output_type": "execute_result",
          "data": {
            "text/plain": [
              "array([0, 0, 1, 1, 1, 1, 0, 0, 0, 0, 0, 0, 0, 0, 1, 0, 1, 0, 0, 0, 0, 1,\n",
              "       1, 0, 0, 0, 0, 1, 0, 1, 1, 0, 1, 0, 0, 0, 1, 0, 1, 0, 1, 1, 1, 1,\n",
              "       0, 1, 0, 0, 0, 0, 0, 1, 0, 0, 0, 1, 0, 1, 0, 0, 0, 1, 0, 0, 0, 0,\n",
              "       0, 0, 1, 0, 1, 0, 0, 0, 1, 0, 0, 0, 1, 0])"
            ]
          },
          "metadata": {},
          "execution_count": 47
        }
      ]
    },
    {
      "cell_type": "code",
      "source": [
        "confusion_matrix(y_train, xtrain_svm_pred)"
      ],
      "metadata": {
        "colab": {
          "base_uri": "https://localhost:8080/"
        },
        "id": "XHp7KsfXFcwc",
        "outputId": "60473dfd-6af7-4843-d19e-3f9235b8e818"
      },
      "execution_count": null,
      "outputs": [
        {
          "output_type": "execute_result",
          "data": {
            "text/plain": [
              "array([[53,  0],\n",
              "       [ 0, 27]])"
            ]
          },
          "metadata": {},
          "execution_count": 48
        }
      ]
    },
    {
      "cell_type": "code",
      "source": [
        "accuracy_score(y_train, xtrain_svm_pred)\n",
        "svm_train_accuracy = accuracy_score(y_train, xtrain_svm_pred)*100\n",
        "print(\"Accuracy of training data is: \" + str(round(svm_train_accuracy, 2)) + '%')"
      ],
      "metadata": {
        "colab": {
          "base_uri": "https://localhost:8080/"
        },
        "id": "-fgfbtg5FezU",
        "outputId": "43c812ae-956c-49cb-dbcb-04ef2e8d15f3"
      },
      "execution_count": null,
      "outputs": [
        {
          "output_type": "stream",
          "name": "stdout",
          "text": [
            "Accuracy of training data is: 100.0%\n"
          ]
        }
      ]
    },
    {
      "cell_type": "code",
      "source": [
        "xtest_svm_pred = svc.predict(x_test)\n",
        "xtest_svm_pred"
      ],
      "metadata": {
        "colab": {
          "base_uri": "https://localhost:8080/"
        },
        "id": "OBfO7u1OFgz4",
        "outputId": "ede2da72-9e26-4df9-a9d4-eb84f3db949a"
      },
      "execution_count": null,
      "outputs": [
        {
          "output_type": "execute_result",
          "data": {
            "text/plain": [
              "array([0, 0, 0, 1, 0, 0, 0, 0, 1, 0, 1, 0, 0, 0, 0, 0, 0, 0, 1, 1, 0])"
            ]
          },
          "metadata": {},
          "execution_count": 50
        }
      ]
    },
    {
      "cell_type": "code",
      "source": [
        "confusion_matrix(y_test, xtest_svm_pred)"
      ],
      "metadata": {
        "colab": {
          "base_uri": "https://localhost:8080/"
        },
        "id": "uDEWRMV7FkOM",
        "outputId": "37ce6724-48ac-48ee-d5a2-391baad4e4ad"
      },
      "execution_count": null,
      "outputs": [
        {
          "output_type": "execute_result",
          "data": {
            "text/plain": [
              "array([[15,  0],\n",
              "       [ 1,  5]])"
            ]
          },
          "metadata": {},
          "execution_count": 51
        }
      ]
    },
    {
      "cell_type": "code",
      "source": [
        "sns.heatmap(confusion_matrix(y_test,xtest_svm_pred), annot = True, fmt = \"d\")"
      ],
      "metadata": {
        "colab": {
          "base_uri": "https://localhost:8080/",
          "height": 282
        },
        "id": "68HSGshyFl9U",
        "outputId": "e834286f-029d-4a25-b8b3-e620f7e1e051"
      },
      "execution_count": null,
      "outputs": [
        {
          "output_type": "execute_result",
          "data": {
            "text/plain": [
              "<matplotlib.axes._subplots.AxesSubplot at 0x7f1e61d92a90>"
            ]
          },
          "metadata": {},
          "execution_count": 52
        },
        {
          "output_type": "display_data",
          "data": {
            "text/plain": [
              "<Figure size 432x288 with 2 Axes>"
            ],
            "image/png": "[encoded data removed]"
          },
          "metadata": {
            "needs_background": "light"
          }
        }
      ]
    },
    {
      "cell_type": "code",
      "source": [
        "accuracy_score(y_test, xtest_svm_pred)\n",
        "svm_test_accuracy = accuracy_score(y_test, xtest_svm_pred)*100\n",
        "print(\"Accuracy of the model or test data is: \" + str(round(svm_test_accuracy, 2)) + '%')"
      ],
      "metadata": {
        "colab": {
          "base_uri": "https://localhost:8080/"
        },
        "id": "iS9h9vrJFq4G",
        "outputId": "c40e21ec-bbc2-4292-a164-81e9b9fecaab"
      },
      "execution_count": null,
      "outputs": [
        {
          "output_type": "stream",
          "name": "stdout",
          "text": [
            "Accuracy of the model or test data is: 95.24%\n"
          ]
        }
      ]
    },
    {
      "cell_type": "markdown",
      "source": [
        "Comparison between the three models"
      ],
      "metadata": {
        "id": "gdrDdZtNFt1c"
      }
    },
    {
      "cell_type": "code",
      "source": [
        "model_compare = pd.DataFrame({\"Artificial Neural Network\":ann_accuracy,\n",
        "                              \"Logistic Regression\":ted_accuracy,\n",
        "                              \"Support Vector Machine\":svm_test_accuracy,}, index = [\"accuracy\"])\n",
        "model_compare"
      ],
      "metadata": {
        "colab": {
          "base_uri": "https://localhost:8080/",
          "height": 81
        },
        "id": "QX-GHP4rFuG0",
        "outputId": "e62430c8-d5c4-4035-b942-92479cf4dd76"
      },
      "execution_count": null,
      "outputs": [
        {
          "output_type": "execute_result",
          "data": {
            "text/plain": [
              "          Artificial Neural Network  Logistic Regression  \\\n",
              "accuracy                   90.47619            95.238095   \n",
              "\n",
              "          Support Vector Machine  \n",
              "accuracy               95.238095  "
            ],
            "text/html": [
              "\n",
              "  <div id=\"df-6c1ae379-998e-42ee-af03-8a7b0c233055\">\n",
              "    <div class=\"colab-df-container\">\n",
              "      <div>\n",
              "<style scoped>\n",
              "    .dataframe tbody tr th:only-of-type {\n",
              "        vertical-align: middle;\n",
              "    }\n",
              "\n",
              "    .dataframe tbody tr th {\n",
              "        vertical-align: top;\n",
              "    }\n",
              "\n",
              "    .dataframe thead th {\n",
              "        text-align: right;\n",
              "    }\n",
              "</style>\n",
              "<table border=\"1\" class=\"dataframe\">\n",
              "  <thead>\n",
              "    <tr style=\"text-align: right;\">\n",
              "      <th></th>\n",
              "      <th>Artificial Neural Network</th>\n",
              "      <th>Logistic Regression</th>\n",
              "      <th>Support Vector Machine</th>\n",
              "    </tr>\n",
              "  </thead>\n",
              "  <tbody>\n",
              "    <tr>\n",
              "      <th>accuracy</th>\n",
              "      <td>90.47619</td>\n",
              "      <td>95.238095</td>\n",
              "      <td>95.238095</td>\n",
              "    </tr>\n",
              "  </tbody>\n",
              "</table>\n",
              "</div>\n",
              "      <button class=\"colab-df-convert\" onclick=\"convertToInteractive('df-6c1ae379-998e-42ee-af03-8a7b0c233055')\"\n",
              "              title=\"Convert this dataframe to an interactive table.\"\n",
              "              style=\"display:none;\">\n",
              "        \n",
              "  <svg xmlns=\"http://www.w3.org/2000/svg\" height=\"24px\"viewBox=\"0 0 24 24\"\n",
              "       width=\"24px\">\n",
              "    <path d=\"M0 0h24v24H0V0z\" fill=\"none\"/>\n",
              "    <path d=\"M18.56 5.44l.94 2.06.94-2.06 2.06-.94-2.06-.94-.94-2.06-.94 2.06-2.06.94zm-11 1L8.5 8.5l.94-2.06 2.06-.94-2.06-.94L8.5 2.5l-.94 2.06-2.06.94zm10 10l.94 2.06.94-2.06 2.06-.94-2.06-.94-.94-2.06-.94 2.06-2.06.94z\"/><path d=\"M17.41 7.96l-1.37-1.37c-.4-.4-.92-.59-1.43-.59-.52 0-1.04.2-1.43.59L10.3 9.45l-7.72 7.72c-.78.78-.78 2.05 0 2.83L4 21.41c.39.39.9.59 1.41.59.51 0 1.02-.2 1.41-.59l7.78-7.78 2.81-2.81c.8-.78.8-2.07 0-2.86zM5.41 20L4 18.59l7.72-7.72 1.47 1.35L5.41 20z\"/>\n",
              "  </svg>\n",
              "      </button>\n",
              "      \n",
              "  <style>\n",
              "    .colab-df-container {\n",
              "      display:flex;\n",
              "      flex-wrap:wrap;\n",
              "      gap: 12px;\n",
              "    }\n",
              "\n",
              "    .colab-df-convert {\n",
              "      background-color: #E8F0FE;\n",
              "      border: none;\n",
              "      border-radius: 50%;\n",
              "      cursor: pointer;\n",
              "      display: none;\n",
              "      fill: #1967D2;\n",
              "      height: 32px;\n",
              "      padding: 0 0 0 0;\n",
              "      width: 32px;\n",
              "    }\n",
              "\n",
              "    .colab-df-convert:hover {\n",
              "      background-color: #E2EBFA;\n",
              "      box-shadow: 0px 1px 2px rgba(60, 64, 67, 0.3), 0px 1px 3px 1px rgba(60, 64, 67, 0.15);\n",
              "      fill: #174EA6;\n",
              "    }\n",
              "\n",
              "    [theme=dark] .colab-df-convert {\n",
              "      background-color: #3B4455;\n",
              "      fill: #D2E3FC;\n",
              "    }\n",
              "\n",
              "    [theme=dark] .colab-df-convert:hover {\n",
              "      background-color: #434B5C;\n",
              "      box-shadow: 0px 1px 3px 1px rgba(0, 0, 0, 0.15);\n",
              "      filter: drop-shadow(0px 1px 2px rgba(0, 0, 0, 0.3));\n",
              "      fill: #FFFFFF;\n",
              "    }\n",
              "  </style>\n",
              "\n",
              "      <script>\n",
              "        const buttonEl =\n",
              "          document.querySelector('#df-6c1ae379-998e-42ee-af03-8a7b0c233055 button.colab-df-convert');\n",
              "        buttonEl.style.display =\n",
              "          google.colab.kernel.accessAllowed ? 'block' : 'none';\n",
              "\n",
              "        async function convertToInteractive(key) {\n",
              "          const element = document.querySelector('#df-6c1ae379-998e-42ee-af03-8a7b0c233055');\n",
              "          const dataTable =\n",
              "            await google.colab.kernel.invokeFunction('convertToInteractive',\n",
              "                                                     [key], {});\n",
              "          if (!dataTable) return;\n",
              "\n",
              "          const docLinkHtml = 'Like what you see? Visit the ' +\n",
              "            '<a target=\"_blank\" href=https://colab.research.google.com/notebooks/data_table.ipynb>data table notebook</a>'\n",
              "            + ' to learn more about interactive tables.';\n",
              "          element.innerHTML = '';\n",
              "          dataTable['output_type'] = 'display_data';\n",
              "          await google.colab.output.renderOutput(dataTable, element);\n",
              "          const docLink = document.createElement('div');\n",
              "          docLink.innerHTML = docLinkHtml;\n",
              "          element.appendChild(docLink);\n",
              "        }\n",
              "      </script>\n",
              "    </div>\n",
              "  </div>\n",
              "  "
            ]
          },
          "metadata": {},
          "execution_count": 54
        }
      ]
    },
    {
      "cell_type": "code",
      "source": [],
      "metadata": {
        "id": "Xs0SEmI5GrSc"
      },
      "execution_count": null,
      "outputs": []
    }
  ]
}