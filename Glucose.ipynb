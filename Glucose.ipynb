{
  "nbformat": 4,
  "nbformat_minor": 0,
  "metadata": {
    "colab": {
      "provenance": []
    },
    "kernelspec": {
      "name": "python3",
      "display_name": "Python 3"
    },
    "language_info": {
      "name": "python"
    }
  },
  "cells": [
    {
      "cell_type": "markdown",
      "source": [
        "Importing the dependencies"
      ],
      "metadata": {
        "id": "Cp5IadJ1nSp6"
      }
    },
    {
      "cell_type": "code",
      "execution_count": null,
      "metadata": {
        "id": "z4B8JCeo1cp7"
      },
      "outputs": [],
      "source": [
        "import pandas as pd\n",
        "import numpy as np\n",
        "from sklearn.model_selection import train_test_split\n",
        "import tensorflow as tf"
      ]
    },
    {
      "cell_type": "markdown",
      "source": [
        "Loading the CSV file into data frame using pandas library"
      ],
      "metadata": {
        "id": "CpKNUmFCnV6M"
      }
    },
    {
      "cell_type": "code",
      "source": [
        "glucose_data = pd.read_csv(\"/content/GLUCOSE(SUGAR).csv\")\n",
        "glucose_data"
      ],
      "metadata": {
        "colab": {
          "base_uri": "https://localhost:8080/",
          "height": 423
        },
        "id": "myGxOgN11j5d",
        "outputId": "2b0c55e1-dbbf-486d-93ae-bcab6ffd1b83"
      },
      "execution_count": null,
      "outputs": [
        {
          "output_type": "execute_result",
          "data": {
            "text/plain": [
              "     Age Sex  Blood Sugar Fasting  Sugar levels Ref  Blood Sugar Post Lunch  \\\n",
              "0     58   F                  111               120                     152   \n",
              "1     66   M                   92               120                     253   \n",
              "2     30   F                  175               120                     191   \n",
              "3     40   F                  186               120                     201   \n",
              "4     49   M                  142               120                     213   \n",
              "..   ...  ..                  ...               ...                     ...   \n",
              "96    65   M                  134               120                     173   \n",
              "97    68   M                  102               120                     136   \n",
              "98    70   F                  168               120                     390   \n",
              "99    65   F                  218               120                     270   \n",
              "100   72   M                   65               120                     162   \n",
              "\n",
              "     Target  \n",
              "0         0  \n",
              "1         0  \n",
              "2         1  \n",
              "3         1  \n",
              "4         1  \n",
              "..      ...  \n",
              "96        1  \n",
              "97        0  \n",
              "98        1  \n",
              "99        1  \n",
              "100       0  \n",
              "\n",
              "[101 rows x 6 columns]"
            ],
            "text/html": [
              "\n",
              "  <div id=\"df-3a93a9d8-5e17-4a82-9658-b72559b19e19\">\n",
              "    <div class=\"colab-df-container\">\n",
              "      <div>\n",
              "<style scoped>\n",
              "    .dataframe tbody tr th:only-of-type {\n",
              "        vertical-align: middle;\n",
              "    }\n",
              "\n",
              "    .dataframe tbody tr th {\n",
              "        vertical-align: top;\n",
              "    }\n",
              "\n",
              "    .dataframe thead th {\n",
              "        text-align: right;\n",
              "    }\n",
              "</style>\n",
              "<table border=\"1\" class=\"dataframe\">\n",
              "  <thead>\n",
              "    <tr style=\"text-align: right;\">\n",
              "      <th></th>\n",
              "      <th>Age</th>\n",
              "      <th>Sex</th>\n",
              "      <th>Blood Sugar Fasting</th>\n",
              "      <th>Sugar levels Ref</th>\n",
              "      <th>Blood Sugar Post Lunch</th>\n",
              "      <th>Target</th>\n",
              "    </tr>\n",
              "  </thead>\n",
              "  <tbody>\n",
              "    <tr>\n",
              "      <th>0</th>\n",
              "      <td>58</td>\n",
              "      <td>F</td>\n",
              "      <td>111</td>\n",
              "      <td>120</td>\n",
              "      <td>152</td>\n",
              "      <td>0</td>\n",
              "    </tr>\n",
              "    <tr>\n",
              "      <th>1</th>\n",
              "      <td>66</td>\n",
              "      <td>M</td>\n",
              "      <td>92</td>\n",
              "      <td>120</td>\n",
              "      <td>253</td>\n",
              "      <td>0</td>\n",
              "    </tr>\n",
              "    <tr>\n",
              "      <th>2</th>\n",
              "      <td>30</td>\n",
              "      <td>F</td>\n",
              "      <td>175</td>\n",
              "      <td>120</td>\n",
              "      <td>191</td>\n",
              "      <td>1</td>\n",
              "    </tr>\n",
              "    <tr>\n",
              "      <th>3</th>\n",
              "      <td>40</td>\n",
              "      <td>F</td>\n",
              "      <td>186</td>\n",
              "      <td>120</td>\n",
              "      <td>201</td>\n",
              "      <td>1</td>\n",
              "    </tr>\n",
              "    <tr>\n",
              "      <th>4</th>\n",
              "      <td>49</td>\n",
              "      <td>M</td>\n",
              "      <td>142</td>\n",
              "      <td>120</td>\n",
              "      <td>213</td>\n",
              "      <td>1</td>\n",
              "    </tr>\n",
              "    <tr>\n",
              "      <th>...</th>\n",
              "      <td>...</td>\n",
              "      <td>...</td>\n",
              "      <td>...</td>\n",
              "      <td>...</td>\n",
              "      <td>...</td>\n",
              "      <td>...</td>\n",
              "    </tr>\n",
              "    <tr>\n",
              "      <th>96</th>\n",
              "      <td>65</td>\n",
              "      <td>M</td>\n",
              "      <td>134</td>\n",
              "      <td>120</td>\n",
              "      <td>173</td>\n",
              "      <td>1</td>\n",
              "    </tr>\n",
              "    <tr>\n",
              "      <th>97</th>\n",
              "      <td>68</td>\n",
              "      <td>M</td>\n",
              "      <td>102</td>\n",
              "      <td>120</td>\n",
              "      <td>136</td>\n",
              "      <td>0</td>\n",
              "    </tr>\n",
              "    <tr>\n",
              "      <th>98</th>\n",
              "      <td>70</td>\n",
              "      <td>F</td>\n",
              "      <td>168</td>\n",
              "      <td>120</td>\n",
              "      <td>390</td>\n",
              "      <td>1</td>\n",
              "    </tr>\n",
              "    <tr>\n",
              "      <th>99</th>\n",
              "      <td>65</td>\n",
              "      <td>F</td>\n",
              "      <td>218</td>\n",
              "      <td>120</td>\n",
              "      <td>270</td>\n",
              "      <td>1</td>\n",
              "    </tr>\n",
              "    <tr>\n",
              "      <th>100</th>\n",
              "      <td>72</td>\n",
              "      <td>M</td>\n",
              "      <td>65</td>\n",
              "      <td>120</td>\n",
              "      <td>162</td>\n",
              "      <td>0</td>\n",
              "    </tr>\n",
              "  </tbody>\n",
              "</table>\n",
              "<p>101 rows × 6 columns</p>\n",
              "</div>\n",
              "      <button class=\"colab-df-convert\" onclick=\"convertToInteractive('df-3a93a9d8-5e17-4a82-9658-b72559b19e19')\"\n",
              "              title=\"Convert this dataframe to an interactive table.\"\n",
              "              style=\"display:none;\">\n",
              "        \n",
              "  <svg xmlns=\"http://www.w3.org/2000/svg\" height=\"24px\"viewBox=\"0 0 24 24\"\n",
              "       width=\"24px\">\n",
              "    <path d=\"M0 0h24v24H0V0z\" fill=\"none\"/>\n",
              "    <path d=\"M18.56 5.44l.94 2.06.94-2.06 2.06-.94-2.06-.94-.94-2.06-.94 2.06-2.06.94zm-11 1L8.5 8.5l.94-2.06 2.06-.94-2.06-.94L8.5 2.5l-.94 2.06-2.06.94zm10 10l.94 2.06.94-2.06 2.06-.94-2.06-.94-.94-2.06-.94 2.06-2.06.94z\"/><path d=\"M17.41 7.96l-1.37-1.37c-.4-.4-.92-.59-1.43-.59-.52 0-1.04.2-1.43.59L10.3 9.45l-7.72 7.72c-.78.78-.78 2.05 0 2.83L4 21.41c.39.39.9.59 1.41.59.51 0 1.02-.2 1.41-.59l7.78-7.78 2.81-2.81c.8-.78.8-2.07 0-2.86zM5.41 20L4 18.59l7.72-7.72 1.47 1.35L5.41 20z\"/>\n",
              "  </svg>\n",
              "      </button>\n",
              "      \n",
              "  <style>\n",
              "    .colab-df-container {\n",
              "      display:flex;\n",
              "      flex-wrap:wrap;\n",
              "      gap: 12px;\n",
              "    }\n",
              "\n",
              "    .colab-df-convert {\n",
              "      background-color: #E8F0FE;\n",
              "      border: none;\n",
              "      border-radius: 50%;\n",
              "      cursor: pointer;\n",
              "      display: none;\n",
              "      fill: #1967D2;\n",
              "      height: 32px;\n",
              "      padding: 0 0 0 0;\n",
              "      width: 32px;\n",
              "    }\n",
              "\n",
              "    .colab-df-convert:hover {\n",
              "      background-color: #E2EBFA;\n",
              "      box-shadow: 0px 1px 2px rgba(60, 64, 67, 0.3), 0px 1px 3px 1px rgba(60, 64, 67, 0.15);\n",
              "      fill: #174EA6;\n",
              "    }\n",
              "\n",
              "    [theme=dark] .colab-df-convert {\n",
              "      background-color: #3B4455;\n",
              "      fill: #D2E3FC;\n",
              "    }\n",
              "\n",
              "    [theme=dark] .colab-df-convert:hover {\n",
              "      background-color: #434B5C;\n",
              "      box-shadow: 0px 1px 3px 1px rgba(0, 0, 0, 0.15);\n",
              "      filter: drop-shadow(0px 1px 2px rgba(0, 0, 0, 0.3));\n",
              "      fill: #FFFFFF;\n",
              "    }\n",
              "  </style>\n",
              "\n",
              "      <script>\n",
              "        const buttonEl =\n",
              "          document.querySelector('#df-3a93a9d8-5e17-4a82-9658-b72559b19e19 button.colab-df-convert');\n",
              "        buttonEl.style.display =\n",
              "          google.colab.kernel.accessAllowed ? 'block' : 'none';\n",
              "\n",
              "        async function convertToInteractive(key) {\n",
              "          const element = document.querySelector('#df-3a93a9d8-5e17-4a82-9658-b72559b19e19');\n",
              "          const dataTable =\n",
              "            await google.colab.kernel.invokeFunction('convertToInteractive',\n",
              "                                                     [key], {});\n",
              "          if (!dataTable) return;\n",
              "\n",
              "          const docLinkHtml = 'Like what you see? Visit the ' +\n",
              "            '<a target=\"_blank\" href=https://colab.research.google.com/notebooks/data_table.ipynb>data table notebook</a>'\n",
              "            + ' to learn more about interactive tables.';\n",
              "          element.innerHTML = '';\n",
              "          dataTable['output_type'] = 'display_data';\n",
              "          await google.colab.output.renderOutput(dataTable, element);\n",
              "          const docLink = document.createElement('div');\n",
              "          docLink.innerHTML = docLinkHtml;\n",
              "          element.appendChild(docLink);\n",
              "        }\n",
              "      </script>\n",
              "    </div>\n",
              "  </div>\n",
              "  "
            ]
          },
          "metadata": {},
          "execution_count": 2
        }
      ]
    },
    {
      "cell_type": "code",
      "source": [
        "print(glucose_data.columns)"
      ],
      "metadata": {
        "id": "Pq8IOMlwIYG-",
        "outputId": "53b1324e-1e84-4f9d-ea8e-b079d82d0c7c",
        "colab": {
          "base_uri": "https://localhost:8080/"
        }
      },
      "execution_count": null,
      "outputs": [
        {
          "output_type": "stream",
          "name": "stdout",
          "text": [
            "Index(['Age', 'Sex', 'Blood Sugar Fasting', 'Sugar levels Ref',\n",
            "       'Blood Sugar Post Lunch', 'Target'],\n",
            "      dtype='object')\n"
          ]
        }
      ]
    },
    {
      "cell_type": "code",
      "source": [
        "glucose_data['Sex'].replace('F', 0, inplace = True)\n",
        "glucose_data['Sex'].replace('M', 1, inplace = True)\n",
        "glucose_data"
      ],
      "metadata": {
        "colab": {
          "base_uri": "https://localhost:8080/",
          "height": 423
        },
        "id": "iAO4u2R31tHn",
        "outputId": "f539004e-26af-4845-e3eb-18ebc2d577eb"
      },
      "execution_count": null,
      "outputs": [
        {
          "output_type": "execute_result",
          "data": {
            "text/plain": [
              "     Age  Sex  Blood Sugar Fasting  Sugar levels Ref  Blood Sugar Post Lunch  \\\n",
              "0     58    0                  111               120                     152   \n",
              "1     66    1                   92               120                     253   \n",
              "2     30    0                  175               120                     191   \n",
              "3     40    0                  186               120                     201   \n",
              "4     49    1                  142               120                     213   \n",
              "..   ...  ...                  ...               ...                     ...   \n",
              "96    65    1                  134               120                     173   \n",
              "97    68    1                  102               120                     136   \n",
              "98    70    0                  168               120                     390   \n",
              "99    65    0                  218               120                     270   \n",
              "100   72    1                   65               120                     162   \n",
              "\n",
              "     Target  \n",
              "0         0  \n",
              "1         0  \n",
              "2         1  \n",
              "3         1  \n",
              "4         1  \n",
              "..      ...  \n",
              "96        1  \n",
              "97        0  \n",
              "98        1  \n",
              "99        1  \n",
              "100       0  \n",
              "\n",
              "[101 rows x 6 columns]"
            ],
            "text/html": [
              "\n",
              "  <div id=\"df-b0eded8e-e151-401d-839e-3ad5bbc86d0d\">\n",
              "    <div class=\"colab-df-container\">\n",
              "      <div>\n",
              "<style scoped>\n",
              "    .dataframe tbody tr th:only-of-type {\n",
              "        vertical-align: middle;\n",
              "    }\n",
              "\n",
              "    .dataframe tbody tr th {\n",
              "        vertical-align: top;\n",
              "    }\n",
              "\n",
              "    .dataframe thead th {\n",
              "        text-align: right;\n",
              "    }\n",
              "</style>\n",
              "<table border=\"1\" class=\"dataframe\">\n",
              "  <thead>\n",
              "    <tr style=\"text-align: right;\">\n",
              "      <th></th>\n",
              "      <th>Age</th>\n",
              "      <th>Sex</th>\n",
              "      <th>Blood Sugar Fasting</th>\n",
              "      <th>Sugar levels Ref</th>\n",
              "      <th>Blood Sugar Post Lunch</th>\n",
              "      <th>Target</th>\n",
              "    </tr>\n",
              "  </thead>\n",
              "  <tbody>\n",
              "    <tr>\n",
              "      <th>0</th>\n",
              "      <td>58</td>\n",
              "      <td>0</td>\n",
              "      <td>111</td>\n",
              "      <td>120</td>\n",
              "      <td>152</td>\n",
              "      <td>0</td>\n",
              "    </tr>\n",
              "    <tr>\n",
              "      <th>1</th>\n",
              "      <td>66</td>\n",
              "      <td>1</td>\n",
              "      <td>92</td>\n",
              "      <td>120</td>\n",
              "      <td>253</td>\n",
              "      <td>0</td>\n",
              "    </tr>\n",
              "    <tr>\n",
              "      <th>2</th>\n",
              "      <td>30</td>\n",
              "      <td>0</td>\n",
              "      <td>175</td>\n",
              "      <td>120</td>\n",
              "      <td>191</td>\n",
              "      <td>1</td>\n",
              "    </tr>\n",
              "    <tr>\n",
              "      <th>3</th>\n",
              "      <td>40</td>\n",
              "      <td>0</td>\n",
              "      <td>186</td>\n",
              "      <td>120</td>\n",
              "      <td>201</td>\n",
              "      <td>1</td>\n",
              "    </tr>\n",
              "    <tr>\n",
              "      <th>4</th>\n",
              "      <td>49</td>\n",
              "      <td>1</td>\n",
              "      <td>142</td>\n",
              "      <td>120</td>\n",
              "      <td>213</td>\n",
              "      <td>1</td>\n",
              "    </tr>\n",
              "    <tr>\n",
              "      <th>...</th>\n",
              "      <td>...</td>\n",
              "      <td>...</td>\n",
              "      <td>...</td>\n",
              "      <td>...</td>\n",
              "      <td>...</td>\n",
              "      <td>...</td>\n",
              "    </tr>\n",
              "    <tr>\n",
              "      <th>96</th>\n",
              "      <td>65</td>\n",
              "      <td>1</td>\n",
              "      <td>134</td>\n",
              "      <td>120</td>\n",
              "      <td>173</td>\n",
              "      <td>1</td>\n",
              "    </tr>\n",
              "    <tr>\n",
              "      <th>97</th>\n",
              "      <td>68</td>\n",
              "      <td>1</td>\n",
              "      <td>102</td>\n",
              "      <td>120</td>\n",
              "      <td>136</td>\n",
              "      <td>0</td>\n",
              "    </tr>\n",
              "    <tr>\n",
              "      <th>98</th>\n",
              "      <td>70</td>\n",
              "      <td>0</td>\n",
              "      <td>168</td>\n",
              "      <td>120</td>\n",
              "      <td>390</td>\n",
              "      <td>1</td>\n",
              "    </tr>\n",
              "    <tr>\n",
              "      <th>99</th>\n",
              "      <td>65</td>\n",
              "      <td>0</td>\n",
              "      <td>218</td>\n",
              "      <td>120</td>\n",
              "      <td>270</td>\n",
              "      <td>1</td>\n",
              "    </tr>\n",
              "    <tr>\n",
              "      <th>100</th>\n",
              "      <td>72</td>\n",
              "      <td>1</td>\n",
              "      <td>65</td>\n",
              "      <td>120</td>\n",
              "      <td>162</td>\n",
              "      <td>0</td>\n",
              "    </tr>\n",
              "  </tbody>\n",
              "</table>\n",
              "<p>101 rows × 6 columns</p>\n",
              "</div>\n",
              "      <button class=\"colab-df-convert\" onclick=\"convertToInteractive('df-b0eded8e-e151-401d-839e-3ad5bbc86d0d')\"\n",
              "              title=\"Convert this dataframe to an interactive table.\"\n",
              "              style=\"display:none;\">\n",
              "        \n",
              "  <svg xmlns=\"http://www.w3.org/2000/svg\" height=\"24px\"viewBox=\"0 0 24 24\"\n",
              "       width=\"24px\">\n",
              "    <path d=\"M0 0h24v24H0V0z\" fill=\"none\"/>\n",
              "    <path d=\"M18.56 5.44l.94 2.06.94-2.06 2.06-.94-2.06-.94-.94-2.06-.94 2.06-2.06.94zm-11 1L8.5 8.5l.94-2.06 2.06-.94-2.06-.94L8.5 2.5l-.94 2.06-2.06.94zm10 10l.94 2.06.94-2.06 2.06-.94-2.06-.94-.94-2.06-.94 2.06-2.06.94z\"/><path d=\"M17.41 7.96l-1.37-1.37c-.4-.4-.92-.59-1.43-.59-.52 0-1.04.2-1.43.59L10.3 9.45l-7.72 7.72c-.78.78-.78 2.05 0 2.83L4 21.41c.39.39.9.59 1.41.59.51 0 1.02-.2 1.41-.59l7.78-7.78 2.81-2.81c.8-.78.8-2.07 0-2.86zM5.41 20L4 18.59l7.72-7.72 1.47 1.35L5.41 20z\"/>\n",
              "  </svg>\n",
              "      </button>\n",
              "      \n",
              "  <style>\n",
              "    .colab-df-container {\n",
              "      display:flex;\n",
              "      flex-wrap:wrap;\n",
              "      gap: 12px;\n",
              "    }\n",
              "\n",
              "    .colab-df-convert {\n",
              "      background-color: #E8F0FE;\n",
              "      border: none;\n",
              "      border-radius: 50%;\n",
              "      cursor: pointer;\n",
              "      display: none;\n",
              "      fill: #1967D2;\n",
              "      height: 32px;\n",
              "      padding: 0 0 0 0;\n",
              "      width: 32px;\n",
              "    }\n",
              "\n",
              "    .colab-df-convert:hover {\n",
              "      background-color: #E2EBFA;\n",
              "      box-shadow: 0px 1px 2px rgba(60, 64, 67, 0.3), 0px 1px 3px 1px rgba(60, 64, 67, 0.15);\n",
              "      fill: #174EA6;\n",
              "    }\n",
              "\n",
              "    [theme=dark] .colab-df-convert {\n",
              "      background-color: #3B4455;\n",
              "      fill: #D2E3FC;\n",
              "    }\n",
              "\n",
              "    [theme=dark] .colab-df-convert:hover {\n",
              "      background-color: #434B5C;\n",
              "      box-shadow: 0px 1px 3px 1px rgba(0, 0, 0, 0.15);\n",
              "      filter: drop-shadow(0px 1px 2px rgba(0, 0, 0, 0.3));\n",
              "      fill: #FFFFFF;\n",
              "    }\n",
              "  </style>\n",
              "\n",
              "      <script>\n",
              "        const buttonEl =\n",
              "          document.querySelector('#df-b0eded8e-e151-401d-839e-3ad5bbc86d0d button.colab-df-convert');\n",
              "        buttonEl.style.display =\n",
              "          google.colab.kernel.accessAllowed ? 'block' : 'none';\n",
              "\n",
              "        async function convertToInteractive(key) {\n",
              "          const element = document.querySelector('#df-b0eded8e-e151-401d-839e-3ad5bbc86d0d');\n",
              "          const dataTable =\n",
              "            await google.colab.kernel.invokeFunction('convertToInteractive',\n",
              "                                                     [key], {});\n",
              "          if (!dataTable) return;\n",
              "\n",
              "          const docLinkHtml = 'Like what you see? Visit the ' +\n",
              "            '<a target=\"_blank\" href=https://colab.research.google.com/notebooks/data_table.ipynb>data table notebook</a>'\n",
              "            + ' to learn more about interactive tables.';\n",
              "          element.innerHTML = '';\n",
              "          dataTable['output_type'] = 'display_data';\n",
              "          await google.colab.output.renderOutput(dataTable, element);\n",
              "          const docLink = document.createElement('div');\n",
              "          docLink.innerHTML = docLinkHtml;\n",
              "          element.appendChild(docLink);\n",
              "        }\n",
              "      </script>\n",
              "    </div>\n",
              "  </div>\n",
              "  "
            ]
          },
          "metadata": {},
          "execution_count": 4
        }
      ]
    },
    {
      "cell_type": "markdown",
      "source": [
        "Understanding the data"
      ],
      "metadata": {
        "id": "Y7aq9vMwqkBw"
      }
    },
    {
      "cell_type": "code",
      "source": [
        "# number of rows and columns\n",
        "glucose_data.shape"
      ],
      "metadata": {
        "colab": {
          "base_uri": "https://localhost:8080/"
        },
        "id": "WPHQU5oP120N",
        "outputId": "3cedadc1-7551-4114-af3d-ef162d4d5ee6"
      },
      "execution_count": null,
      "outputs": [
        {
          "output_type": "execute_result",
          "data": {
            "text/plain": [
              "(101, 6)"
            ]
          },
          "metadata": {},
          "execution_count": 5
        }
      ]
    },
    {
      "cell_type": "code",
      "source": [
        "# first 10 rows\n",
        "glucose_data.head(10)"
      ],
      "metadata": {
        "colab": {
          "base_uri": "https://localhost:8080/",
          "height": 363
        },
        "id": "rxaJoPoy16Rf",
        "outputId": "2e9a175a-ac22-4348-985d-b940353ca73b"
      },
      "execution_count": null,
      "outputs": [
        {
          "output_type": "execute_result",
          "data": {
            "text/plain": [
              "   Age  Sex  Blood Sugar Fasting  Sugar levels Ref  Blood Sugar Post Lunch  \\\n",
              "0   58    0                  111               120                     152   \n",
              "1   66    1                   92               120                     253   \n",
              "2   30    0                  175               120                     191   \n",
              "3   40    0                  186               120                     201   \n",
              "4   49    1                  142               120                     213   \n",
              "5   29    0                   86               120                     107   \n",
              "6   70    0                  148               120                     246   \n",
              "7   72    0                  122               120                     162   \n",
              "8   31    1                   60               120                     100   \n",
              "9   57    0                  113               120                      74   \n",
              "\n",
              "   Target  \n",
              "0       0  \n",
              "1       0  \n",
              "2       1  \n",
              "3       1  \n",
              "4       1  \n",
              "5       0  \n",
              "6       1  \n",
              "7       1  \n",
              "8       0  \n",
              "9       0  "
            ],
            "text/html": [
              "\n",
              "  <div id=\"df-c3b66462-8aa1-4523-be7f-9b822b6661c8\">\n",
              "    <div class=\"colab-df-container\">\n",
              "      <div>\n",
              "<style scoped>\n",
              "    .dataframe tbody tr th:only-of-type {\n",
              "        vertical-align: middle;\n",
              "    }\n",
              "\n",
              "    .dataframe tbody tr th {\n",
              "        vertical-align: top;\n",
              "    }\n",
              "\n",
              "    .dataframe thead th {\n",
              "        text-align: right;\n",
              "    }\n",
              "</style>\n",
              "<table border=\"1\" class=\"dataframe\">\n",
              "  <thead>\n",
              "    <tr style=\"text-align: right;\">\n",
              "      <th></th>\n",
              "      <th>Age</th>\n",
              "      <th>Sex</th>\n",
              "      <th>Blood Sugar Fasting</th>\n",
              "      <th>Sugar levels Ref</th>\n",
              "      <th>Blood Sugar Post Lunch</th>\n",
              "      <th>Target</th>\n",
              "    </tr>\n",
              "  </thead>\n",
              "  <tbody>\n",
              "    <tr>\n",
              "      <th>0</th>\n",
              "      <td>58</td>\n",
              "      <td>0</td>\n",
              "      <td>111</td>\n",
              "      <td>120</td>\n",
              "      <td>152</td>\n",
              "      <td>0</td>\n",
              "    </tr>\n",
              "    <tr>\n",
              "      <th>1</th>\n",
              "      <td>66</td>\n",
              "      <td>1</td>\n",
              "      <td>92</td>\n",
              "      <td>120</td>\n",
              "      <td>253</td>\n",
              "      <td>0</td>\n",
              "    </tr>\n",
              "    <tr>\n",
              "      <th>2</th>\n",
              "      <td>30</td>\n",
              "      <td>0</td>\n",
              "      <td>175</td>\n",
              "      <td>120</td>\n",
              "      <td>191</td>\n",
              "      <td>1</td>\n",
              "    </tr>\n",
              "    <tr>\n",
              "      <th>3</th>\n",
              "      <td>40</td>\n",
              "      <td>0</td>\n",
              "      <td>186</td>\n",
              "      <td>120</td>\n",
              "      <td>201</td>\n",
              "      <td>1</td>\n",
              "    </tr>\n",
              "    <tr>\n",
              "      <th>4</th>\n",
              "      <td>49</td>\n",
              "      <td>1</td>\n",
              "      <td>142</td>\n",
              "      <td>120</td>\n",
              "      <td>213</td>\n",
              "      <td>1</td>\n",
              "    </tr>\n",
              "    <tr>\n",
              "      <th>5</th>\n",
              "      <td>29</td>\n",
              "      <td>0</td>\n",
              "      <td>86</td>\n",
              "      <td>120</td>\n",
              "      <td>107</td>\n",
              "      <td>0</td>\n",
              "    </tr>\n",
              "    <tr>\n",
              "      <th>6</th>\n",
              "      <td>70</td>\n",
              "      <td>0</td>\n",
              "      <td>148</td>\n",
              "      <td>120</td>\n",
              "      <td>246</td>\n",
              "      <td>1</td>\n",
              "    </tr>\n",
              "    <tr>\n",
              "      <th>7</th>\n",
              "      <td>72</td>\n",
              "      <td>0</td>\n",
              "      <td>122</td>\n",
              "      <td>120</td>\n",
              "      <td>162</td>\n",
              "      <td>1</td>\n",
              "    </tr>\n",
              "    <tr>\n",
              "      <th>8</th>\n",
              "      <td>31</td>\n",
              "      <td>1</td>\n",
              "      <td>60</td>\n",
              "      <td>120</td>\n",
              "      <td>100</td>\n",
              "      <td>0</td>\n",
              "    </tr>\n",
              "    <tr>\n",
              "      <th>9</th>\n",
              "      <td>57</td>\n",
              "      <td>0</td>\n",
              "      <td>113</td>\n",
              "      <td>120</td>\n",
              "      <td>74</td>\n",
              "      <td>0</td>\n",
              "    </tr>\n",
              "  </tbody>\n",
              "</table>\n",
              "</div>\n",
              "      <button class=\"colab-df-convert\" onclick=\"convertToInteractive('df-c3b66462-8aa1-4523-be7f-9b822b6661c8')\"\n",
              "              title=\"Convert this dataframe to an interactive table.\"\n",
              "              style=\"display:none;\">\n",
              "        \n",
              "  <svg xmlns=\"http://www.w3.org/2000/svg\" height=\"24px\"viewBox=\"0 0 24 24\"\n",
              "       width=\"24px\">\n",
              "    <path d=\"M0 0h24v24H0V0z\" fill=\"none\"/>\n",
              "    <path d=\"M18.56 5.44l.94 2.06.94-2.06 2.06-.94-2.06-.94-.94-2.06-.94 2.06-2.06.94zm-11 1L8.5 8.5l.94-2.06 2.06-.94-2.06-.94L8.5 2.5l-.94 2.06-2.06.94zm10 10l.94 2.06.94-2.06 2.06-.94-2.06-.94-.94-2.06-.94 2.06-2.06.94z\"/><path d=\"M17.41 7.96l-1.37-1.37c-.4-.4-.92-.59-1.43-.59-.52 0-1.04.2-1.43.59L10.3 9.45l-7.72 7.72c-.78.78-.78 2.05 0 2.83L4 21.41c.39.39.9.59 1.41.59.51 0 1.02-.2 1.41-.59l7.78-7.78 2.81-2.81c.8-.78.8-2.07 0-2.86zM5.41 20L4 18.59l7.72-7.72 1.47 1.35L5.41 20z\"/>\n",
              "  </svg>\n",
              "      </button>\n",
              "      \n",
              "  <style>\n",
              "    .colab-df-container {\n",
              "      display:flex;\n",
              "      flex-wrap:wrap;\n",
              "      gap: 12px;\n",
              "    }\n",
              "\n",
              "    .colab-df-convert {\n",
              "      background-color: #E8F0FE;\n",
              "      border: none;\n",
              "      border-radius: 50%;\n",
              "      cursor: pointer;\n",
              "      display: none;\n",
              "      fill: #1967D2;\n",
              "      height: 32px;\n",
              "      padding: 0 0 0 0;\n",
              "      width: 32px;\n",
              "    }\n",
              "\n",
              "    .colab-df-convert:hover {\n",
              "      background-color: #E2EBFA;\n",
              "      box-shadow: 0px 1px 2px rgba(60, 64, 67, 0.3), 0px 1px 3px 1px rgba(60, 64, 67, 0.15);\n",
              "      fill: #174EA6;\n",
              "    }\n",
              "\n",
              "    [theme=dark] .colab-df-convert {\n",
              "      background-color: #3B4455;\n",
              "      fill: #D2E3FC;\n",
              "    }\n",
              "\n",
              "    [theme=dark] .colab-df-convert:hover {\n",
              "      background-color: #434B5C;\n",
              "      box-shadow: 0px 1px 3px 1px rgba(0, 0, 0, 0.15);\n",
              "      filter: drop-shadow(0px 1px 2px rgba(0, 0, 0, 0.3));\n",
              "      fill: #FFFFFF;\n",
              "    }\n",
              "  </style>\n",
              "\n",
              "      <script>\n",
              "        const buttonEl =\n",
              "          document.querySelector('#df-c3b66462-8aa1-4523-be7f-9b822b6661c8 button.colab-df-convert');\n",
              "        buttonEl.style.display =\n",
              "          google.colab.kernel.accessAllowed ? 'block' : 'none';\n",
              "\n",
              "        async function convertToInteractive(key) {\n",
              "          const element = document.querySelector('#df-c3b66462-8aa1-4523-be7f-9b822b6661c8');\n",
              "          const dataTable =\n",
              "            await google.colab.kernel.invokeFunction('convertToInteractive',\n",
              "                                                     [key], {});\n",
              "          if (!dataTable) return;\n",
              "\n",
              "          const docLinkHtml = 'Like what you see? Visit the ' +\n",
              "            '<a target=\"_blank\" href=https://colab.research.google.com/notebooks/data_table.ipynb>data table notebook</a>'\n",
              "            + ' to learn more about interactive tables.';\n",
              "          element.innerHTML = '';\n",
              "          dataTable['output_type'] = 'display_data';\n",
              "          await google.colab.output.renderOutput(dataTable, element);\n",
              "          const docLink = document.createElement('div');\n",
              "          docLink.innerHTML = docLinkHtml;\n",
              "          element.appendChild(docLink);\n",
              "        }\n",
              "      </script>\n",
              "    </div>\n",
              "  </div>\n",
              "  "
            ]
          },
          "metadata": {},
          "execution_count": 6
        }
      ]
    },
    {
      "cell_type": "code",
      "source": [
        "import matplotlib.pyplot as plt\n",
        "import seaborn as sns\n",
        "%matplotlib inline\n",
        "h1 = glucose_data['Blood Sugar Fasting']\n",
        "h2 = glucose_data['Blood Sugar Post Lunch']\n",
        "legend = ['BSF', 'BSPL']\n",
        "plt.hist([h1,h2], color = ['red','green'])\n",
        "plt.xlabel('Level')\n",
        "plt.ylabel('No. of Patients')\n",
        "plt.legend(legend)\n",
        "plt.title('BSF vs BSPL')\n",
        "plt.show()"
      ],
      "metadata": {
        "id": "N6YVd0M4JAh4",
        "outputId": "ab3e968c-3861-45d7-b82c-c9ba2e026287",
        "colab": {
          "base_uri": "https://localhost:8080/",
          "height": 295
        }
      },
      "execution_count": null,
      "outputs": [
        {
          "output_type": "display_data",
          "data": {
            "text/plain": [
              "<Figure size 432x288 with 1 Axes>"
            ],
            "image/png": "[encoded data removed]"
          },
          "metadata": {
            "needs_background": "light"
          }
        }
      ]
    },
    {
      "cell_type": "code",
      "source": [
        "# statistical measures of the data\n",
        "glucose_data.describe()"
      ],
      "metadata": {
        "colab": {
          "base_uri": "https://localhost:8080/",
          "height": 300
        },
        "id": "TKZapbyL19qn",
        "outputId": "0f08c623-2fbc-4d1c-b543-7d01110f94c8"
      },
      "execution_count": null,
      "outputs": [
        {
          "output_type": "execute_result",
          "data": {
            "text/plain": [
              "              Age         Sex  Blood Sugar Fasting  Sugar levels Ref  \\\n",
              "count  101.000000  101.000000           101.000000             101.0   \n",
              "mean    50.851485    0.504950           139.712871             120.0   \n",
              "std     14.148771    0.502469            61.054785               0.0   \n",
              "min     19.000000    0.000000            60.000000             120.0   \n",
              "25%     37.000000    0.000000            93.000000             120.0   \n",
              "50%     53.000000    1.000000           119.000000             120.0   \n",
              "75%     65.000000    1.000000           170.000000             120.0   \n",
              "max     77.000000    1.000000           366.000000             120.0   \n",
              "\n",
              "       Blood Sugar Post Lunch      Target  \n",
              "count              101.000000  101.000000  \n",
              "mean               198.178218    0.495050  \n",
              "std                 90.133501    0.502469  \n",
              "min                 65.000000    0.000000  \n",
              "25%                119.000000    0.000000  \n",
              "50%                173.000000    0.000000  \n",
              "75%                256.000000    1.000000  \n",
              "max                484.000000    1.000000  "
            ],
            "text/html": [
              "\n",
              "  <div id=\"df-fdbe02d5-40ba-4697-90b1-06c5aced5e46\">\n",
              "    <div class=\"colab-df-container\">\n",
              "      <div>\n",
              "<style scoped>\n",
              "    .dataframe tbody tr th:only-of-type {\n",
              "        vertical-align: middle;\n",
              "    }\n",
              "\n",
              "    .dataframe tbody tr th {\n",
              "        vertical-align: top;\n",
              "    }\n",
              "\n",
              "    .dataframe thead th {\n",
              "        text-align: right;\n",
              "    }\n",
              "</style>\n",
              "<table border=\"1\" class=\"dataframe\">\n",
              "  <thead>\n",
              "    <tr style=\"text-align: right;\">\n",
              "      <th></th>\n",
              "      <th>Age</th>\n",
              "      <th>Sex</th>\n",
              "      <th>Blood Sugar Fasting</th>\n",
              "      <th>Sugar levels Ref</th>\n",
              "      <th>Blood Sugar Post Lunch</th>\n",
              "      <th>Target</th>\n",
              "    </tr>\n",
              "  </thead>\n",
              "  <tbody>\n",
              "    <tr>\n",
              "      <th>count</th>\n",
              "      <td>101.000000</td>\n",
              "      <td>101.000000</td>\n",
              "      <td>101.000000</td>\n",
              "      <td>101.0</td>\n",
              "      <td>101.000000</td>\n",
              "      <td>101.000000</td>\n",
              "    </tr>\n",
              "    <tr>\n",
              "      <th>mean</th>\n",
              "      <td>50.851485</td>\n",
              "      <td>0.504950</td>\n",
              "      <td>139.712871</td>\n",
              "      <td>120.0</td>\n",
              "      <td>198.178218</td>\n",
              "      <td>0.495050</td>\n",
              "    </tr>\n",
              "    <tr>\n",
              "      <th>std</th>\n",
              "      <td>14.148771</td>\n",
              "      <td>0.502469</td>\n",
              "      <td>61.054785</td>\n",
              "      <td>0.0</td>\n",
              "      <td>90.133501</td>\n",
              "      <td>0.502469</td>\n",
              "    </tr>\n",
              "    <tr>\n",
              "      <th>min</th>\n",
              "      <td>19.000000</td>\n",
              "      <td>0.000000</td>\n",
              "      <td>60.000000</td>\n",
              "      <td>120.0</td>\n",
              "      <td>65.000000</td>\n",
              "      <td>0.000000</td>\n",
              "    </tr>\n",
              "    <tr>\n",
              "      <th>25%</th>\n",
              "      <td>37.000000</td>\n",
              "      <td>0.000000</td>\n",
              "      <td>93.000000</td>\n",
              "      <td>120.0</td>\n",
              "      <td>119.000000</td>\n",
              "      <td>0.000000</td>\n",
              "    </tr>\n",
              "    <tr>\n",
              "      <th>50%</th>\n",
              "      <td>53.000000</td>\n",
              "      <td>1.000000</td>\n",
              "      <td>119.000000</td>\n",
              "      <td>120.0</td>\n",
              "      <td>173.000000</td>\n",
              "      <td>0.000000</td>\n",
              "    </tr>\n",
              "    <tr>\n",
              "      <th>75%</th>\n",
              "      <td>65.000000</td>\n",
              "      <td>1.000000</td>\n",
              "      <td>170.000000</td>\n",
              "      <td>120.0</td>\n",
              "      <td>256.000000</td>\n",
              "      <td>1.000000</td>\n",
              "    </tr>\n",
              "    <tr>\n",
              "      <th>max</th>\n",
              "      <td>77.000000</td>\n",
              "      <td>1.000000</td>\n",
              "      <td>366.000000</td>\n",
              "      <td>120.0</td>\n",
              "      <td>484.000000</td>\n",
              "      <td>1.000000</td>\n",
              "    </tr>\n",
              "  </tbody>\n",
              "</table>\n",
              "</div>\n",
              "      <button class=\"colab-df-convert\" onclick=\"convertToInteractive('df-fdbe02d5-40ba-4697-90b1-06c5aced5e46')\"\n",
              "              title=\"Convert this dataframe to an interactive table.\"\n",
              "              style=\"display:none;\">\n",
              "        \n",
              "  <svg xmlns=\"http://www.w3.org/2000/svg\" height=\"24px\"viewBox=\"0 0 24 24\"\n",
              "       width=\"24px\">\n",
              "    <path d=\"M0 0h24v24H0V0z\" fill=\"none\"/>\n",
              "    <path d=\"M18.56 5.44l.94 2.06.94-2.06 2.06-.94-2.06-.94-.94-2.06-.94 2.06-2.06.94zm-11 1L8.5 8.5l.94-2.06 2.06-.94-2.06-.94L8.5 2.5l-.94 2.06-2.06.94zm10 10l.94 2.06.94-2.06 2.06-.94-2.06-.94-.94-2.06-.94 2.06-2.06.94z\"/><path d=\"M17.41 7.96l-1.37-1.37c-.4-.4-.92-.59-1.43-.59-.52 0-1.04.2-1.43.59L10.3 9.45l-7.72 7.72c-.78.78-.78 2.05 0 2.83L4 21.41c.39.39.9.59 1.41.59.51 0 1.02-.2 1.41-.59l7.78-7.78 2.81-2.81c.8-.78.8-2.07 0-2.86zM5.41 20L4 18.59l7.72-7.72 1.47 1.35L5.41 20z\"/>\n",
              "  </svg>\n",
              "      </button>\n",
              "      \n",
              "  <style>\n",
              "    .colab-df-container {\n",
              "      display:flex;\n",
              "      flex-wrap:wrap;\n",
              "      gap: 12px;\n",
              "    }\n",
              "\n",
              "    .colab-df-convert {\n",
              "      background-color: #E8F0FE;\n",
              "      border: none;\n",
              "      border-radius: 50%;\n",
              "      cursor: pointer;\n",
              "      display: none;\n",
              "      fill: #1967D2;\n",
              "      height: 32px;\n",
              "      padding: 0 0 0 0;\n",
              "      width: 32px;\n",
              "    }\n",
              "\n",
              "    .colab-df-convert:hover {\n",
              "      background-color: #E2EBFA;\n",
              "      box-shadow: 0px 1px 2px rgba(60, 64, 67, 0.3), 0px 1px 3px 1px rgba(60, 64, 67, 0.15);\n",
              "      fill: #174EA6;\n",
              "    }\n",
              "\n",
              "    [theme=dark] .colab-df-convert {\n",
              "      background-color: #3B4455;\n",
              "      fill: #D2E3FC;\n",
              "    }\n",
              "\n",
              "    [theme=dark] .colab-df-convert:hover {\n",
              "      background-color: #434B5C;\n",
              "      box-shadow: 0px 1px 3px 1px rgba(0, 0, 0, 0.15);\n",
              "      filter: drop-shadow(0px 1px 2px rgba(0, 0, 0, 0.3));\n",
              "      fill: #FFFFFF;\n",
              "    }\n",
              "  </style>\n",
              "\n",
              "      <script>\n",
              "        const buttonEl =\n",
              "          document.querySelector('#df-fdbe02d5-40ba-4697-90b1-06c5aced5e46 button.colab-df-convert');\n",
              "        buttonEl.style.display =\n",
              "          google.colab.kernel.accessAllowed ? 'block' : 'none';\n",
              "\n",
              "        async function convertToInteractive(key) {\n",
              "          const element = document.querySelector('#df-fdbe02d5-40ba-4697-90b1-06c5aced5e46');\n",
              "          const dataTable =\n",
              "            await google.colab.kernel.invokeFunction('convertToInteractive',\n",
              "                                                     [key], {});\n",
              "          if (!dataTable) return;\n",
              "\n",
              "          const docLinkHtml = 'Like what you see? Visit the ' +\n",
              "            '<a target=\"_blank\" href=https://colab.research.google.com/notebooks/data_table.ipynb>data table notebook</a>'\n",
              "            + ' to learn more about interactive tables.';\n",
              "          element.innerHTML = '';\n",
              "          dataTable['output_type'] = 'display_data';\n",
              "          await google.colab.output.renderOutput(dataTable, element);\n",
              "          const docLink = document.createElement('div');\n",
              "          docLink.innerHTML = docLinkHtml;\n",
              "          element.appendChild(docLink);\n",
              "        }\n",
              "      </script>\n",
              "    </div>\n",
              "  </div>\n",
              "  "
            ]
          },
          "metadata": {},
          "execution_count": 8
        }
      ]
    },
    {
      "cell_type": "code",
      "source": [
        "f, ax = plt.subplots(1,2,figsize = (10,5))\n",
        "glucose_data['Target'].value_counts().plot.pie(explode = [0,0.1], autopct = \"%1.1f%%\", ax = ax[0], shadow = True)\n",
        "ax[0].set_title('Target')\n",
        "ax[0].set_ylabel('')\n",
        "sns.countplot('Target', data = glucose_data, ax = ax[1])\n",
        "ax[1].set_title('Target')\n",
        "N, P = glucose_data['Target'].value_counts()\n",
        "print('Negative(0): ', N)\n",
        "print('Positive(1): ', P)\n",
        "plt.grid()\n",
        "plt.show()"
      ],
      "metadata": {
        "id": "fXB9HWs0JsQz",
        "outputId": "50ada612-6b90-4869-fdea-c4d5c2163149",
        "colab": {
          "base_uri": "https://localhost:8080/",
          "height": 444
        }
      },
      "execution_count": null,
      "outputs": [
        {
          "output_type": "stream",
          "name": "stdout",
          "text": [
            "Negative(0):  51\n",
            "Positive(1):  50\n"
          ]
        },
        {
          "output_type": "stream",
          "name": "stderr",
          "text": [
            "/usr/local/lib/python3.7/dist-packages/seaborn/_decorators.py:43: FutureWarning: Pass the following variable as a keyword arg: x. From version 0.12, the only valid positional argument will be `data`, and passing other arguments without an explicit keyword will result in an error or misinterpretation.\n",
            "  FutureWarning\n"
          ]
        },
        {
          "output_type": "display_data",
          "data": {
            "text/plain": [
              "<Figure size 720x360 with 2 Axes>"
            ],
            "image/png": "[encoded data removed]"
          },
          "metadata": {
            "needs_background": "light"
          }
        }
      ]
    },
    {
      "cell_type": "code",
      "source": [
        "glucose_data.hist(bins = 10, figsize = (10,10))\n",
        "plt.show()"
      ],
      "metadata": {
        "id": "bH2vHak9J1Hi",
        "outputId": "dc189e23-1b69-4fbe-f3ec-390bc4e1dd2a",
        "colab": {
          "base_uri": "https://localhost:8080/",
          "height": 607
        }
      },
      "execution_count": null,
      "outputs": [
        {
          "output_type": "display_data",
          "data": {
            "text/plain": [
              "<Figure size 720x720 with 6 Axes>"
            ],
            "image/png": "[encoded data removed]"
          },
          "metadata": {
            "needs_background": "light"
          }
        }
      ]
    },
    {
      "cell_type": "code",
      "source": [
        "correlation = glucose_data.corr()"
      ],
      "metadata": {
        "id": "VM9uM7OAJ-4D"
      },
      "execution_count": null,
      "outputs": []
    },
    {
      "cell_type": "code",
      "source": [
        "correlation"
      ],
      "metadata": {
        "id": "iqeD99UYKFkY",
        "outputId": "57d10c48-3364-4ebf-9ff6-b8a95f649149",
        "colab": {
          "base_uri": "https://localhost:8080/",
          "height": 237
        }
      },
      "execution_count": null,
      "outputs": [
        {
          "output_type": "execute_result",
          "data": {
            "text/plain": [
              "                             Age       Sex  Blood Sugar Fasting  \\\n",
              "Age                     1.000000  0.057072            -0.068603   \n",
              "Sex                     0.057072  1.000000            -0.089105   \n",
              "Blood Sugar Fasting    -0.068603 -0.089105             1.000000   \n",
              "Sugar levels Ref             NaN       NaN                  NaN   \n",
              "Blood Sugar Post Lunch  0.050363 -0.037556             0.807744   \n",
              "Target                  0.034357 -0.049412             0.757333   \n",
              "\n",
              "                        Sugar levels Ref  Blood Sugar Post Lunch    Target  \n",
              "Age                                  NaN                0.050363  0.034357  \n",
              "Sex                                  NaN               -0.037556 -0.049412  \n",
              "Blood Sugar Fasting                  NaN                0.807744  0.757333  \n",
              "Sugar levels Ref                     NaN                     NaN       NaN  \n",
              "Blood Sugar Post Lunch               NaN                1.000000  0.694003  \n",
              "Target                               NaN                0.694003  1.000000  "
            ],
            "text/html": [
              "\n",
              "  <div id=\"df-3bc56eb2-8ea9-4d65-bbda-8aaa18653ce4\">\n",
              "    <div class=\"colab-df-container\">\n",
              "      <div>\n",
              "<style scoped>\n",
              "    .dataframe tbody tr th:only-of-type {\n",
              "        vertical-align: middle;\n",
              "    }\n",
              "\n",
              "    .dataframe tbody tr th {\n",
              "        vertical-align: top;\n",
              "    }\n",
              "\n",
              "    .dataframe thead th {\n",
              "        text-align: right;\n",
              "    }\n",
              "</style>\n",
              "<table border=\"1\" class=\"dataframe\">\n",
              "  <thead>\n",
              "    <tr style=\"text-align: right;\">\n",
              "      <th></th>\n",
              "      <th>Age</th>\n",
              "      <th>Sex</th>\n",
              "      <th>Blood Sugar Fasting</th>\n",
              "      <th>Sugar levels Ref</th>\n",
              "      <th>Blood Sugar Post Lunch</th>\n",
              "      <th>Target</th>\n",
              "    </tr>\n",
              "  </thead>\n",
              "  <tbody>\n",
              "    <tr>\n",
              "      <th>Age</th>\n",
              "      <td>1.000000</td>\n",
              "      <td>0.057072</td>\n",
              "      <td>-0.068603</td>\n",
              "      <td>NaN</td>\n",
              "      <td>0.050363</td>\n",
              "      <td>0.034357</td>\n",
              "    </tr>\n",
              "    <tr>\n",
              "      <th>Sex</th>\n",
              "      <td>0.057072</td>\n",
              "      <td>1.000000</td>\n",
              "      <td>-0.089105</td>\n",
              "      <td>NaN</td>\n",
              "      <td>-0.037556</td>\n",
              "      <td>-0.049412</td>\n",
              "    </tr>\n",
              "    <tr>\n",
              "      <th>Blood Sugar Fasting</th>\n",
              "      <td>-0.068603</td>\n",
              "      <td>-0.089105</td>\n",
              "      <td>1.000000</td>\n",
              "      <td>NaN</td>\n",
              "      <td>0.807744</td>\n",
              "      <td>0.757333</td>\n",
              "    </tr>\n",
              "    <tr>\n",
              "      <th>Sugar levels Ref</th>\n",
              "      <td>NaN</td>\n",
              "      <td>NaN</td>\n",
              "      <td>NaN</td>\n",
              "      <td>NaN</td>\n",
              "      <td>NaN</td>\n",
              "      <td>NaN</td>\n",
              "    </tr>\n",
              "    <tr>\n",
              "      <th>Blood Sugar Post Lunch</th>\n",
              "      <td>0.050363</td>\n",
              "      <td>-0.037556</td>\n",
              "      <td>0.807744</td>\n",
              "      <td>NaN</td>\n",
              "      <td>1.000000</td>\n",
              "      <td>0.694003</td>\n",
              "    </tr>\n",
              "    <tr>\n",
              "      <th>Target</th>\n",
              "      <td>0.034357</td>\n",
              "      <td>-0.049412</td>\n",
              "      <td>0.757333</td>\n",
              "      <td>NaN</td>\n",
              "      <td>0.694003</td>\n",
              "      <td>1.000000</td>\n",
              "    </tr>\n",
              "  </tbody>\n",
              "</table>\n",
              "</div>\n",
              "      <button class=\"colab-df-convert\" onclick=\"convertToInteractive('df-3bc56eb2-8ea9-4d65-bbda-8aaa18653ce4')\"\n",
              "              title=\"Convert this dataframe to an interactive table.\"\n",
              "              style=\"display:none;\">\n",
              "        \n",
              "  <svg xmlns=\"http://www.w3.org/2000/svg\" height=\"24px\"viewBox=\"0 0 24 24\"\n",
              "       width=\"24px\">\n",
              "    <path d=\"M0 0h24v24H0V0z\" fill=\"none\"/>\n",
              "    <path d=\"M18.56 5.44l.94 2.06.94-2.06 2.06-.94-2.06-.94-.94-2.06-.94 2.06-2.06.94zm-11 1L8.5 8.5l.94-2.06 2.06-.94-2.06-.94L8.5 2.5l-.94 2.06-2.06.94zm10 10l.94 2.06.94-2.06 2.06-.94-2.06-.94-.94-2.06-.94 2.06-2.06.94z\"/><path d=\"M17.41 7.96l-1.37-1.37c-.4-.4-.92-.59-1.43-.59-.52 0-1.04.2-1.43.59L10.3 9.45l-7.72 7.72c-.78.78-.78 2.05 0 2.83L4 21.41c.39.39.9.59 1.41.59.51 0 1.02-.2 1.41-.59l7.78-7.78 2.81-2.81c.8-.78.8-2.07 0-2.86zM5.41 20L4 18.59l7.72-7.72 1.47 1.35L5.41 20z\"/>\n",
              "  </svg>\n",
              "      </button>\n",
              "      \n",
              "  <style>\n",
              "    .colab-df-container {\n",
              "      display:flex;\n",
              "      flex-wrap:wrap;\n",
              "      gap: 12px;\n",
              "    }\n",
              "\n",
              "    .colab-df-convert {\n",
              "      background-color: #E8F0FE;\n",
              "      border: none;\n",
              "      border-radius: 50%;\n",
              "      cursor: pointer;\n",
              "      display: none;\n",
              "      fill: #1967D2;\n",
              "      height: 32px;\n",
              "      padding: 0 0 0 0;\n",
              "      width: 32px;\n",
              "    }\n",
              "\n",
              "    .colab-df-convert:hover {\n",
              "      background-color: #E2EBFA;\n",
              "      box-shadow: 0px 1px 2px rgba(60, 64, 67, 0.3), 0px 1px 3px 1px rgba(60, 64, 67, 0.15);\n",
              "      fill: #174EA6;\n",
              "    }\n",
              "\n",
              "    [theme=dark] .colab-df-convert {\n",
              "      background-color: #3B4455;\n",
              "      fill: #D2E3FC;\n",
              "    }\n",
              "\n",
              "    [theme=dark] .colab-df-convert:hover {\n",
              "      background-color: #434B5C;\n",
              "      box-shadow: 0px 1px 3px 1px rgba(0, 0, 0, 0.15);\n",
              "      filter: drop-shadow(0px 1px 2px rgba(0, 0, 0, 0.3));\n",
              "      fill: #FFFFFF;\n",
              "    }\n",
              "  </style>\n",
              "\n",
              "      <script>\n",
              "        const buttonEl =\n",
              "          document.querySelector('#df-3bc56eb2-8ea9-4d65-bbda-8aaa18653ce4 button.colab-df-convert');\n",
              "        buttonEl.style.display =\n",
              "          google.colab.kernel.accessAllowed ? 'block' : 'none';\n",
              "\n",
              "        async function convertToInteractive(key) {\n",
              "          const element = document.querySelector('#df-3bc56eb2-8ea9-4d65-bbda-8aaa18653ce4');\n",
              "          const dataTable =\n",
              "            await google.colab.kernel.invokeFunction('convertToInteractive',\n",
              "                                                     [key], {});\n",
              "          if (!dataTable) return;\n",
              "\n",
              "          const docLinkHtml = 'Like what you see? Visit the ' +\n",
              "            '<a target=\"_blank\" href=https://colab.research.google.com/notebooks/data_table.ipynb>data table notebook</a>'\n",
              "            + ' to learn more about interactive tables.';\n",
              "          element.innerHTML = '';\n",
              "          dataTable['output_type'] = 'display_data';\n",
              "          await google.colab.output.renderOutput(dataTable, element);\n",
              "          const docLink = document.createElement('div');\n",
              "          docLink.innerHTML = docLinkHtml;\n",
              "          element.appendChild(docLink);\n",
              "        }\n",
              "      </script>\n",
              "    </div>\n",
              "  </div>\n",
              "  "
            ]
          },
          "metadata": {},
          "execution_count": 12
        }
      ]
    },
    {
      "cell_type": "code",
      "source": [
        "sns.heatmap(correlation, annot = True)"
      ],
      "metadata": {
        "id": "xjPQjOtvKJ-a",
        "outputId": "13d44366-8885-41ba-a8d5-55ef21364ba3",
        "colab": {
          "base_uri": "https://localhost:8080/",
          "height": 395
        }
      },
      "execution_count": null,
      "outputs": [
        {
          "output_type": "execute_result",
          "data": {
            "text/plain": [
              "<matplotlib.axes._subplots.AxesSubplot at 0x7f0a9eaa61d0>"
            ]
          },
          "metadata": {},
          "execution_count": 13
        },
        {
          "output_type": "display_data",
          "data": {
            "text/plain": [
              "<Figure size 432x288 with 2 Axes>"
            ],
            "image/png": "[encoded data removed]"
          },
          "metadata": {
            "needs_background": "light"
          }
        }
      ]
    },
    {
      "cell_type": "markdown",
      "source": [
        "Splitting the Target and other columns"
      ],
      "metadata": {
        "id": "7EYrozarwl1d"
      }
    },
    {
      "cell_type": "code",
      "source": [
        "x = glucose_data.drop(columns = 'Target', axis = 1)\n",
        "y = glucose_data['Target']"
      ],
      "metadata": {
        "id": "dvFhyGBFv-WH"
      },
      "execution_count": null,
      "outputs": []
    },
    {
      "cell_type": "code",
      "source": [
        "print(x)"
      ],
      "metadata": {
        "colab": {
          "base_uri": "https://localhost:8080/"
        },
        "id": "QtkqoHw8wFSs",
        "outputId": "4a02d5db-27ef-4bc7-8c83-e44beeebf26e"
      },
      "execution_count": null,
      "outputs": [
        {
          "output_type": "stream",
          "name": "stdout",
          "text": [
            "     Age  Sex  Blood Sugar Fasting  Sugar levels Ref  Blood Sugar Post Lunch\n",
            "0     58    0                  111               120                     152\n",
            "1     66    1                   92               120                     253\n",
            "2     30    0                  175               120                     191\n",
            "3     40    0                  186               120                     201\n",
            "4     49    1                  142               120                     213\n",
            "..   ...  ...                  ...               ...                     ...\n",
            "96    65    1                  134               120                     173\n",
            "97    68    1                  102               120                     136\n",
            "98    70    0                  168               120                     390\n",
            "99    65    0                  218               120                     270\n",
            "100   72    1                   65               120                     162\n",
            "\n",
            "[101 rows x 5 columns]\n"
          ]
        }
      ]
    },
    {
      "cell_type": "code",
      "source": [
        "print(y)"
      ],
      "metadata": {
        "colab": {
          "base_uri": "https://localhost:8080/"
        },
        "id": "T8spgzbTwJQH",
        "outputId": "2a3cd8c4-9205-4326-c183-707f195e6466"
      },
      "execution_count": null,
      "outputs": [
        {
          "output_type": "stream",
          "name": "stdout",
          "text": [
            "0      0\n",
            "1      0\n",
            "2      1\n",
            "3      1\n",
            "4      1\n",
            "      ..\n",
            "96     1\n",
            "97     0\n",
            "98     1\n",
            "99     1\n",
            "100    0\n",
            "Name: Target, Length: 101, dtype: int64\n"
          ]
        }
      ]
    },
    {
      "cell_type": "markdown",
      "source": [
        "Splitting the data into training data and test data"
      ],
      "metadata": {
        "id": "rNcJMuFnwfSX"
      }
    },
    {
      "cell_type": "code",
      "source": [
        "from sklearn.model_selection import train_test_split\n",
        "x_train, x_test, y_train, y_test = train_test_split(x,y,test_size=0.2,random_state=0)"
      ],
      "metadata": {
        "id": "2aW2nzKL2qwy"
      },
      "execution_count": null,
      "outputs": []
    },
    {
      "cell_type": "code",
      "source": [
        "print(x.shape, x_train.shape, x_test.shape)"
      ],
      "metadata": {
        "colab": {
          "base_uri": "https://localhost:8080/"
        },
        "id": "HQrgshVXwMfm",
        "outputId": "1dbbab32-e3ad-405e-d965-c8a2664392b5"
      },
      "execution_count": null,
      "outputs": [
        {
          "output_type": "stream",
          "name": "stdout",
          "text": [
            "(101, 5) (80, 5) (21, 5)\n"
          ]
        }
      ]
    },
    {
      "cell_type": "code",
      "source": [
        "print(x_train)"
      ],
      "metadata": {
        "colab": {
          "base_uri": "https://localhost:8080/"
        },
        "id": "K4w8NuDFxehC",
        "outputId": "3a756847-0481-4d2b-92b3-7fe084c1048a"
      },
      "execution_count": null,
      "outputs": [
        {
          "output_type": "stream",
          "name": "stdout",
          "text": [
            "    Age  Sex  Blood Sugar Fasting  Sugar levels Ref  Blood Sugar Post Lunch\n",
            "62   36    1                  123               120                     250\n",
            "3    40    0                  186               120                     201\n",
            "71   57    1                  119               120                     166\n",
            "45   53    1                   82               120                     118\n",
            "48   35    0                  153               120                     348\n",
            "..  ...  ...                  ...               ...                     ...\n",
            "97   68    1                  102               120                     136\n",
            "67   46    1                  131               120                     237\n",
            "64   48    0                  152               120                     130\n",
            "47   36    1                  256               120                     268\n",
            "44   30    0                  102               120                      94\n",
            "\n",
            "[80 rows x 5 columns]\n"
          ]
        }
      ]
    },
    {
      "cell_type": "code",
      "source": [
        "print(x_test)"
      ],
      "metadata": {
        "colab": {
          "base_uri": "https://localhost:8080/"
        },
        "id": "Ga-Akx07xqMI",
        "outputId": "8d31e663-e67d-4429-e122-59957af19e05"
      },
      "execution_count": null,
      "outputs": [
        {
          "output_type": "stream",
          "name": "stdout",
          "text": [
            "    Age  Sex  Blood Sugar Fasting  Sugar levels Ref  Blood Sugar Post Lunch\n",
            "26   19    0                  112               120                     168\n",
            "86   39    1                   75               120                     108\n",
            "2    30    0                  175               120                     191\n",
            "55   53    1                  124               120                     217\n",
            "75   31    1                  199               120                     356\n",
            "94   33    1                  108               120                     138\n",
            "16   65    0                  151               120                     263\n",
            "73   57    0                  108               120                     162\n",
            "54   63    0                  180               120                     242\n",
            "96   65    1                  134               120                     173\n",
            "53   55    0                   92               120                     165\n",
            "93   30    1                  124               120                     272\n",
            "78   68    1                  151               120                     268\n",
            "13   66    1                  163               120                     209\n",
            "7    72    0                  122               120                     162\n",
            "30   40    1                   91               120                     111\n",
            "22   48    0                  199               120                     271\n",
            "24   45    0                  154               120                     103\n",
            "33   54    0                   99               120                     177\n",
            "8    31    1                   60               120                     100\n",
            "43   52    0                  112               120                     155\n"
          ]
        }
      ]
    },
    {
      "cell_type": "code",
      "source": [
        "#Performing Feature Scaling\n",
        "from sklearn.preprocessing import StandardScaler\n",
        "sc = StandardScaler()\n",
        "x_train = sc.fit_transform(x_train)\n",
        "x_test = sc.transform(x_test)"
      ],
      "metadata": {
        "id": "vQ52Q2D02tWj"
      },
      "execution_count": null,
      "outputs": []
    },
    {
      "cell_type": "code",
      "source": [
        "print(x_train)"
      ],
      "metadata": {
        "colab": {
          "base_uri": "https://localhost:8080/"
        },
        "id": "EeA5K1i0xV3k",
        "outputId": "5494e890-7a42-4dd3-9566-e0feb5dbfa34"
      },
      "execution_count": null,
      "outputs": [
        {
          "output_type": "stream",
          "name": "stdout",
          "text": [
            "[[-1.12805611  0.97530483 -0.29484257  0.          0.52663889]\n",
            " [-0.83694486 -1.02532046  0.67135154  0.          0.00988684]\n",
            " [ 0.40027798  0.97530483 -0.35618822  0.         -0.35922177]\n",
            " [ 0.10916672  0.97530483 -0.92363555  0.         -0.86542787]\n",
            " [-1.20083393 -1.02532046  0.16524986  0.          1.56014301]\n",
            " [ 1.34638955 -1.02532046  0.08856779  0.          0.48445505]\n",
            " [ 1.49194518  0.97530483 -1.1843546   0.         -0.40140561]\n",
            " [-1.0552783   0.97530483  0.70202437  0.          0.98011519]\n",
            " [-0.03638891  0.97530483  2.7724403   0.          1.54959705]\n",
            " [-1.20083393 -1.02532046  0.62534229  0.          1.27540208]\n",
            " [-1.56472299 -1.02532046  2.78777671  0.          1.67614857]\n",
            " [-0.83694486  0.97530483 -0.77027141  0.         -1.08689304]\n",
            " [ 0.40027798  0.97530483  0.13457704  0.         -0.25376217]\n",
            " [ 0.25472235  0.97530483  0.19592269  0.          0.24189796]\n",
            " [ 1.0552783   0.97530483  0.21125911  0.          0.03097876]\n",
            " [ 1.85583425  0.97530483 -1.24570025  0.         -0.62287078]\n",
            " [ 0.83694486 -1.02532046  0.68668795  0.          0.06261664]\n",
            " [ 0.90972267  0.97530483 -0.35618822  0.         -0.35922177]\n",
            " [-0.83694486 -1.02532046  0.27260476  0.          0.05207068]\n",
            " [ 1.0552783   0.97530483 -0.77027141  0.          0.55827677]\n",
            " [-1.27361174  0.97530483 -0.92363555  0.         -0.73887635]\n",
            " [-1.34638955  0.97530483 -0.67825292  0.         -0.88651979]\n",
            " [-0.61861142 -1.02532046 -0.37152464  0.         -0.39085965]\n",
            " [-0.18194453  0.97530483 -0.00345069  0.          0.13643836]\n",
            " [-0.83694486 -1.02532046 -0.41753388  0.          0.10480048]\n",
            " [ 1.34638955 -1.02532046  1.99028317  0.          2.82565824]\n",
            " [-1.27361174  0.97530483 -0.75493499  0.         -1.19235264]\n",
            " [ 0.40027798 -1.02532046 -0.75493499  0.         -0.51741118]\n",
            " [-1.63750081 -1.02532046 -0.8622899   0.         -0.98143343]\n",
            " [ 0.98250049  0.97530483 -0.92363555  0.         -0.82324403]\n",
            " [-1.12805611  0.97530483  2.020956    0.          0.49500101]\n",
            " [ 0.47305579 -1.02532046 -0.47887954  0.         -0.50686522]\n",
            " [ 1.0552783   0.97530483 -0.52488878  0.          0.71646618]\n",
            " [ 0.25472235 -1.02532046 -0.55556161  0.         -0.91815767]\n",
            " [-1.12805611  0.97530483  1.43817225  0.          1.51795916]\n",
            " [ 0.25472235 -1.02532046  0.42596891  0.          0.91683943]\n",
            " [-0.98250049 -1.02532046  1.13144397  0.          1.20158035]\n",
            " [ 0.18194453 -1.02532046  0.54866022  0.         -1.03416323]\n",
            " [-0.47305579  0.97530483  0.91673417  0.          0.46336313]\n",
            " [-0.10916672 -1.02532046 -0.57089802  0.         -0.31703793]\n",
            " [ 0.18194453  0.97530483  0.79404285  0.          0.82192578]\n",
            " [-1.0552783   0.97530483 -1.12300894  0.         -1.31890416]\n",
            " [-1.12805611  0.97530483 -0.70892575  0.         -0.51741118]\n",
            " [ 1.0552783   0.97530483 -0.46354312  0.         -0.36976773]\n",
            " [-0.61861142  0.97530483 -0.83161707  0.         -1.13962284]\n",
            " [ 1.20083393  0.97530483 -1.00031762  0.         -1.42436377]\n",
            " [-1.20083393 -1.02532046 -1.03099045  0.         -1.08689304]\n",
            " [-1.41916737 -1.02532046 -0.83161707  0.         -1.11853092]\n",
            " [-0.76416704  0.97530483  3.43190611  0.          2.99439361]\n",
            " [-0.61861142 -1.02532046 -0.06479635  0.         -0.08502681]\n",
            " [-1.34638955  0.97530483  0.41063249  0.          0.67428234]\n",
            " [ 1.63750081  0.97530483 -1.04632687  0.         -0.41195158]\n",
            " [ 1.34638955 -1.02532046  0.39529608  0.          2.00307334]\n",
            " [ 0.98250049 -1.02532046  1.1621168   0.          0.7375581 ]\n",
            " [ 1.71027862  0.97530483 -0.84695348  0.         -1.06580112]\n",
            " [ 0.61861142 -1.02532046 -0.38686105  0.         -1.2028986 ]\n",
            " [-1.20083393 -1.02532046 -0.98498121  0.         -0.85488191]\n",
            " [ 0.61861142  0.97530483 -0.73959858  0.         -1.00252535]\n",
            " [ 0.98250049 -1.02532046 -0.69358934  0.          0.29462777]\n",
            " [ 0.40027798 -1.02532046  0.61000588  0.          0.58991466]\n",
            " [ 1.78305644 -1.02532046  0.34928684  0.         -0.28540005]\n",
            " [ 0.18194453 -1.02532046 -0.66291651  0.         -0.39085965]\n",
            " [ 1.56472299  0.97530483 -1.06166328  0.         -0.38031369]\n",
            " [-1.0552783  -1.02532046 -0.75493499  0.         -0.25376217]\n",
            " [-0.61861142 -1.02532046 -0.61690727  0.         -0.86542787]\n",
            " [ 0.25472235 -1.02532046 -0.95430838  0.         -0.90761171]\n",
            " [ 0.40027798 -1.02532046  0.97807982  0.          1.37031572]\n",
            " [ 0.98250049  0.97530483 -0.21816049  0.         -0.08502681]\n",
            " [-0.61861142 -1.02532046  0.97807982  0.          1.00120711]\n",
            " [-0.61861142  0.97530483 -0.78560782  0.         -0.88651979]\n",
            " [ 1.20083393 -1.02532046  1.71422771  0.          2.12962486]\n",
            " [-0.10916672 -1.02532046 -0.47887954  0.         -1.097439  ]\n",
            " [ 0.98250049  0.97530483  0.02722214  0.          0.51609293]\n",
            " [ 1.0552783   0.97530483  1.33081735  0.          1.2437642 ]\n",
            " [ 0.40027798 -1.02532046 -0.44820671  0.         -1.32945012]\n",
            " [ 1.20083393  0.97530483 -0.61690727  0.         -0.67560058]\n",
            " [-0.40027798  0.97530483 -0.17215125  0.          0.38954141]\n",
            " [-0.25472235 -1.02532046  0.14991345  0.         -0.73887635]\n",
            " [-1.12805611  0.97530483  1.74490054  0.          0.71646618]\n",
            " [-1.56472299 -1.02532046 -0.61690727  0.         -1.11853092]]\n"
          ]
        }
      ]
    },
    {
      "cell_type": "code",
      "source": [
        "print(x_test)"
      ],
      "metadata": {
        "id": "nazt7wCQxt4R",
        "outputId": "bc7dc394-d293-411b-955f-48db6a3fc3d7",
        "colab": {
          "base_uri": "https://localhost:8080/"
        }
      },
      "execution_count": null,
      "outputs": [
        {
          "output_type": "stream",
          "name": "stdout",
          "text": [
            "[[-2.36527895 -1.02532046 -0.46354312  0.         -0.33812985]\n",
            " [-0.90972267  0.97530483 -1.03099045  0.         -0.97088747]\n",
            " [-1.56472299 -1.02532046  0.50265098  0.         -0.09557277]\n",
            " [ 0.10916672  0.97530483 -0.27950615  0.          0.1786222 ]\n",
            " [-1.49194518  0.97530483  0.87072492  0.          1.64451069]\n",
            " [-1.34638955  0.97530483 -0.52488878  0.         -0.65450866]\n",
            " [ 0.98250049 -1.02532046  0.13457704  0.          0.66373638]\n",
            " [ 0.40027798 -1.02532046 -0.52488878  0.         -0.40140561]\n",
            " [ 0.83694486 -1.02532046  0.57933305  0.          0.44227121]\n",
            " [ 0.98250049  0.97530483 -0.12614201  0.         -0.28540005]\n",
            " [ 0.25472235 -1.02532046 -0.77027141  0.         -0.36976773]\n",
            " [-1.56472299  0.97530483 -0.27950615  0.          0.75865002]\n",
            " [ 1.20083393  0.97530483  0.13457704  0.          0.71646618]\n",
            " [ 1.0552783   0.97530483  0.31861401  0.          0.09425452]\n",
            " [ 1.49194518 -1.02532046 -0.31017898  0.         -0.40140561]\n",
            " [-0.83694486  0.97530483 -0.78560782  0.         -0.93924959]\n",
            " [-0.25472235 -1.02532046  0.87072492  0.          0.74810406]\n",
            " [-0.47305579 -1.02532046  0.18058628  0.         -1.02361727]\n",
            " [ 0.18194453 -1.02532046 -0.66291651  0.         -0.24321621]\n",
            " [-1.49194518  0.97530483 -1.26103667  0.         -1.05525516]\n",
            " [ 0.03638891 -1.02532046 -0.46354312  0.         -0.47522734]]\n"
          ]
        }
      ]
    },
    {
      "cell_type": "code",
      "source": [
        "#Initialising ANN\n",
        "ann = tf.keras.models.Sequential()"
      ],
      "metadata": {
        "id": "7PvYdsZc2vzM"
      },
      "execution_count": null,
      "outputs": []
    },
    {
      "cell_type": "code",
      "source": [
        "#Adding First Hidden Layer\n",
        "ann.add(tf.keras.layers.Dense(units=6,activation=\"relu\"))"
      ],
      "metadata": {
        "id": "AlDjHO7p2yQu"
      },
      "execution_count": null,
      "outputs": []
    },
    {
      "cell_type": "code",
      "source": [
        "#Adding Second Hidden Layer\n",
        "ann.add(tf.keras.layers.Dense(units=6,activation=\"relu\"))"
      ],
      "metadata": {
        "id": "7ry9NqNK22gA"
      },
      "execution_count": null,
      "outputs": []
    },
    {
      "cell_type": "code",
      "source": [
        "#Adding Output Layer\n",
        "ann.add(tf.keras.layers.Dense(units=1,activation=\"sigmoid\"))"
      ],
      "metadata": {
        "id": "FnS8NANA25YQ"
      },
      "execution_count": null,
      "outputs": []
    },
    {
      "cell_type": "code",
      "source": [
        "#Compiling ANN\n",
        "ann.compile(optimizer=\"adam\",loss=\"binary_crossentropy\",metrics=['accuracy'])"
      ],
      "metadata": {
        "id": "2Z4DGJit273p"
      },
      "execution_count": null,
      "outputs": []
    },
    {
      "cell_type": "code",
      "source": [
        "#Fitting ANN\n",
        "ann.fit(x_train, y_train, batch_size=32, epochs = 100)"
      ],
      "metadata": {
        "colab": {
          "base_uri": "https://localhost:8080/"
        },
        "id": "itsmfHmQ2-ls",
        "outputId": "f197ea9f-78e3-49bb-aaba-34ca2ff45c5e"
      },
      "execution_count": null,
      "outputs": [
        {
          "output_type": "stream",
          "name": "stdout",
          "text": [
            "Epoch 1/100\n",
            "3/3 [==============================] - 1s 5ms/step - loss: 0.7770 - accuracy: 0.4625\n",
            "Epoch 2/100\n",
            "3/3 [==============================] - 0s 5ms/step - loss: 0.7690 - accuracy: 0.5125\n",
            "Epoch 3/100\n",
            "3/3 [==============================] - 0s 5ms/step - loss: 0.7607 - accuracy: 0.5375\n",
            "Epoch 4/100\n",
            "3/3 [==============================] - 0s 4ms/step - loss: 0.7529 - accuracy: 0.5250\n",
            "Epoch 5/100\n",
            "3/3 [==============================] - 0s 5ms/step - loss: 0.7460 - accuracy: 0.5375\n",
            "Epoch 6/100\n",
            "3/3 [==============================] - 0s 4ms/step - loss: 0.7385 - accuracy: 0.5500\n",
            "Epoch 7/100\n",
            "3/3 [==============================] - 0s 5ms/step - loss: 0.7321 - accuracy: 0.5875\n",
            "Epoch 8/100\n",
            "3/3 [==============================] - 0s 5ms/step - loss: 0.7257 - accuracy: 0.6125\n",
            "Epoch 9/100\n",
            "3/3 [==============================] - 0s 5ms/step - loss: 0.7198 - accuracy: 0.6250\n",
            "Epoch 10/100\n",
            "3/3 [==============================] - 0s 4ms/step - loss: 0.7136 - accuracy: 0.6250\n",
            "Epoch 11/100\n",
            "3/3 [==============================] - 0s 4ms/step - loss: 0.7078 - accuracy: 0.6375\n",
            "Epoch 12/100\n",
            "3/3 [==============================] - 0s 4ms/step - loss: 0.7024 - accuracy: 0.6375\n",
            "Epoch 13/100\n",
            "3/3 [==============================] - 0s 5ms/step - loss: 0.6966 - accuracy: 0.6625\n",
            "Epoch 14/100\n",
            "3/3 [==============================] - 0s 5ms/step - loss: 0.6907 - accuracy: 0.6750\n",
            "Epoch 15/100\n",
            "3/3 [==============================] - 0s 4ms/step - loss: 0.6855 - accuracy: 0.6750\n",
            "Epoch 16/100\n",
            "3/3 [==============================] - 0s 5ms/step - loss: 0.6798 - accuracy: 0.6625\n",
            "Epoch 17/100\n",
            "3/3 [==============================] - 0s 4ms/step - loss: 0.6742 - accuracy: 0.6750\n",
            "Epoch 18/100\n",
            "3/3 [==============================] - 0s 4ms/step - loss: 0.6687 - accuracy: 0.6875\n",
            "Epoch 19/100\n",
            "3/3 [==============================] - 0s 6ms/step - loss: 0.6632 - accuracy: 0.6875\n",
            "Epoch 20/100\n",
            "3/3 [==============================] - 0s 4ms/step - loss: 0.6578 - accuracy: 0.6875\n",
            "Epoch 21/100\n",
            "3/3 [==============================] - 0s 9ms/step - loss: 0.6524 - accuracy: 0.6875\n",
            "Epoch 22/100\n",
            "3/3 [==============================] - 0s 6ms/step - loss: 0.6467 - accuracy: 0.6875\n",
            "Epoch 23/100\n",
            "3/3 [==============================] - 0s 5ms/step - loss: 0.6410 - accuracy: 0.7250\n",
            "Epoch 24/100\n",
            "3/3 [==============================] - 0s 4ms/step - loss: 0.6355 - accuracy: 0.7375\n",
            "Epoch 25/100\n",
            "3/3 [==============================] - 0s 4ms/step - loss: 0.6297 - accuracy: 0.7375\n",
            "Epoch 26/100\n",
            "3/3 [==============================] - 0s 4ms/step - loss: 0.6242 - accuracy: 0.7375\n",
            "Epoch 27/100\n",
            "3/3 [==============================] - 0s 8ms/step - loss: 0.6183 - accuracy: 0.7250\n",
            "Epoch 28/100\n",
            "3/3 [==============================] - 0s 6ms/step - loss: 0.6128 - accuracy: 0.7125\n",
            "Epoch 29/100\n",
            "3/3 [==============================] - 0s 6ms/step - loss: 0.6072 - accuracy: 0.7125\n",
            "Epoch 30/100\n",
            "3/3 [==============================] - 0s 5ms/step - loss: 0.6013 - accuracy: 0.7375\n",
            "Epoch 31/100\n",
            "3/3 [==============================] - 0s 6ms/step - loss: 0.5956 - accuracy: 0.7500\n",
            "Epoch 32/100\n",
            "3/3 [==============================] - 0s 4ms/step - loss: 0.5896 - accuracy: 0.7500\n",
            "Epoch 33/100\n",
            "3/3 [==============================] - 0s 8ms/step - loss: 0.5837 - accuracy: 0.7375\n",
            "Epoch 34/100\n",
            "3/3 [==============================] - 0s 5ms/step - loss: 0.5779 - accuracy: 0.7500\n",
            "Epoch 35/100\n",
            "3/3 [==============================] - 0s 6ms/step - loss: 0.5715 - accuracy: 0.7625\n",
            "Epoch 36/100\n",
            "3/3 [==============================] - 0s 4ms/step - loss: 0.5658 - accuracy: 0.7750\n",
            "Epoch 37/100\n",
            "3/3 [==============================] - 0s 5ms/step - loss: 0.5597 - accuracy: 0.8000\n",
            "Epoch 38/100\n",
            "3/3 [==============================] - 0s 6ms/step - loss: 0.5536 - accuracy: 0.8000\n",
            "Epoch 39/100\n",
            "3/3 [==============================] - 0s 7ms/step - loss: 0.5473 - accuracy: 0.8125\n",
            "Epoch 40/100\n",
            "3/3 [==============================] - 0s 6ms/step - loss: 0.5411 - accuracy: 0.8250\n",
            "Epoch 41/100\n",
            "3/3 [==============================] - 0s 4ms/step - loss: 0.5351 - accuracy: 0.8250\n",
            "Epoch 42/100\n",
            "3/3 [==============================] - 0s 4ms/step - loss: 0.5288 - accuracy: 0.8500\n",
            "Epoch 43/100\n",
            "3/3 [==============================] - 0s 4ms/step - loss: 0.5228 - accuracy: 0.8750\n",
            "Epoch 44/100\n",
            "3/3 [==============================] - 0s 7ms/step - loss: 0.5165 - accuracy: 0.9000\n",
            "Epoch 45/100\n",
            "3/3 [==============================] - 0s 4ms/step - loss: 0.5104 - accuracy: 0.9000\n",
            "Epoch 46/100\n",
            "3/3 [==============================] - 0s 10ms/step - loss: 0.5044 - accuracy: 0.9000\n",
            "Epoch 47/100\n",
            "3/3 [==============================] - 0s 4ms/step - loss: 0.4982 - accuracy: 0.9000\n",
            "Epoch 48/100\n",
            "3/3 [==============================] - 0s 4ms/step - loss: 0.4923 - accuracy: 0.9000\n",
            "Epoch 49/100\n",
            "3/3 [==============================] - 0s 4ms/step - loss: 0.4862 - accuracy: 0.9000\n",
            "Epoch 50/100\n",
            "3/3 [==============================] - 0s 3ms/step - loss: 0.4799 - accuracy: 0.9000\n",
            "Epoch 51/100\n",
            "3/3 [==============================] - 0s 4ms/step - loss: 0.4740 - accuracy: 0.9000\n",
            "Epoch 52/100\n",
            "3/3 [==============================] - 0s 6ms/step - loss: 0.4680 - accuracy: 0.9000\n",
            "Epoch 53/100\n",
            "3/3 [==============================] - 0s 5ms/step - loss: 0.4618 - accuracy: 0.9000\n",
            "Epoch 54/100\n",
            "3/3 [==============================] - 0s 4ms/step - loss: 0.4561 - accuracy: 0.9000\n",
            "Epoch 55/100\n",
            "3/3 [==============================] - 0s 4ms/step - loss: 0.4502 - accuracy: 0.9000\n",
            "Epoch 56/100\n",
            "3/3 [==============================] - 0s 6ms/step - loss: 0.4443 - accuracy: 0.9000\n",
            "Epoch 57/100\n",
            "3/3 [==============================] - 0s 5ms/step - loss: 0.4386 - accuracy: 0.9000\n",
            "Epoch 58/100\n",
            "3/3 [==============================] - 0s 5ms/step - loss: 0.4330 - accuracy: 0.9000\n",
            "Epoch 59/100\n",
            "3/3 [==============================] - 0s 3ms/step - loss: 0.4275 - accuracy: 0.9000\n",
            "Epoch 60/100\n",
            "3/3 [==============================] - 0s 6ms/step - loss: 0.4218 - accuracy: 0.9000\n",
            "Epoch 61/100\n",
            "3/3 [==============================] - 0s 4ms/step - loss: 0.4162 - accuracy: 0.9000\n",
            "Epoch 62/100\n",
            "3/3 [==============================] - 0s 4ms/step - loss: 0.4107 - accuracy: 0.9000\n",
            "Epoch 63/100\n",
            "3/3 [==============================] - 0s 4ms/step - loss: 0.4055 - accuracy: 0.9000\n",
            "Epoch 64/100\n",
            "3/3 [==============================] - 0s 4ms/step - loss: 0.4000 - accuracy: 0.9000\n",
            "Epoch 65/100\n",
            "3/3 [==============================] - 0s 4ms/step - loss: 0.3948 - accuracy: 0.9000\n",
            "Epoch 66/100\n",
            "3/3 [==============================] - 0s 4ms/step - loss: 0.3896 - accuracy: 0.9000\n",
            "Epoch 67/100\n",
            "3/3 [==============================] - 0s 4ms/step - loss: 0.3844 - accuracy: 0.9000\n",
            "Epoch 68/100\n",
            "3/3 [==============================] - 0s 3ms/step - loss: 0.3793 - accuracy: 0.9000\n",
            "Epoch 69/100\n",
            "3/3 [==============================] - 0s 4ms/step - loss: 0.3743 - accuracy: 0.9000\n",
            "Epoch 70/100\n",
            "3/3 [==============================] - 0s 4ms/step - loss: 0.3691 - accuracy: 0.9125\n",
            "Epoch 71/100\n",
            "3/3 [==============================] - 0s 4ms/step - loss: 0.3642 - accuracy: 0.9125\n",
            "Epoch 72/100\n",
            "3/3 [==============================] - 0s 7ms/step - loss: 0.3593 - accuracy: 0.9125\n",
            "Epoch 73/100\n",
            "3/3 [==============================] - 0s 5ms/step - loss: 0.3544 - accuracy: 0.9125\n",
            "Epoch 74/100\n",
            "3/3 [==============================] - 0s 5ms/step - loss: 0.3498 - accuracy: 0.9125\n",
            "Epoch 75/100\n",
            "3/3 [==============================] - 0s 5ms/step - loss: 0.3451 - accuracy: 0.9250\n",
            "Epoch 76/100\n",
            "3/3 [==============================] - 0s 11ms/step - loss: 0.3405 - accuracy: 0.9250\n",
            "Epoch 77/100\n",
            "3/3 [==============================] - 0s 5ms/step - loss: 0.3360 - accuracy: 0.9250\n",
            "Epoch 78/100\n",
            "3/3 [==============================] - 0s 5ms/step - loss: 0.3315 - accuracy: 0.9250\n",
            "Epoch 79/100\n",
            "3/3 [==============================] - 0s 5ms/step - loss: 0.3271 - accuracy: 0.9250\n",
            "Epoch 80/100\n",
            "3/3 [==============================] - 0s 6ms/step - loss: 0.3226 - accuracy: 0.9250\n",
            "Epoch 81/100\n",
            "3/3 [==============================] - 0s 6ms/step - loss: 0.3183 - accuracy: 0.9250\n",
            "Epoch 82/100\n",
            "3/3 [==============================] - 0s 7ms/step - loss: 0.3139 - accuracy: 0.9250\n",
            "Epoch 83/100\n",
            "3/3 [==============================] - 0s 6ms/step - loss: 0.3099 - accuracy: 0.9250\n",
            "Epoch 84/100\n",
            "3/3 [==============================] - 0s 8ms/step - loss: 0.3060 - accuracy: 0.9250\n",
            "Epoch 85/100\n",
            "3/3 [==============================] - 0s 3ms/step - loss: 0.3019 - accuracy: 0.9250\n",
            "Epoch 86/100\n",
            "3/3 [==============================] - 0s 5ms/step - loss: 0.2979 - accuracy: 0.9250\n",
            "Epoch 87/100\n",
            "3/3 [==============================] - 0s 7ms/step - loss: 0.2943 - accuracy: 0.9250\n",
            "Epoch 88/100\n",
            "3/3 [==============================] - 0s 5ms/step - loss: 0.2903 - accuracy: 0.9250\n",
            "Epoch 89/100\n",
            "3/3 [==============================] - 0s 5ms/step - loss: 0.2868 - accuracy: 0.9250\n",
            "Epoch 90/100\n",
            "3/3 [==============================] - 0s 5ms/step - loss: 0.2831 - accuracy: 0.9250\n",
            "Epoch 91/100\n",
            "3/3 [==============================] - 0s 5ms/step - loss: 0.2796 - accuracy: 0.9250\n",
            "Epoch 92/100\n",
            "3/3 [==============================] - 0s 6ms/step - loss: 0.2761 - accuracy: 0.9250\n",
            "Epoch 93/100\n",
            "3/3 [==============================] - 0s 6ms/step - loss: 0.2727 - accuracy: 0.9375\n",
            "Epoch 94/100\n",
            "3/3 [==============================] - 0s 5ms/step - loss: 0.2693 - accuracy: 0.9375\n",
            "Epoch 95/100\n",
            "3/3 [==============================] - 0s 5ms/step - loss: 0.2660 - accuracy: 0.9375\n",
            "Epoch 96/100\n",
            "3/3 [==============================] - 0s 4ms/step - loss: 0.2627 - accuracy: 0.9375\n",
            "Epoch 97/100\n",
            "3/3 [==============================] - 0s 6ms/step - loss: 0.2594 - accuracy: 0.9375\n",
            "Epoch 98/100\n",
            "3/3 [==============================] - 0s 5ms/step - loss: 0.2562 - accuracy: 0.9375\n",
            "Epoch 99/100\n",
            "3/3 [==============================] - 0s 4ms/step - loss: 0.2530 - accuracy: 0.9375\n",
            "Epoch 100/100\n",
            "3/3 [==============================] - 0s 4ms/step - loss: 0.2499 - accuracy: 0.9375\n"
          ]
        },
        {
          "output_type": "execute_result",
          "data": {
            "text/plain": [
              "<keras.callbacks.History at 0x7f0a97ea4cd0>"
            ]
          },
          "metadata": {},
          "execution_count": 29
        }
      ]
    },
    {
      "cell_type": "markdown",
      "source": [
        "Accuracy - 91.75%"
      ],
      "metadata": {
        "id": "cAV94824q0QA"
      }
    },
    {
      "cell_type": "code",
      "source": [
        "y_log = ann.predict(x_test)"
      ],
      "metadata": {
        "id": "N1uZkNvbKZaO",
        "outputId": "84f9ad17-b9d5-40f2-bdc2-c8ba0515c17d",
        "colab": {
          "base_uri": "https://localhost:8080/"
        }
      },
      "execution_count": null,
      "outputs": [
        {
          "output_type": "stream",
          "name": "stdout",
          "text": [
            "1/1 [==============================] - 0s 90ms/step\n"
          ]
        }
      ]
    },
    {
      "cell_type": "code",
      "source": [
        "y_pred = np.where(y_log>0.5,1,0)"
      ],
      "metadata": {
        "id": "kXTT3yYOKaCp"
      },
      "execution_count": null,
      "outputs": []
    },
    {
      "cell_type": "code",
      "source": [
        "from sklearn.metrics import accuracy_score\n",
        "ann = accuracy_score(y_test, y_pred)\n",
        "ann"
      ],
      "metadata": {
        "id": "izdtumDNLyiH",
        "outputId": "61a139a8-85b9-4b21-fe12-8dacb3fc437d",
        "colab": {
          "base_uri": "https://localhost:8080/"
        }
      },
      "execution_count": null,
      "outputs": [
        {
          "output_type": "execute_result",
          "data": {
            "text/plain": [
              "0.8571428571428571"
            ]
          },
          "metadata": {},
          "execution_count": 32
        }
      ]
    },
    {
      "cell_type": "code",
      "source": [
        "ann_accuracy = accuracy_score(y_test, y_pred)*100\n",
        "print(\"Accuracy of the Test data: \" + str(round(ann_accuracy, 2))+ '%')"
      ],
      "metadata": {
        "id": "iuLanm4ML1gg",
        "outputId": "ad12cbeb-b2fc-4693-82ba-d3446fd17a73",
        "colab": {
          "base_uri": "https://localhost:8080/"
        }
      },
      "execution_count": null,
      "outputs": [
        {
          "output_type": "stream",
          "name": "stdout",
          "text": [
            "Accuracy of the Test data: 85.71%\n"
          ]
        }
      ]
    },
    {
      "cell_type": "markdown",
      "source": [
        "Logistic Regression"
      ],
      "metadata": {
        "id": "gPyX649uL_aE"
      }
    },
    {
      "cell_type": "code",
      "source": [
        "from sklearn.linear_model import LogisticRegression\n",
        "from sklearn.metrics import accuracy_score\n",
        "model = LogisticRegression()\n",
        "# training the logistic regression model with training data\n",
        "model.fit(x_train, y_train)"
      ],
      "metadata": {
        "id": "IcroWxZ2L58E",
        "outputId": "d0dfddbc-a6cb-4d88-cfbc-28342220cfb0",
        "colab": {
          "base_uri": "https://localhost:8080/"
        }
      },
      "execution_count": null,
      "outputs": [
        {
          "output_type": "execute_result",
          "data": {
            "text/plain": [
              "LogisticRegression()"
            ]
          },
          "metadata": {},
          "execution_count": 34
        }
      ]
    },
    {
      "cell_type": "code",
      "source": [
        "# accuracy score\n",
        "# training data trd\n",
        "x_train_pred = model.predict(x_train)\n",
        "trd_accuracy = accuracy_score(x_train_pred, y_train)*100\n",
        "print(\"Accuracy of the Training data: \" + str(round(trd_accuracy, 2))+ '%')"
      ],
      "metadata": {
        "id": "44DsqTmXMIzU",
        "outputId": "0302e158-ca0f-4758-dc77-58dd9f1d72b7",
        "colab": {
          "base_uri": "https://localhost:8080/"
        }
      },
      "execution_count": null,
      "outputs": [
        {
          "output_type": "stream",
          "name": "stdout",
          "text": [
            "Accuracy of the Training data: 98.75%\n"
          ]
        }
      ]
    },
    {
      "cell_type": "code",
      "source": [
        "# test data ted\n",
        "x_test_pred = model.predict(x_test)\n",
        "ted_accuracy = accuracy_score(x_test_pred, y_test)*100\n",
        "print(\"Accuracy of the Test data: \" + str(round(ted_accuracy, 2)) + '%')"
      ],
      "metadata": {
        "id": "7hcrpMWTMMSy",
        "outputId": "558f9855-1f36-43fd-cfc0-a1e09b99e149",
        "colab": {
          "base_uri": "https://localhost:8080/"
        }
      },
      "execution_count": null,
      "outputs": [
        {
          "output_type": "stream",
          "name": "stdout",
          "text": [
            "Accuracy of the Test data: 85.71%\n"
          ]
        }
      ]
    },
    {
      "cell_type": "markdown",
      "source": [
        "SVM"
      ],
      "metadata": {
        "id": "mYTIKLzBM33D"
      }
    },
    {
      "cell_type": "code",
      "source": [
        "from sklearn.preprocessing import StandardScaler\n",
        "from sklearn.metrics import confusion_matrix, accuracy_score"
      ],
      "metadata": {
        "id": "rrPwfgtDMfO2"
      },
      "execution_count": null,
      "outputs": []
    },
    {
      "cell_type": "code",
      "source": [
        "sc = StandardScaler()"
      ],
      "metadata": {
        "id": "qS0fIzRUM7sD"
      },
      "execution_count": null,
      "outputs": []
    },
    {
      "cell_type": "code",
      "source": [
        "# training the model with training dataset\n",
        "x_train = sc.fit_transform(x_train)\n",
        "x_test = sc.fit_transform(x_test)"
      ],
      "metadata": {
        "id": "4u_Cs8FeM9jb"
      },
      "execution_count": null,
      "outputs": []
    },
    {
      "cell_type": "code",
      "source": [
        "print(x_train)"
      ],
      "metadata": {
        "id": "6xPrS28uM_mg",
        "outputId": "f184b4d0-768c-4749-909e-7a4ad8ba2b8d",
        "colab": {
          "base_uri": "https://localhost:8080/"
        }
      },
      "execution_count": null,
      "outputs": [
        {
          "output_type": "stream",
          "name": "stdout",
          "text": [
            "[[-1.12805611  0.97530483 -0.29484257  0.          0.52663889]\n",
            " [-0.83694486 -1.02532046  0.67135154  0.          0.00988684]\n",
            " [ 0.40027798  0.97530483 -0.35618822  0.         -0.35922177]\n",
            " [ 0.10916672  0.97530483 -0.92363555  0.         -0.86542787]\n",
            " [-1.20083393 -1.02532046  0.16524986  0.          1.56014301]\n",
            " [ 1.34638955 -1.02532046  0.08856779  0.          0.48445505]\n",
            " [ 1.49194518  0.97530483 -1.1843546   0.         -0.40140561]\n",
            " [-1.0552783   0.97530483  0.70202437  0.          0.98011519]\n",
            " [-0.03638891  0.97530483  2.7724403   0.          1.54959705]\n",
            " [-1.20083393 -1.02532046  0.62534229  0.          1.27540208]\n",
            " [-1.56472299 -1.02532046  2.78777671  0.          1.67614857]\n",
            " [-0.83694486  0.97530483 -0.77027141  0.         -1.08689304]\n",
            " [ 0.40027798  0.97530483  0.13457704  0.         -0.25376217]\n",
            " [ 0.25472235  0.97530483  0.19592269  0.          0.24189796]\n",
            " [ 1.0552783   0.97530483  0.21125911  0.          0.03097876]\n",
            " [ 1.85583425  0.97530483 -1.24570025  0.         -0.62287078]\n",
            " [ 0.83694486 -1.02532046  0.68668795  0.          0.06261664]\n",
            " [ 0.90972267  0.97530483 -0.35618822  0.         -0.35922177]\n",
            " [-0.83694486 -1.02532046  0.27260476  0.          0.05207068]\n",
            " [ 1.0552783   0.97530483 -0.77027141  0.          0.55827677]\n",
            " [-1.27361174  0.97530483 -0.92363555  0.         -0.73887635]\n",
            " [-1.34638955  0.97530483 -0.67825292  0.         -0.88651979]\n",
            " [-0.61861142 -1.02532046 -0.37152464  0.         -0.39085965]\n",
            " [-0.18194453  0.97530483 -0.00345069  0.          0.13643836]\n",
            " [-0.83694486 -1.02532046 -0.41753388  0.          0.10480048]\n",
            " [ 1.34638955 -1.02532046  1.99028317  0.          2.82565824]\n",
            " [-1.27361174  0.97530483 -0.75493499  0.         -1.19235264]\n",
            " [ 0.40027798 -1.02532046 -0.75493499  0.         -0.51741118]\n",
            " [-1.63750081 -1.02532046 -0.8622899   0.         -0.98143343]\n",
            " [ 0.98250049  0.97530483 -0.92363555  0.         -0.82324403]\n",
            " [-1.12805611  0.97530483  2.020956    0.          0.49500101]\n",
            " [ 0.47305579 -1.02532046 -0.47887954  0.         -0.50686522]\n",
            " [ 1.0552783   0.97530483 -0.52488878  0.          0.71646618]\n",
            " [ 0.25472235 -1.02532046 -0.55556161  0.         -0.91815767]\n",
            " [-1.12805611  0.97530483  1.43817225  0.          1.51795916]\n",
            " [ 0.25472235 -1.02532046  0.42596891  0.          0.91683943]\n",
            " [-0.98250049 -1.02532046  1.13144397  0.          1.20158035]\n",
            " [ 0.18194453 -1.02532046  0.54866022  0.         -1.03416323]\n",
            " [-0.47305579  0.97530483  0.91673417  0.          0.46336313]\n",
            " [-0.10916672 -1.02532046 -0.57089802  0.         -0.31703793]\n",
            " [ 0.18194453  0.97530483  0.79404285  0.          0.82192578]\n",
            " [-1.0552783   0.97530483 -1.12300894  0.         -1.31890416]\n",
            " [-1.12805611  0.97530483 -0.70892575  0.         -0.51741118]\n",
            " [ 1.0552783   0.97530483 -0.46354312  0.         -0.36976773]\n",
            " [-0.61861142  0.97530483 -0.83161707  0.         -1.13962284]\n",
            " [ 1.20083393  0.97530483 -1.00031762  0.         -1.42436377]\n",
            " [-1.20083393 -1.02532046 -1.03099045  0.         -1.08689304]\n",
            " [-1.41916737 -1.02532046 -0.83161707  0.         -1.11853092]\n",
            " [-0.76416704  0.97530483  3.43190611  0.          2.99439361]\n",
            " [-0.61861142 -1.02532046 -0.06479635  0.         -0.08502681]\n",
            " [-1.34638955  0.97530483  0.41063249  0.          0.67428234]\n",
            " [ 1.63750081  0.97530483 -1.04632687  0.         -0.41195158]\n",
            " [ 1.34638955 -1.02532046  0.39529608  0.          2.00307334]\n",
            " [ 0.98250049 -1.02532046  1.1621168   0.          0.7375581 ]\n",
            " [ 1.71027862  0.97530483 -0.84695348  0.         -1.06580112]\n",
            " [ 0.61861142 -1.02532046 -0.38686105  0.         -1.2028986 ]\n",
            " [-1.20083393 -1.02532046 -0.98498121  0.         -0.85488191]\n",
            " [ 0.61861142  0.97530483 -0.73959858  0.         -1.00252535]\n",
            " [ 0.98250049 -1.02532046 -0.69358934  0.          0.29462777]\n",
            " [ 0.40027798 -1.02532046  0.61000588  0.          0.58991466]\n",
            " [ 1.78305644 -1.02532046  0.34928684  0.         -0.28540005]\n",
            " [ 0.18194453 -1.02532046 -0.66291651  0.         -0.39085965]\n",
            " [ 1.56472299  0.97530483 -1.06166328  0.         -0.38031369]\n",
            " [-1.0552783  -1.02532046 -0.75493499  0.         -0.25376217]\n",
            " [-0.61861142 -1.02532046 -0.61690727  0.         -0.86542787]\n",
            " [ 0.25472235 -1.02532046 -0.95430838  0.         -0.90761171]\n",
            " [ 0.40027798 -1.02532046  0.97807982  0.          1.37031572]\n",
            " [ 0.98250049  0.97530483 -0.21816049  0.         -0.08502681]\n",
            " [-0.61861142 -1.02532046  0.97807982  0.          1.00120711]\n",
            " [-0.61861142  0.97530483 -0.78560782  0.         -0.88651979]\n",
            " [ 1.20083393 -1.02532046  1.71422771  0.          2.12962486]\n",
            " [-0.10916672 -1.02532046 -0.47887954  0.         -1.097439  ]\n",
            " [ 0.98250049  0.97530483  0.02722214  0.          0.51609293]\n",
            " [ 1.0552783   0.97530483  1.33081735  0.          1.2437642 ]\n",
            " [ 0.40027798 -1.02532046 -0.44820671  0.         -1.32945012]\n",
            " [ 1.20083393  0.97530483 -0.61690727  0.         -0.67560058]\n",
            " [-0.40027798  0.97530483 -0.17215125  0.          0.38954141]\n",
            " [-0.25472235 -1.02532046  0.14991345  0.         -0.73887635]\n",
            " [-1.12805611  0.97530483  1.74490054  0.          0.71646618]\n",
            " [-1.56472299 -1.02532046 -0.61690727  0.         -1.11853092]]\n"
          ]
        }
      ]
    },
    {
      "cell_type": "code",
      "source": [
        "print(x_test)"
      ],
      "metadata": {
        "id": "sKhTaNOlNBls",
        "outputId": "cdf29464-9957-418a-d5ef-cfa7fbf8b31a",
        "colab": {
          "base_uri": "https://localhost:8080/"
        }
      },
      "execution_count": null,
      "outputs": [
        {
          "output_type": "stream",
          "name": "stdout",
          "text": [
            "[[-1.95296196e+00 -9.53462589e-01 -4.78323241e-01  0.00000000e+00\n",
            "  -3.48009625e-01]\n",
            " [-6.23555117e-01  1.04880885e+00 -1.45380135e+00  0.00000000e+00\n",
            "  -1.25586082e+00]\n",
            " [-1.22178820e+00 -9.53462589e-01  1.18262597e+00  0.00000000e+00\n",
            "  -3.98224087e-17]\n",
            " [ 3.07029677e-01  1.04880885e+00 -1.61951964e-01  0.00000000e+00\n",
            "   3.93402185e-01]\n",
            " [-1.15531786e+00  1.04880885e+00  1.81536852e+00  0.00000000e+00\n",
            "   2.49659079e+00]\n",
            " [-1.02237717e+00  1.04880885e+00 -5.83780334e-01  0.00000000e+00\n",
            "  -8.01935223e-01]\n",
            " [ 1.10467379e+00 -9.53462589e-01  5.49883411e-01  0.00000000e+00\n",
            "   1.08942144e+00]\n",
            " [ 5.72911046e-01 -9.53462589e-01 -5.83780334e-01  0.00000000e+00\n",
            "  -4.38794745e-01]\n",
            " [ 9.71733101e-01 -9.53462589e-01  1.31444733e+00  0.00000000e+00\n",
            "   7.71673517e-01]\n",
            " [ 1.10467379e+00  1.04880885e+00  1.01690768e-01  0.00000000e+00\n",
            "  -2.72355359e-01]\n",
            " [ 4.39970361e-01 -9.53462589e-01 -1.00560870e+00  0.00000000e+00\n",
            "  -3.93402185e-01]\n",
            " [-1.22178820e+00  1.04880885e+00 -1.61951964e-01  0.00000000e+00\n",
            "   1.22559911e+00]\n",
            " [ 1.30408481e+00  1.04880885e+00  5.49883411e-01  0.00000000e+00\n",
            "   1.16507570e+00]\n",
            " [ 1.17114413e+00  1.04880885e+00  8.66254689e-01  0.00000000e+00\n",
            "   2.72355359e-01]\n",
            " [ 1.56996618e+00 -9.53462589e-01 -2.14680510e-01  0.00000000e+00\n",
            "  -4.38794745e-01]\n",
            " [-5.57084774e-01  1.04880885e+00 -1.03197298e+00  0.00000000e+00\n",
            "  -1.21046826e+00]\n",
            " [-2.53220352e-02 -9.53462589e-01  1.81536852e+00  0.00000000e+00\n",
            "   1.21046826e+00]\n",
            " [-2.24733062e-01 -9.53462589e-01  6.28976230e-01  0.00000000e+00\n",
            "  -1.33151509e+00]\n",
            " [ 3.73500019e-01 -9.53462589e-01 -8.21058792e-01  0.00000000e+00\n",
            "  -2.11831946e-01]\n",
            " [-1.15531786e+00  1.04880885e+00 -1.84926544e+00  0.00000000e+00\n",
            "  -1.37690765e+00]\n",
            " [ 2.40559334e-01 -9.53462589e-01 -4.78323241e-01  0.00000000e+00\n",
            "  -5.44710718e-01]]\n"
          ]
        }
      ]
    },
    {
      "cell_type": "markdown",
      "source": [
        "SVM"
      ],
      "metadata": {
        "id": "ZAwy3bzPOGx7"
      }
    },
    {
      "cell_type": "code",
      "source": [
        "from sklearn.svm import SVC\n",
        "svc = SVC(kernel = 'linear', random_state = 0)"
      ],
      "metadata": {
        "id": "2OuORaoyNFan"
      },
      "execution_count": null,
      "outputs": []
    },
    {
      "cell_type": "code",
      "source": [
        "svc.fit(x_train, y_train)"
      ],
      "metadata": {
        "id": "05st1eiWNIq1",
        "outputId": "dc0cee06-2fe4-453a-93ac-8e16e7c61c5c",
        "colab": {
          "base_uri": "https://localhost:8080/"
        }
      },
      "execution_count": null,
      "outputs": [
        {
          "output_type": "execute_result",
          "data": {
            "text/plain": [
              "SVC(kernel='linear', random_state=0)"
            ]
          },
          "metadata": {},
          "execution_count": 43
        }
      ]
    },
    {
      "cell_type": "code",
      "source": [
        "xtrain_svm_pred = svc.predict(x_train)"
      ],
      "metadata": {
        "id": "MLE-mgRlNLvr"
      },
      "execution_count": null,
      "outputs": []
    },
    {
      "cell_type": "code",
      "source": [
        "xtrain_svm_pred"
      ],
      "metadata": {
        "id": "4VEpel-WNOhW",
        "outputId": "049a0736-b345-46a8-8b28-8963de91633a",
        "colab": {
          "base_uri": "https://localhost:8080/"
        }
      },
      "execution_count": null,
      "outputs": [
        {
          "output_type": "execute_result",
          "data": {
            "text/plain": [
              "array([1, 1, 0, 0, 1, 1, 0, 1, 1, 1, 1, 0, 1, 1, 1, 0, 1, 0, 1, 0, 0, 0,\n",
              "       0, 1, 1, 1, 0, 0, 0, 0, 1, 0, 0, 0, 1, 1, 1, 1, 1, 0, 1, 0, 0, 0,\n",
              "       0, 0, 0, 0, 1, 1, 1, 0, 1, 1, 0, 0, 0, 0, 0, 1, 1, 0, 0, 0, 0, 0,\n",
              "       1, 0, 1, 0, 1, 0, 1, 1, 0, 0, 1, 1, 1, 0])"
            ]
          },
          "metadata": {},
          "execution_count": 45
        }
      ]
    },
    {
      "cell_type": "code",
      "source": [
        "confusion_matrix(y_train, xtrain_svm_pred)"
      ],
      "metadata": {
        "id": "K_pdQE8RNREf",
        "outputId": "864bcb57-e128-4212-ba36-58c091268204",
        "colab": {
          "base_uri": "https://localhost:8080/"
        }
      },
      "execution_count": null,
      "outputs": [
        {
          "output_type": "execute_result",
          "data": {
            "text/plain": [
              "array([[41,  1],\n",
              "       [ 1, 37]])"
            ]
          },
          "metadata": {},
          "execution_count": 46
        }
      ]
    },
    {
      "cell_type": "code",
      "source": [
        "accuracy_score(y_train, xtrain_svm_pred)\n",
        "svm_train_accuracy = accuracy_score(y_train, xtrain_svm_pred)*100\n",
        "print(\"Accuracy of training data is: \" + str(round(svm_train_accuracy, 2)) + '%')"
      ],
      "metadata": {
        "id": "t_ewvbi1NTqM",
        "outputId": "31c42e65-b8c2-4a3b-ad53-59a86fbd6e24",
        "colab": {
          "base_uri": "https://localhost:8080/"
        }
      },
      "execution_count": null,
      "outputs": [
        {
          "output_type": "stream",
          "name": "stdout",
          "text": [
            "Accuracy of training data is: 97.5%\n"
          ]
        }
      ]
    },
    {
      "cell_type": "code",
      "source": [
        "xtest_svm_pred = svc.predict(x_test)\n",
        "xtest_svm_pred"
      ],
      "metadata": {
        "id": "ugGtbFUCNWR1",
        "outputId": "42c02040-266a-4fbd-84b4-1c9d231d8f94",
        "colab": {
          "base_uri": "https://localhost:8080/"
        }
      },
      "execution_count": null,
      "outputs": [
        {
          "output_type": "execute_result",
          "data": {
            "text/plain": [
              "array([1, 0, 1, 1, 1, 0, 1, 0, 1, 1, 0, 1, 1, 1, 0, 0, 1, 1, 0, 0, 0])"
            ]
          },
          "metadata": {},
          "execution_count": 48
        }
      ]
    },
    {
      "cell_type": "code",
      "source": [
        "confusion_matrix(y_test, xtest_svm_pred)"
      ],
      "metadata": {
        "id": "0qf5R1qLNfx_",
        "outputId": "0cf1014b-8a3e-4283-882e-adf2cf6d2406",
        "colab": {
          "base_uri": "https://localhost:8080/"
        }
      },
      "execution_count": null,
      "outputs": [
        {
          "output_type": "execute_result",
          "data": {
            "text/plain": [
              "array([[ 8,  1],\n",
              "       [ 1, 11]])"
            ]
          },
          "metadata": {},
          "execution_count": 49
        }
      ]
    },
    {
      "cell_type": "code",
      "source": [
        "sns.heatmap(confusion_matrix(y_test,xtest_svm_pred), annot = True, fmt = \"d\")"
      ],
      "metadata": {
        "id": "OYF_y4xkNiiz",
        "outputId": "a777057e-2f7f-4490-9536-06959c0307e9",
        "colab": {
          "base_uri": "https://localhost:8080/",
          "height": 283
        }
      },
      "execution_count": null,
      "outputs": [
        {
          "output_type": "execute_result",
          "data": {
            "text/plain": [
              "<matplotlib.axes._subplots.AxesSubplot at 0x7f0a97e22e50>"
            ]
          },
          "metadata": {},
          "execution_count": 50
        },
        {
          "output_type": "display_data",
          "data": {
            "text/plain": [
              "<Figure size 432x288 with 2 Axes>"
            ],
            "image/png": "[encoded data removed]"
          },
          "metadata": {
            "needs_background": "light"
          }
        }
      ]
    },
    {
      "cell_type": "code",
      "source": [
        "accuracy_score(y_test, xtest_svm_pred)\n",
        "svm_test_accuracy = accuracy_score(y_test, xtest_svm_pred)*100\n",
        "print(\"Accuracy of the model or test data is: \" + str(round(svm_test_accuracy, 2)) + '%')"
      ],
      "metadata": {
        "id": "7f0gogEaNmui",
        "outputId": "f1474c23-8c04-4bbe-88d4-12f56cca5852",
        "colab": {
          "base_uri": "https://localhost:8080/"
        }
      },
      "execution_count": null,
      "outputs": [
        {
          "output_type": "stream",
          "name": "stdout",
          "text": [
            "Accuracy of the model or test data is: 90.48%\n"
          ]
        }
      ]
    },
    {
      "cell_type": "markdown",
      "source": [
        "Comparision between three models"
      ],
      "metadata": {
        "id": "AY9lJkOvNzmE"
      }
    },
    {
      "cell_type": "code",
      "source": [
        "model_compare = pd.DataFrame({\"Artificial Neural Network\":ann_accuracy,\n",
        "                              \"Logistic Regression\":ted_accuracy,\n",
        "                              \"Support Vector Machine\":svm_test_accuracy,}, index = [\"accuracy\"])\n",
        "model_compare"
      ],
      "metadata": {
        "id": "AekBwJiuNp-L",
        "outputId": "3e24bb49-9d54-406e-a129-dcf7bce1bdba",
        "colab": {
          "base_uri": "https://localhost:8080/",
          "height": 81
        }
      },
      "execution_count": null,
      "outputs": [
        {
          "output_type": "execute_result",
          "data": {
            "text/plain": [
              "          Artificial Neural Network  Logistic Regression  \\\n",
              "accuracy                  85.714286            85.714286   \n",
              "\n",
              "          Support Vector Machine  \n",
              "accuracy                90.47619  "
            ],
            "text/html": [
              "\n",
              "  <div id=\"df-65647690-fd0e-47e6-903f-234c56dbb64c\">\n",
              "    <div class=\"colab-df-container\">\n",
              "      <div>\n",
              "<style scoped>\n",
              "    .dataframe tbody tr th:only-of-type {\n",
              "        vertical-align: middle;\n",
              "    }\n",
              "\n",
              "    .dataframe tbody tr th {\n",
              "        vertical-align: top;\n",
              "    }\n",
              "\n",
              "    .dataframe thead th {\n",
              "        text-align: right;\n",
              "    }\n",
              "</style>\n",
              "<table border=\"1\" class=\"dataframe\">\n",
              "  <thead>\n",
              "    <tr style=\"text-align: right;\">\n",
              "      <th></th>\n",
              "      <th>Artificial Neural Network</th>\n",
              "      <th>Logistic Regression</th>\n",
              "      <th>Support Vector Machine</th>\n",
              "    </tr>\n",
              "  </thead>\n",
              "  <tbody>\n",
              "    <tr>\n",
              "      <th>accuracy</th>\n",
              "      <td>85.714286</td>\n",
              "      <td>85.714286</td>\n",
              "      <td>90.47619</td>\n",
              "    </tr>\n",
              "  </tbody>\n",
              "</table>\n",
              "</div>\n",
              "      <button class=\"colab-df-convert\" onclick=\"convertToInteractive('df-65647690-fd0e-47e6-903f-234c56dbb64c')\"\n",
              "              title=\"Convert this dataframe to an interactive table.\"\n",
              "              style=\"display:none;\">\n",
              "        \n",
              "  <svg xmlns=\"http://www.w3.org/2000/svg\" height=\"24px\"viewBox=\"0 0 24 24\"\n",
              "       width=\"24px\">\n",
              "    <path d=\"M0 0h24v24H0V0z\" fill=\"none\"/>\n",
              "    <path d=\"M18.56 5.44l.94 2.06.94-2.06 2.06-.94-2.06-.94-.94-2.06-.94 2.06-2.06.94zm-11 1L8.5 8.5l.94-2.06 2.06-.94-2.06-.94L8.5 2.5l-.94 2.06-2.06.94zm10 10l.94 2.06.94-2.06 2.06-.94-2.06-.94-.94-2.06-.94 2.06-2.06.94z\"/><path d=\"M17.41 7.96l-1.37-1.37c-.4-.4-.92-.59-1.43-.59-.52 0-1.04.2-1.43.59L10.3 9.45l-7.72 7.72c-.78.78-.78 2.05 0 2.83L4 21.41c.39.39.9.59 1.41.59.51 0 1.02-.2 1.41-.59l7.78-7.78 2.81-2.81c.8-.78.8-2.07 0-2.86zM5.41 20L4 18.59l7.72-7.72 1.47 1.35L5.41 20z\"/>\n",
              "  </svg>\n",
              "      </button>\n",
              "      \n",
              "  <style>\n",
              "    .colab-df-container {\n",
              "      display:flex;\n",
              "      flex-wrap:wrap;\n",
              "      gap: 12px;\n",
              "    }\n",
              "\n",
              "    .colab-df-convert {\n",
              "      background-color: #E8F0FE;\n",
              "      border: none;\n",
              "      border-radius: 50%;\n",
              "      cursor: pointer;\n",
              "      display: none;\n",
              "      fill: #1967D2;\n",
              "      height: 32px;\n",
              "      padding: 0 0 0 0;\n",
              "      width: 32px;\n",
              "    }\n",
              "\n",
              "    .colab-df-convert:hover {\n",
              "      background-color: #E2EBFA;\n",
              "      box-shadow: 0px 1px 2px rgba(60, 64, 67, 0.3), 0px 1px 3px 1px rgba(60, 64, 67, 0.15);\n",
              "      fill: #174EA6;\n",
              "    }\n",
              "\n",
              "    [theme=dark] .colab-df-convert {\n",
              "      background-color: #3B4455;\n",
              "      fill: #D2E3FC;\n",
              "    }\n",
              "\n",
              "    [theme=dark] .colab-df-convert:hover {\n",
              "      background-color: #434B5C;\n",
              "      box-shadow: 0px 1px 3px 1px rgba(0, 0, 0, 0.15);\n",
              "      filter: drop-shadow(0px 1px 2px rgba(0, 0, 0, 0.3));\n",
              "      fill: #FFFFFF;\n",
              "    }\n",
              "  </style>\n",
              "\n",
              "      <script>\n",
              "        const buttonEl =\n",
              "          document.querySelector('#df-65647690-fd0e-47e6-903f-234c56dbb64c button.colab-df-convert');\n",
              "        buttonEl.style.display =\n",
              "          google.colab.kernel.accessAllowed ? 'block' : 'none';\n",
              "\n",
              "        async function convertToInteractive(key) {\n",
              "          const element = document.querySelector('#df-65647690-fd0e-47e6-903f-234c56dbb64c');\n",
              "          const dataTable =\n",
              "            await google.colab.kernel.invokeFunction('convertToInteractive',\n",
              "                                                     [key], {});\n",
              "          if (!dataTable) return;\n",
              "\n",
              "          const docLinkHtml = 'Like what you see? Visit the ' +\n",
              "            '<a target=\"_blank\" href=https://colab.research.google.com/notebooks/data_table.ipynb>data table notebook</a>'\n",
              "            + ' to learn more about interactive tables.';\n",
              "          element.innerHTML = '';\n",
              "          dataTable['output_type'] = 'display_data';\n",
              "          await google.colab.output.renderOutput(dataTable, element);\n",
              "          const docLink = document.createElement('div');\n",
              "          docLink.innerHTML = docLinkHtml;\n",
              "          element.appendChild(docLink);\n",
              "        }\n",
              "      </script>\n",
              "    </div>\n",
              "  </div>\n",
              "  "
            ]
          },
          "metadata": {},
          "execution_count": 52
        }
      ]
    },
    {
      "cell_type": "code",
      "source": [],
      "metadata": {
        "id": "XpWJXLfaNwId"
      },
      "execution_count": null,
      "outputs": []
    }
  ]
}